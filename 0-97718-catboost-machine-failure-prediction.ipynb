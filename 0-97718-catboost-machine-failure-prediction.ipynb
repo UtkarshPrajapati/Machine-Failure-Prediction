{
 "cells": [
  {
   "cell_type": "markdown",
   "id": "7336e2ba",
   "metadata": {
    "papermill": {
     "duration": 0.010821,
     "end_time": "2023-06-15T14:06:26.899689",
     "exception": false,
     "start_time": "2023-06-15T14:06:26.888868",
     "status": "completed"
    },
    "tags": []
   },
   "source": [
    "# Importing Libraries"
   ]
  },
  {
   "cell_type": "code",
   "execution_count": 116,
   "id": "1b9612fb",
   "metadata": {
    "_cell_guid": "b1076dfc-b9ad-4769-8c92-a6c4dae69d19",
    "_uuid": "8f2839f25d086af736a60e9eeb907d3b93b6e0e5",
    "execution": {
     "iopub.execute_input": "2023-06-15T14:06:26.918864Z",
     "iopub.status.busy": "2023-06-15T14:06:26.918361Z",
     "iopub.status.idle": "2023-06-15T14:06:28.999970Z",
     "shell.execute_reply": "2023-06-15T14:06:28.998574Z"
    },
    "papermill": {
     "duration": 2.094699,
     "end_time": "2023-06-15T14:06:29.002987",
     "exception": false,
     "start_time": "2023-06-15T14:06:26.908288",
     "status": "completed"
    },
    "tags": []
   },
   "outputs": [],
   "source": [
    "import numpy as np\n",
    "import pandas as pd\n",
    "import matplotlib.pyplot as plt\n",
    "import seaborn as sns\n",
    "from catboost import Pool,CatBoostClassifier\n",
    "from sklearn.metrics import roc_auc_score as AUC\n",
    "import optuna"
   ]
  },
  {
   "cell_type": "code",
   "execution_count": 117,
   "id": "8b8255ed",
   "metadata": {
    "execution": {
     "iopub.execute_input": "2023-06-15T14:06:29.022587Z",
     "iopub.status.busy": "2023-06-15T14:06:29.021771Z",
     "iopub.status.idle": "2023-06-15T14:06:29.620201Z",
     "shell.execute_reply": "2023-06-15T14:06:29.619259Z"
    },
    "papermill": {
     "duration": 0.611157,
     "end_time": "2023-06-15T14:06:29.622861",
     "exception": false,
     "start_time": "2023-06-15T14:06:29.011704",
     "status": "completed"
    },
    "tags": []
   },
   "outputs": [],
   "source": [
    "train=pd.read_csv(\"train.csv\")\n",
    "original=pd.read_csv(\"machine failure.csv\")\n",
    "test=pd.read_csv(\"test.csv\")"
   ]
  },
  {
   "cell_type": "code",
   "execution_count": 118,
   "id": "47b73b0b",
   "metadata": {
    "execution": {
     "iopub.execute_input": "2023-06-15T14:06:29.642547Z",
     "iopub.status.busy": "2023-06-15T14:06:29.641547Z",
     "iopub.status.idle": "2023-06-15T14:06:29.653558Z",
     "shell.execute_reply": "2023-06-15T14:06:29.652152Z"
    },
    "papermill": {
     "duration": 0.025119,
     "end_time": "2023-06-15T14:06:29.656688",
     "exception": false,
     "start_time": "2023-06-15T14:06:29.631569",
     "status": "completed"
    },
    "tags": []
   },
   "outputs": [],
   "source": [
    "original.rename(columns = {'UDI':'id'}, inplace = True)"
   ]
  },
  {
   "cell_type": "code",
   "execution_count": 119,
   "id": "796bf319",
   "metadata": {
    "execution": {
     "iopub.execute_input": "2023-06-15T14:06:29.676062Z",
     "iopub.status.busy": "2023-06-15T14:06:29.675300Z",
     "iopub.status.idle": "2023-06-15T14:06:29.702239Z",
     "shell.execute_reply": "2023-06-15T14:06:29.701023Z"
    },
    "papermill": {
     "duration": 0.039411,
     "end_time": "2023-06-15T14:06:29.704859",
     "exception": false,
     "start_time": "2023-06-15T14:06:29.665448",
     "status": "completed"
    },
    "tags": []
   },
   "outputs": [],
   "source": [
    "train=train.drop('id',axis=1)\n",
    "test=test.drop('id',axis=1)\n",
    "original=original.drop('id',axis=1)"
   ]
  },
  {
   "cell_type": "markdown",
   "id": "3c00b8dc",
   "metadata": {
    "papermill": {
     "duration": 0.008289,
     "end_time": "2023-06-15T14:06:29.721915",
     "exception": false,
     "start_time": "2023-06-15T14:06:29.713626",
     "status": "completed"
    },
    "tags": []
   },
   "source": [
    "# EDA"
   ]
  },
  {
   "cell_type": "code",
   "execution_count": 120,
   "id": "cb01fe29",
   "metadata": {
    "execution": {
     "iopub.execute_input": "2023-06-15T14:06:29.740660Z",
     "iopub.status.busy": "2023-06-15T14:06:29.740253Z",
     "iopub.status.idle": "2023-06-15T14:06:29.850200Z",
     "shell.execute_reply": "2023-06-15T14:06:29.848618Z"
    },
    "papermill": {
     "duration": 0.122596,
     "end_time": "2023-06-15T14:06:29.852993",
     "exception": false,
     "start_time": "2023-06-15T14:06:29.730397",
     "status": "completed"
    },
    "tags": []
   },
   "outputs": [
    {
     "name": "stdout",
     "output_type": "stream",
     "text": [
      "<class 'pandas.core.frame.DataFrame'>\n",
      "RangeIndex: 136429 entries, 0 to 136428\n",
      "Data columns (total 13 columns):\n",
      " #   Column                   Non-Null Count   Dtype  \n",
      "---  ------                   --------------   -----  \n",
      " 0   Product ID               136429 non-null  object \n",
      " 1   Type                     136429 non-null  object \n",
      " 2   Air temperature [K]      136429 non-null  float64\n",
      " 3   Process temperature [K]  136429 non-null  float64\n",
      " 4   Rotational speed [rpm]   136429 non-null  int64  \n",
      " 5   Torque [Nm]              136429 non-null  float64\n",
      " 6   Tool wear [min]          136429 non-null  int64  \n",
      " 7   Machine failure          136429 non-null  int64  \n",
      " 8   TWF                      136429 non-null  int64  \n",
      " 9   HDF                      136429 non-null  int64  \n",
      " 10  PWF                      136429 non-null  int64  \n",
      " 11  OSF                      136429 non-null  int64  \n",
      " 12  RNF                      136429 non-null  int64  \n",
      "dtypes: float64(3), int64(8), object(2)\n",
      "memory usage: 13.5+ MB\n"
     ]
    }
   ],
   "source": [
    "train.info()"
   ]
  },
  {
   "cell_type": "code",
   "execution_count": 121,
   "id": "5e222342",
   "metadata": {
    "execution": {
     "iopub.execute_input": "2023-06-15T14:06:29.872554Z",
     "iopub.status.busy": "2023-06-15T14:06:29.872139Z",
     "iopub.status.idle": "2023-06-15T14:06:29.892154Z",
     "shell.execute_reply": "2023-06-15T14:06:29.890961Z"
    },
    "papermill": {
     "duration": 0.033044,
     "end_time": "2023-06-15T14:06:29.894878",
     "exception": false,
     "start_time": "2023-06-15T14:06:29.861834",
     "status": "completed"
    },
    "tags": []
   },
   "outputs": [
    {
     "data": {
      "text/plain": [
       "array(['L', 'M', 'H'], dtype=object)"
      ]
     },
     "execution_count": 121,
     "metadata": {},
     "output_type": "execute_result"
    }
   ],
   "source": [
    "train[\"Type\"].unique()"
   ]
  },
  {
   "cell_type": "code",
   "execution_count": 122,
   "id": "434378a5",
   "metadata": {
    "execution": {
     "iopub.execute_input": "2023-06-15T14:06:29.914545Z",
     "iopub.status.busy": "2023-06-15T14:06:29.914175Z",
     "iopub.status.idle": "2023-06-15T14:06:29.932424Z",
     "shell.execute_reply": "2023-06-15T14:06:29.931618Z"
    },
    "papermill": {
     "duration": 0.030766,
     "end_time": "2023-06-15T14:06:29.934715",
     "exception": false,
     "start_time": "2023-06-15T14:06:29.903949",
     "status": "completed"
    },
    "tags": []
   },
   "outputs": [
    {
     "name": "stdout",
     "output_type": "stream",
     "text": [
      "<class 'pandas.core.frame.DataFrame'>\n",
      "RangeIndex: 10000 entries, 0 to 9999\n",
      "Data columns (total 13 columns):\n",
      " #   Column                   Non-Null Count  Dtype  \n",
      "---  ------                   --------------  -----  \n",
      " 0   Product ID               10000 non-null  object \n",
      " 1   Type                     10000 non-null  object \n",
      " 2   Air temperature [K]      10000 non-null  float64\n",
      " 3   Process temperature [K]  10000 non-null  float64\n",
      " 4   Rotational speed [rpm]   10000 non-null  int64  \n",
      " 5   Torque [Nm]              10000 non-null  float64\n",
      " 6   Tool wear [min]          10000 non-null  int64  \n",
      " 7   Machine failure          10000 non-null  int64  \n",
      " 8   TWF                      10000 non-null  int64  \n",
      " 9   HDF                      10000 non-null  int64  \n",
      " 10  PWF                      10000 non-null  int64  \n",
      " 11  OSF                      10000 non-null  int64  \n",
      " 12  RNF                      10000 non-null  int64  \n",
      "dtypes: float64(3), int64(8), object(2)\n",
      "memory usage: 1015.8+ KB\n"
     ]
    }
   ],
   "source": [
    "original.info()"
   ]
  },
  {
   "cell_type": "code",
   "execution_count": 123,
   "id": "c75f4734",
   "metadata": {
    "execution": {
     "iopub.execute_input": "2023-06-15T14:06:29.956196Z",
     "iopub.status.busy": "2023-06-15T14:06:29.955144Z",
     "iopub.status.idle": "2023-06-15T14:06:31.451867Z",
     "shell.execute_reply": "2023-06-15T14:06:31.450775Z"
    },
    "papermill": {
     "duration": 1.510639,
     "end_time": "2023-06-15T14:06:31.454266",
     "exception": false,
     "start_time": "2023-06-15T14:06:29.943627",
     "status": "completed"
    },
    "tags": []
   },
   "outputs": [
    {
     "data": {
      "text/plain": [
       "Text(0.5, 1.0, 'Original')"
      ]
     },
     "execution_count": 123,
     "metadata": {},
     "output_type": "execute_result"
    },
    {
     "data": {
      "image/png": "[encoded data removed]",
      "text/plain": [
       "<Figure size 1000x300 with 2 Axes>"
      ]
     },
     "metadata": {},
     "output_type": "display_data"
    }
   ],
   "source": [
    "fig,axes=plt.subplots(1,2,figsize=(10,3))\n",
    "sns.kdeplot(ax=axes[0],x=\"Machine failure\",data=train,fill=True).set_title(\"Train\")\n",
    "sns.kdeplot(ax=axes[1],x=\"Machine failure\",data=original,fill=True).set_title(\"Original\")"
   ]
  },
  {
   "cell_type": "code",
   "execution_count": 124,
   "id": "e415c88c",
   "metadata": {
    "execution": {
     "iopub.execute_input": "2023-06-15T14:06:31.475946Z",
     "iopub.status.busy": "2023-06-15T14:06:31.474883Z",
     "iopub.status.idle": "2023-06-15T14:06:33.635473Z",
     "shell.execute_reply": "2023-06-15T14:06:33.634594Z"
    },
    "papermill": {
     "duration": 2.173924,
     "end_time": "2023-06-15T14:06:33.637797",
     "exception": false,
     "start_time": "2023-06-15T14:06:31.463873",
     "status": "completed"
    },
    "tags": []
   },
   "outputs": [
    {
     "data": {
      "text/plain": [
       "<Axes: >"
      ]
     },
     "execution_count": 124,
     "metadata": {},
     "output_type": "execute_result"
    },
    {
     "data": {
      "image/png": "[encoded data removed]",
      "text/plain": [
       "<Figure size 2800x1100 with 4 Axes>"
      ]
     },
     "metadata": {},
     "output_type": "display_data"
    }
   ],
   "source": [
    "fig,axes=plt.subplots(1,2,figsize=(28,11))\n",
    "sns.heatmap(ax=axes[0],data=train.corr(numeric_only=True),annot=True)\n",
    "sns.heatmap(ax=axes[1],data=original.corr(numeric_only=True),annot=True)"
   ]
  },
  {
   "cell_type": "markdown",
   "id": "24b8ad04",
   "metadata": {
    "papermill": {
     "duration": 0.012748,
     "end_time": "2023-06-15T14:06:33.663899",
     "exception": false,
     "start_time": "2023-06-15T14:06:33.651151",
     "status": "completed"
    },
    "tags": []
   },
   "source": [
    "# Expanding Dataset"
   ]
  },
  {
   "cell_type": "code",
   "execution_count": 125,
   "id": "547c3e62",
   "metadata": {
    "execution": {
     "iopub.execute_input": "2023-06-15T14:06:33.693324Z",
     "iopub.status.busy": "2023-06-15T14:06:33.692214Z",
     "iopub.status.idle": "2023-06-15T14:06:33.832805Z",
     "shell.execute_reply": "2023-06-15T14:06:33.831407Z"
    },
    "papermill": {
     "duration": 0.157452,
     "end_time": "2023-06-15T14:06:33.835015",
     "exception": false,
     "start_time": "2023-06-15T14:06:33.677563",
     "status": "completed"
    },
    "tags": []
   },
   "outputs": [
    {
     "name": "stdout",
     "output_type": "stream",
     "text": [
      "<class 'pandas.core.frame.DataFrame'>\n",
      "RangeIndex: 146429 entries, 0 to 146428\n",
      "Data columns (total 13 columns):\n",
      " #   Column                   Non-Null Count   Dtype  \n",
      "---  ------                   --------------   -----  \n",
      " 0   Product ID               146429 non-null  object \n",
      " 1   Type                     146429 non-null  object \n",
      " 2   Air temperature [K]      146429 non-null  float64\n",
      " 3   Process temperature [K]  146429 non-null  float64\n",
      " 4   Rotational speed [rpm]   146429 non-null  int64  \n",
      " 5   Torque [Nm]              146429 non-null  float64\n",
      " 6   Tool wear [min]          146429 non-null  int64  \n",
      " 7   Machine failure          146429 non-null  int64  \n",
      " 8   TWF                      146429 non-null  int64  \n",
      " 9   HDF                      146429 non-null  int64  \n",
      " 10  PWF                      146429 non-null  int64  \n",
      " 11  OSF                      146429 non-null  int64  \n",
      " 12  RNF                      146429 non-null  int64  \n",
      "dtypes: float64(3), int64(8), object(2)\n",
      "memory usage: 14.5+ MB\n"
     ]
    }
   ],
   "source": [
    "train=pd.concat([train, original], axis = 0).reset_index(drop = True)\n",
    "train.info()"
   ]
  },
  {
   "cell_type": "code",
   "execution_count": 126,
   "id": "8ca349aa",
   "metadata": {
    "execution": {
     "iopub.execute_input": "2023-06-15T14:06:33.863225Z",
     "iopub.status.busy": "2023-06-15T14:06:33.862793Z",
     "iopub.status.idle": "2023-06-15T14:06:34.829575Z",
     "shell.execute_reply": "2023-06-15T14:06:34.828324Z"
    },
    "papermill": {
     "duration": 0.983743,
     "end_time": "2023-06-15T14:06:34.832110",
     "exception": false,
     "start_time": "2023-06-15T14:06:33.848367",
     "status": "completed"
    },
    "tags": []
   },
   "outputs": [
    {
     "data": {
      "text/plain": [
       "<Axes: >"
      ]
     },
     "execution_count": 126,
     "metadata": {},
     "output_type": "execute_result"
    },
    {
     "data": {
      "image/png": "[encoded data removed]",
      "text/plain": [
       "<Figure size 1500x600 with 2 Axes>"
      ]
     },
     "metadata": {},
     "output_type": "display_data"
    }
   ],
   "source": [
    "plt.figure(figsize=(15,6))\n",
    "sns.heatmap(data=train.corr(numeric_only=True),annot=True)"
   ]
  },
  {
   "cell_type": "markdown",
   "id": "c619c182",
   "metadata": {
    "papermill": {
     "duration": 0.014955,
     "end_time": "2023-06-15T14:06:34.862284",
     "exception": false,
     "start_time": "2023-06-15T14:06:34.847329",
     "status": "completed"
    },
    "tags": []
   },
   "source": [
    "# Data Augumentation"
   ]
  },
  {
   "cell_type": "code",
   "execution_count": 127,
   "id": "87b3ac04",
   "metadata": {
    "execution": {
     "iopub.execute_input": "2023-06-15T14:06:34.893875Z",
     "iopub.status.busy": "2023-06-15T14:06:34.893471Z",
     "iopub.status.idle": "2023-06-15T14:06:34.901241Z",
     "shell.execute_reply": "2023-06-15T14:06:34.900440Z"
    },
    "papermill": {
     "duration": 0.026125,
     "end_time": "2023-06-15T14:06:34.903185",
     "exception": false,
     "start_time": "2023-06-15T14:06:34.877060",
     "status": "completed"
    },
    "tags": []
   },
   "outputs": [
    {
     "data": {
      "text/plain": [
       "Product ID                  object\n",
       "Type                        object\n",
       "Air temperature [K]        float64\n",
       "Process temperature [K]    float64\n",
       "Rotational speed [rpm]       int64\n",
       "Torque [Nm]                float64\n",
       "Tool wear [min]              int64\n",
       "Machine failure              int64\n",
       "TWF                          int64\n",
       "HDF                          int64\n",
       "PWF                          int64\n",
       "OSF                          int64\n",
       "RNF                          int64\n",
       "dtype: object"
      ]
     },
     "execution_count": 127,
     "metadata": {},
     "output_type": "execute_result"
    }
   ],
   "source": [
    "train.dtypes"
   ]
  },
  {
   "cell_type": "code",
   "execution_count": 128,
   "id": "7c574ba3",
   "metadata": {
    "execution": {
     "iopub.execute_input": "2023-06-15T14:06:34.935901Z",
     "iopub.status.busy": "2023-06-15T14:06:34.935486Z",
     "iopub.status.idle": "2023-06-15T14:06:34.941802Z",
     "shell.execute_reply": "2023-06-15T14:06:34.941084Z"
    },
    "papermill": {
     "duration": 0.025161,
     "end_time": "2023-06-15T14:06:34.943791",
     "exception": false,
     "start_time": "2023-06-15T14:06:34.918630",
     "status": "completed"
    },
    "tags": []
   },
   "outputs": [
    {
     "data": {
      "text/plain": [
       "['Product ID',\n",
       " 'Type',\n",
       " 'Air temperature [K]',\n",
       " 'Process temperature [K]',\n",
       " 'Rotational speed [rpm]',\n",
       " 'Torque [Nm]',\n",
       " 'Tool wear [min]',\n",
       " 'Machine failure',\n",
       " 'TWF',\n",
       " 'HDF',\n",
       " 'PWF',\n",
       " 'OSF',\n",
       " 'RNF']"
      ]
     },
     "execution_count": 128,
     "metadata": {},
     "output_type": "execute_result"
    }
   ],
   "source": [
    "train.columns.tolist()"
   ]
  },
  {
   "cell_type": "code",
   "execution_count": 129,
   "id": "74fd0720",
   "metadata": {
    "execution": {
     "iopub.execute_input": "2023-06-15T14:06:34.978205Z",
     "iopub.status.busy": "2023-06-15T14:06:34.977501Z",
     "iopub.status.idle": "2023-06-15T14:06:34.988281Z",
     "shell.execute_reply": "2023-06-15T14:06:34.987326Z"
    },
    "papermill": {
     "duration": 0.031587,
     "end_time": "2023-06-15T14:06:34.990589",
     "exception": false,
     "start_time": "2023-06-15T14:06:34.959002",
     "status": "completed"
    },
    "tags": []
   },
   "outputs": [
    {
     "data": {
      "text/plain": [
       "['Air temperature [K]',\n",
       " 'Process temperature [K]',\n",
       " 'Rotational speed [rpm]',\n",
       " 'Torque [Nm]',\n",
       " 'Tool wear [min]',\n",
       " 'Machine failure',\n",
       " 'TWF',\n",
       " 'HDF',\n",
       " 'PWF',\n",
       " 'OSF',\n",
       " 'RNF']"
      ]
     },
     "execution_count": 129,
     "metadata": {},
     "output_type": "execute_result"
    }
   ],
   "source": [
    "train.select_dtypes(include=['float64','int32','int64']).columns.tolist()"
   ]
  },
  {
   "cell_type": "code",
   "execution_count": 130,
   "id": "3698a18c",
   "metadata": {
    "execution": {
     "iopub.execute_input": "2023-06-15T14:06:35.023409Z",
     "iopub.status.busy": "2023-06-15T14:06:35.023023Z",
     "iopub.status.idle": "2023-06-15T14:06:35.057926Z",
     "shell.execute_reply": "2023-06-15T14:06:35.056864Z"
    },
    "papermill": {
     "duration": 0.054344,
     "end_time": "2023-06-15T14:06:35.060324",
     "exception": false,
     "start_time": "2023-06-15T14:06:35.005980",
     "status": "completed"
    },
    "tags": []
   },
   "outputs": [
    {
     "data": {
      "text/html": [
       "<div>\n",
       "<style scoped>\n",
       "    .dataframe tbody tr th:only-of-type {\n",
       "        vertical-align: middle;\n",
       "    }\n",
       "\n",
       "    .dataframe tbody tr th {\n",
       "        vertical-align: top;\n",
       "    }\n",
       "\n",
       "    .dataframe thead th {\n",
       "        text-align: right;\n",
       "    }\n",
       "</style>\n",
       "<table border=\"1\" class=\"dataframe\">\n",
       "  <thead>\n",
       "    <tr style=\"text-align: right;\">\n",
       "      <th></th>\n",
       "      <th>Product ID</th>\n",
       "      <th>Type</th>\n",
       "      <th>Air temperature [K]</th>\n",
       "      <th>Process temperature [K]</th>\n",
       "      <th>Rotational speed [rpm]</th>\n",
       "      <th>Torque [Nm]</th>\n",
       "      <th>Tool wear [min]</th>\n",
       "      <th>Machine failure</th>\n",
       "      <th>TWF</th>\n",
       "      <th>HDF</th>\n",
       "      <th>PWF</th>\n",
       "      <th>OSF</th>\n",
       "      <th>RNF</th>\n",
       "    </tr>\n",
       "  </thead>\n",
       "  <tbody>\n",
       "    <tr>\n",
       "      <th>0</th>\n",
       "      <td>L50096</td>\n",
       "      <td>L</td>\n",
       "      <td>300.6</td>\n",
       "      <td>309.6</td>\n",
       "      <td>1596</td>\n",
       "      <td>36.1</td>\n",
       "      <td>140</td>\n",
       "      <td>0</td>\n",
       "      <td>0</td>\n",
       "      <td>0</td>\n",
       "      <td>0</td>\n",
       "      <td>0</td>\n",
       "      <td>0</td>\n",
       "    </tr>\n",
       "    <tr>\n",
       "      <th>1</th>\n",
       "      <td>M20343</td>\n",
       "      <td>M</td>\n",
       "      <td>302.6</td>\n",
       "      <td>312.1</td>\n",
       "      <td>1759</td>\n",
       "      <td>29.1</td>\n",
       "      <td>200</td>\n",
       "      <td>0</td>\n",
       "      <td>0</td>\n",
       "      <td>0</td>\n",
       "      <td>0</td>\n",
       "      <td>0</td>\n",
       "      <td>0</td>\n",
       "    </tr>\n",
       "    <tr>\n",
       "      <th>2</th>\n",
       "      <td>L49454</td>\n",
       "      <td>L</td>\n",
       "      <td>299.3</td>\n",
       "      <td>308.5</td>\n",
       "      <td>1805</td>\n",
       "      <td>26.5</td>\n",
       "      <td>25</td>\n",
       "      <td>0</td>\n",
       "      <td>0</td>\n",
       "      <td>0</td>\n",
       "      <td>0</td>\n",
       "      <td>0</td>\n",
       "      <td>0</td>\n",
       "    </tr>\n",
       "    <tr>\n",
       "      <th>3</th>\n",
       "      <td>L53355</td>\n",
       "      <td>L</td>\n",
       "      <td>301.0</td>\n",
       "      <td>310.9</td>\n",
       "      <td>1524</td>\n",
       "      <td>44.3</td>\n",
       "      <td>197</td>\n",
       "      <td>0</td>\n",
       "      <td>0</td>\n",
       "      <td>0</td>\n",
       "      <td>0</td>\n",
       "      <td>0</td>\n",
       "      <td>0</td>\n",
       "    </tr>\n",
       "    <tr>\n",
       "      <th>4</th>\n",
       "      <td>M24050</td>\n",
       "      <td>M</td>\n",
       "      <td>298.0</td>\n",
       "      <td>309.0</td>\n",
       "      <td>1641</td>\n",
       "      <td>35.4</td>\n",
       "      <td>34</td>\n",
       "      <td>0</td>\n",
       "      <td>0</td>\n",
       "      <td>0</td>\n",
       "      <td>0</td>\n",
       "      <td>0</td>\n",
       "      <td>0</td>\n",
       "    </tr>\n",
       "    <tr>\n",
       "      <th>...</th>\n",
       "      <td>...</td>\n",
       "      <td>...</td>\n",
       "      <td>...</td>\n",
       "      <td>...</td>\n",
       "      <td>...</td>\n",
       "      <td>...</td>\n",
       "      <td>...</td>\n",
       "      <td>...</td>\n",
       "      <td>...</td>\n",
       "      <td>...</td>\n",
       "      <td>...</td>\n",
       "      <td>...</td>\n",
       "      <td>...</td>\n",
       "    </tr>\n",
       "    <tr>\n",
       "      <th>146424</th>\n",
       "      <td>M24855</td>\n",
       "      <td>M</td>\n",
       "      <td>298.8</td>\n",
       "      <td>308.4</td>\n",
       "      <td>1604</td>\n",
       "      <td>29.5</td>\n",
       "      <td>14</td>\n",
       "      <td>0</td>\n",
       "      <td>0</td>\n",
       "      <td>0</td>\n",
       "      <td>0</td>\n",
       "      <td>0</td>\n",
       "      <td>0</td>\n",
       "    </tr>\n",
       "    <tr>\n",
       "      <th>146425</th>\n",
       "      <td>H39410</td>\n",
       "      <td>H</td>\n",
       "      <td>298.9</td>\n",
       "      <td>308.4</td>\n",
       "      <td>1632</td>\n",
       "      <td>31.8</td>\n",
       "      <td>17</td>\n",
       "      <td>0</td>\n",
       "      <td>0</td>\n",
       "      <td>0</td>\n",
       "      <td>0</td>\n",
       "      <td>0</td>\n",
       "      <td>0</td>\n",
       "    </tr>\n",
       "    <tr>\n",
       "      <th>146426</th>\n",
       "      <td>M24857</td>\n",
       "      <td>M</td>\n",
       "      <td>299.0</td>\n",
       "      <td>308.6</td>\n",
       "      <td>1645</td>\n",
       "      <td>33.4</td>\n",
       "      <td>22</td>\n",
       "      <td>0</td>\n",
       "      <td>0</td>\n",
       "      <td>0</td>\n",
       "      <td>0</td>\n",
       "      <td>0</td>\n",
       "      <td>0</td>\n",
       "    </tr>\n",
       "    <tr>\n",
       "      <th>146427</th>\n",
       "      <td>H39412</td>\n",
       "      <td>H</td>\n",
       "      <td>299.0</td>\n",
       "      <td>308.7</td>\n",
       "      <td>1408</td>\n",
       "      <td>48.5</td>\n",
       "      <td>25</td>\n",
       "      <td>0</td>\n",
       "      <td>0</td>\n",
       "      <td>0</td>\n",
       "      <td>0</td>\n",
       "      <td>0</td>\n",
       "      <td>0</td>\n",
       "    </tr>\n",
       "    <tr>\n",
       "      <th>146428</th>\n",
       "      <td>M24859</td>\n",
       "      <td>M</td>\n",
       "      <td>299.0</td>\n",
       "      <td>308.7</td>\n",
       "      <td>1500</td>\n",
       "      <td>40.2</td>\n",
       "      <td>30</td>\n",
       "      <td>0</td>\n",
       "      <td>0</td>\n",
       "      <td>0</td>\n",
       "      <td>0</td>\n",
       "      <td>0</td>\n",
       "      <td>0</td>\n",
       "    </tr>\n",
       "  </tbody>\n",
       "</table>\n",
       "<p>146429 rows × 13 columns</p>\n",
       "</div>"
      ],
      "text/plain": [
       "       Product ID Type  Air temperature [K]  Process temperature [K]  \\\n",
       "0          L50096    L                300.6                    309.6   \n",
       "1          M20343    M                302.6                    312.1   \n",
       "2          L49454    L                299.3                    308.5   \n",
       "3          L53355    L                301.0                    310.9   \n",
       "4          M24050    M                298.0                    309.0   \n",
       "...           ...  ...                  ...                      ...   \n",
       "146424     M24855    M                298.8                    308.4   \n",
       "146425     H39410    H                298.9                    308.4   \n",
       "146426     M24857    M                299.0                    308.6   \n",
       "146427     H39412    H                299.0                    308.7   \n",
       "146428     M24859    M                299.0                    308.7   \n",
       "\n",
       "        Rotational speed [rpm]  Torque [Nm]  Tool wear [min]  Machine failure  \\\n",
       "0                         1596         36.1              140                0   \n",
       "1                         1759         29.1              200                0   \n",
       "2                         1805         26.5               25                0   \n",
       "3                         1524         44.3              197                0   \n",
       "4                         1641         35.4               34                0   \n",
       "...                        ...          ...              ...              ...   \n",
       "146424                    1604         29.5               14                0   \n",
       "146425                    1632         31.8               17                0   \n",
       "146426                    1645         33.4               22                0   \n",
       "146427                    1408         48.5               25                0   \n",
       "146428                    1500         40.2               30                0   \n",
       "\n",
       "        TWF  HDF  PWF  OSF  RNF  \n",
       "0         0    0    0    0    0  \n",
       "1         0    0    0    0    0  \n",
       "2         0    0    0    0    0  \n",
       "3         0    0    0    0    0  \n",
       "4         0    0    0    0    0  \n",
       "...     ...  ...  ...  ...  ...  \n",
       "146424    0    0    0    0    0  \n",
       "146425    0    0    0    0    0  \n",
       "146426    0    0    0    0    0  \n",
       "146427    0    0    0    0    0  \n",
       "146428    0    0    0    0    0  \n",
       "\n",
       "[146429 rows x 13 columns]"
      ]
     },
     "execution_count": 130,
     "metadata": {},
     "output_type": "execute_result"
    }
   ],
   "source": [
    "train"
   ]
  },
  {
   "cell_type": "markdown",
   "id": "b6b71f48",
   "metadata": {
    "papermill": {
     "duration": 0.016332,
     "end_time": "2023-06-15T14:06:35.093451",
     "exception": false,
     "start_time": "2023-06-15T14:06:35.077119",
     "status": "completed"
    },
    "tags": []
   },
   "source": [
    "# Model Creation"
   ]
  },
  {
   "cell_type": "code",
   "execution_count": 131,
   "id": "09f8ccd1",
   "metadata": {
    "execution": {
     "iopub.execute_input": "2023-06-15T14:06:35.127734Z",
     "iopub.status.busy": "2023-06-15T14:06:35.127329Z",
     "iopub.status.idle": "2023-06-15T14:06:35.138723Z",
     "shell.execute_reply": "2023-06-15T14:06:35.137577Z"
    },
    "papermill": {
     "duration": 0.031744,
     "end_time": "2023-06-15T14:06:35.141412",
     "exception": false,
     "start_time": "2023-06-15T14:06:35.109668",
     "status": "completed"
    },
    "tags": []
   },
   "outputs": [],
   "source": [
    "X=train.drop(columns=[\"Machine failure\"])\n",
    "Y=train['Machine failure']"
   ]
  },
  {
   "cell_type": "code",
   "execution_count": 132,
   "id": "661bba3c",
   "metadata": {
    "execution": {
     "iopub.execute_input": "2023-06-15T14:06:35.176270Z",
     "iopub.status.busy": "2023-06-15T14:06:35.175856Z",
     "iopub.status.idle": "2023-06-15T14:06:35.199282Z",
     "shell.execute_reply": "2023-06-15T14:06:35.197968Z"
    },
    "papermill": {
     "duration": 0.044113,
     "end_time": "2023-06-15T14:06:35.201930",
     "exception": false,
     "start_time": "2023-06-15T14:06:35.157817",
     "status": "completed"
    },
    "tags": []
   },
   "outputs": [
    {
     "data": {
      "text/html": [
       "<div>\n",
       "<style scoped>\n",
       "    .dataframe tbody tr th:only-of-type {\n",
       "        vertical-align: middle;\n",
       "    }\n",
       "\n",
       "    .dataframe tbody tr th {\n",
       "        vertical-align: top;\n",
       "    }\n",
       "\n",
       "    .dataframe thead th {\n",
       "        text-align: right;\n",
       "    }\n",
       "</style>\n",
       "<table border=\"1\" class=\"dataframe\">\n",
       "  <thead>\n",
       "    <tr style=\"text-align: right;\">\n",
       "      <th></th>\n",
       "      <th>Product ID</th>\n",
       "      <th>Type</th>\n",
       "      <th>Air temperature [K]</th>\n",
       "      <th>Process temperature [K]</th>\n",
       "      <th>Rotational speed [rpm]</th>\n",
       "      <th>Torque [Nm]</th>\n",
       "      <th>Tool wear [min]</th>\n",
       "      <th>TWF</th>\n",
       "      <th>HDF</th>\n",
       "      <th>PWF</th>\n",
       "      <th>OSF</th>\n",
       "      <th>RNF</th>\n",
       "    </tr>\n",
       "  </thead>\n",
       "  <tbody>\n",
       "    <tr>\n",
       "      <th>0</th>\n",
       "      <td>L50096</td>\n",
       "      <td>L</td>\n",
       "      <td>300.6</td>\n",
       "      <td>309.6</td>\n",
       "      <td>1596</td>\n",
       "      <td>36.1</td>\n",
       "      <td>140</td>\n",
       "      <td>0</td>\n",
       "      <td>0</td>\n",
       "      <td>0</td>\n",
       "      <td>0</td>\n",
       "      <td>0</td>\n",
       "    </tr>\n",
       "    <tr>\n",
       "      <th>1</th>\n",
       "      <td>M20343</td>\n",
       "      <td>M</td>\n",
       "      <td>302.6</td>\n",
       "      <td>312.1</td>\n",
       "      <td>1759</td>\n",
       "      <td>29.1</td>\n",
       "      <td>200</td>\n",
       "      <td>0</td>\n",
       "      <td>0</td>\n",
       "      <td>0</td>\n",
       "      <td>0</td>\n",
       "      <td>0</td>\n",
       "    </tr>\n",
       "    <tr>\n",
       "      <th>2</th>\n",
       "      <td>L49454</td>\n",
       "      <td>L</td>\n",
       "      <td>299.3</td>\n",
       "      <td>308.5</td>\n",
       "      <td>1805</td>\n",
       "      <td>26.5</td>\n",
       "      <td>25</td>\n",
       "      <td>0</td>\n",
       "      <td>0</td>\n",
       "      <td>0</td>\n",
       "      <td>0</td>\n",
       "      <td>0</td>\n",
       "    </tr>\n",
       "    <tr>\n",
       "      <th>3</th>\n",
       "      <td>L53355</td>\n",
       "      <td>L</td>\n",
       "      <td>301.0</td>\n",
       "      <td>310.9</td>\n",
       "      <td>1524</td>\n",
       "      <td>44.3</td>\n",
       "      <td>197</td>\n",
       "      <td>0</td>\n",
       "      <td>0</td>\n",
       "      <td>0</td>\n",
       "      <td>0</td>\n",
       "      <td>0</td>\n",
       "    </tr>\n",
       "    <tr>\n",
       "      <th>4</th>\n",
       "      <td>M24050</td>\n",
       "      <td>M</td>\n",
       "      <td>298.0</td>\n",
       "      <td>309.0</td>\n",
       "      <td>1641</td>\n",
       "      <td>35.4</td>\n",
       "      <td>34</td>\n",
       "      <td>0</td>\n",
       "      <td>0</td>\n",
       "      <td>0</td>\n",
       "      <td>0</td>\n",
       "      <td>0</td>\n",
       "    </tr>\n",
       "    <tr>\n",
       "      <th>...</th>\n",
       "      <td>...</td>\n",
       "      <td>...</td>\n",
       "      <td>...</td>\n",
       "      <td>...</td>\n",
       "      <td>...</td>\n",
       "      <td>...</td>\n",
       "      <td>...</td>\n",
       "      <td>...</td>\n",
       "      <td>...</td>\n",
       "      <td>...</td>\n",
       "      <td>...</td>\n",
       "      <td>...</td>\n",
       "    </tr>\n",
       "    <tr>\n",
       "      <th>146424</th>\n",
       "      <td>M24855</td>\n",
       "      <td>M</td>\n",
       "      <td>298.8</td>\n",
       "      <td>308.4</td>\n",
       "      <td>1604</td>\n",
       "      <td>29.5</td>\n",
       "      <td>14</td>\n",
       "      <td>0</td>\n",
       "      <td>0</td>\n",
       "      <td>0</td>\n",
       "      <td>0</td>\n",
       "      <td>0</td>\n",
       "    </tr>\n",
       "    <tr>\n",
       "      <th>146425</th>\n",
       "      <td>H39410</td>\n",
       "      <td>H</td>\n",
       "      <td>298.9</td>\n",
       "      <td>308.4</td>\n",
       "      <td>1632</td>\n",
       "      <td>31.8</td>\n",
       "      <td>17</td>\n",
       "      <td>0</td>\n",
       "      <td>0</td>\n",
       "      <td>0</td>\n",
       "      <td>0</td>\n",
       "      <td>0</td>\n",
       "    </tr>\n",
       "    <tr>\n",
       "      <th>146426</th>\n",
       "      <td>M24857</td>\n",
       "      <td>M</td>\n",
       "      <td>299.0</td>\n",
       "      <td>308.6</td>\n",
       "      <td>1645</td>\n",
       "      <td>33.4</td>\n",
       "      <td>22</td>\n",
       "      <td>0</td>\n",
       "      <td>0</td>\n",
       "      <td>0</td>\n",
       "      <td>0</td>\n",
       "      <td>0</td>\n",
       "    </tr>\n",
       "    <tr>\n",
       "      <th>146427</th>\n",
       "      <td>H39412</td>\n",
       "      <td>H</td>\n",
       "      <td>299.0</td>\n",
       "      <td>308.7</td>\n",
       "      <td>1408</td>\n",
       "      <td>48.5</td>\n",
       "      <td>25</td>\n",
       "      <td>0</td>\n",
       "      <td>0</td>\n",
       "      <td>0</td>\n",
       "      <td>0</td>\n",
       "      <td>0</td>\n",
       "    </tr>\n",
       "    <tr>\n",
       "      <th>146428</th>\n",
       "      <td>M24859</td>\n",
       "      <td>M</td>\n",
       "      <td>299.0</td>\n",
       "      <td>308.7</td>\n",
       "      <td>1500</td>\n",
       "      <td>40.2</td>\n",
       "      <td>30</td>\n",
       "      <td>0</td>\n",
       "      <td>0</td>\n",
       "      <td>0</td>\n",
       "      <td>0</td>\n",
       "      <td>0</td>\n",
       "    </tr>\n",
       "  </tbody>\n",
       "</table>\n",
       "<p>146429 rows × 12 columns</p>\n",
       "</div>"
      ],
      "text/plain": [
       "       Product ID Type  Air temperature [K]  Process temperature [K]  \\\n",
       "0          L50096    L                300.6                    309.6   \n",
       "1          M20343    M                302.6                    312.1   \n",
       "2          L49454    L                299.3                    308.5   \n",
       "3          L53355    L                301.0                    310.9   \n",
       "4          M24050    M                298.0                    309.0   \n",
       "...           ...  ...                  ...                      ...   \n",
       "146424     M24855    M                298.8                    308.4   \n",
       "146425     H39410    H                298.9                    308.4   \n",
       "146426     M24857    M                299.0                    308.6   \n",
       "146427     H39412    H                299.0                    308.7   \n",
       "146428     M24859    M                299.0                    308.7   \n",
       "\n",
       "        Rotational speed [rpm]  Torque [Nm]  Tool wear [min]  TWF  HDF  PWF  \\\n",
       "0                         1596         36.1              140    0    0    0   \n",
       "1                         1759         29.1              200    0    0    0   \n",
       "2                         1805         26.5               25    0    0    0   \n",
       "3                         1524         44.3              197    0    0    0   \n",
       "4                         1641         35.4               34    0    0    0   \n",
       "...                        ...          ...              ...  ...  ...  ...   \n",
       "146424                    1604         29.5               14    0    0    0   \n",
       "146425                    1632         31.8               17    0    0    0   \n",
       "146426                    1645         33.4               22    0    0    0   \n",
       "146427                    1408         48.5               25    0    0    0   \n",
       "146428                    1500         40.2               30    0    0    0   \n",
       "\n",
       "        OSF  RNF  \n",
       "0         0    0  \n",
       "1         0    0  \n",
       "2         0    0  \n",
       "3         0    0  \n",
       "4         0    0  \n",
       "...     ...  ...  \n",
       "146424    0    0  \n",
       "146425    0    0  \n",
       "146426    0    0  \n",
       "146427    0    0  \n",
       "146428    0    0  \n",
       "\n",
       "[146429 rows x 12 columns]"
      ]
     },
     "execution_count": 132,
     "metadata": {},
     "output_type": "execute_result"
    }
   ],
   "source": [
    "X"
   ]
  },
  {
   "cell_type": "code",
   "execution_count": 133,
   "id": "ceacd26c",
   "metadata": {
    "execution": {
     "iopub.execute_input": "2023-06-15T14:06:35.236890Z",
     "iopub.status.busy": "2023-06-15T14:06:35.236501Z",
     "iopub.status.idle": "2023-06-15T14:06:35.245294Z",
     "shell.execute_reply": "2023-06-15T14:06:35.244178Z"
    },
    "papermill": {
     "duration": 0.02872,
     "end_time": "2023-06-15T14:06:35.247496",
     "exception": false,
     "start_time": "2023-06-15T14:06:35.218776",
     "status": "completed"
    },
    "tags": []
   },
   "outputs": [
    {
     "data": {
      "text/plain": [
       "0         0\n",
       "1         0\n",
       "2         0\n",
       "3         0\n",
       "4         0\n",
       "         ..\n",
       "146424    0\n",
       "146425    0\n",
       "146426    0\n",
       "146427    0\n",
       "146428    0\n",
       "Name: Machine failure, Length: 146429, dtype: int64"
      ]
     },
     "execution_count": 133,
     "metadata": {},
     "output_type": "execute_result"
    }
   ],
   "source": [
    "Y"
   ]
  },
  {
   "cell_type": "code",
   "execution_count": 134,
   "id": "9f86765e",
   "metadata": {
    "execution": {
     "iopub.execute_input": "2023-06-15T14:06:35.283537Z",
     "iopub.status.busy": "2023-06-15T14:06:35.282690Z",
     "iopub.status.idle": "2023-06-15T14:07:53.887881Z",
     "shell.execute_reply": "2023-06-15T14:07:53.886417Z"
    },
    "papermill": {
     "duration": 78.62646,
     "end_time": "2023-06-15T14:07:53.890875",
     "exception": false,
     "start_time": "2023-06-15T14:06:35.264415",
     "status": "completed"
    },
    "tags": []
   },
   "outputs": [
    {
     "data": {
      "application/vnd.jupyter.widget-view+json": {
       "model_id": "23b215564b9744bb81c1a7fe7ced94fd",
       "version_major": 2,
       "version_minor": 0
      },
      "text/plain": [
       "MetricVisualizer(layout=Layout(align_self='stretch', height='500px'))"
      ]
     },
     "metadata": {},
     "output_type": "display_data"
    },
    {
     "data": {
      "text/plain": [
       "<catboost.core.CatBoostClassifier at 0x16265fdd870>"
      ]
     },
     "execution_count": 134,
     "metadata": {},
     "output_type": "execute_result"
    }
   ],
   "source": [
    "params ={'loss_function': 'Logloss','eval_metric': 'AUC','random_seed': 19970507,'learning_rate': 0.2373428829418096, 'iterations': 2000, 'depth': 6, 'subsample': 0.5227705614428807}\n",
    "feature_names = ['Product ID','Type','Air temperature [K]','Process temperature [K]',\n",
    "                 'Rotational speed [rpm]','Torque [Nm]','Tool wear [min]','TWF','HDF','PWF','OSF','RNF']\n",
    "train_pool = Pool(X.to_numpy(), Y.to_numpy(), feature_names = feature_names, cat_features = ['Product ID', 'Type'])\n",
    "model = CatBoostClassifier(**params)\n",
    "model.fit(train_pool, eval_set=train_pool, verbose=False, plot=True)"
   ]
  },
  {
   "cell_type": "code",
   "execution_count": 135,
   "id": "7bbc68d9",
   "metadata": {
    "execution": {
     "iopub.execute_input": "2023-06-15T14:07:53.927778Z",
     "iopub.status.busy": "2023-06-15T14:07:53.927384Z",
     "iopub.status.idle": "2023-06-15T14:07:54.576896Z",
     "shell.execute_reply": "2023-06-15T14:07:54.575732Z"
    },
    "papermill": {
     "duration": 0.670763,
     "end_time": "2023-06-15T14:07:54.579516",
     "exception": false,
     "start_time": "2023-06-15T14:07:53.908753",
     "status": "completed"
    },
    "tags": []
   },
   "outputs": [],
   "source": [
    "test_pool = Pool(test.to_numpy(), feature_names=feature_names, cat_features = ['Product ID', 'Type'])\n",
    "pred = model.predict_proba(test_pool)[:,1]"
   ]
  },
  {
   "cell_type": "code",
   "execution_count": 136,
   "id": "a7be2745",
   "metadata": {
    "execution": {
     "iopub.execute_input": "2023-06-15T14:07:54.616419Z",
     "iopub.status.busy": "2023-06-15T14:07:54.615652Z",
     "iopub.status.idle": "2023-06-15T14:07:55.016454Z",
     "shell.execute_reply": "2023-06-15T14:07:55.015159Z"
    },
    "papermill": {
     "duration": 0.422101,
     "end_time": "2023-06-15T14:07:55.019017",
     "exception": false,
     "start_time": "2023-06-15T14:07:54.596916",
     "status": "completed"
    },
    "tags": []
   },
   "outputs": [
    {
     "name": "stdout",
     "output_type": "stream",
     "text": [
      "Train Score: 0.9437832729135522\n"
     ]
    }
   ],
   "source": [
    "print(\"Train Score: {}\".format(AUC(train[\"Machine failure\"],model.predict(train.drop(columns=[\"Machine failure\"])))))"
   ]
  },
  {
   "cell_type": "code",
   "execution_count": 137,
   "id": "81a62186",
   "metadata": {
    "execution": {
     "iopub.execute_input": "2023-06-15T14:07:55.056558Z",
     "iopub.status.busy": "2023-06-15T14:07:55.056169Z",
     "iopub.status.idle": "2023-06-15T14:07:55.079813Z",
     "shell.execute_reply": "2023-06-15T14:07:55.078678Z"
    },
    "papermill": {
     "duration": 0.045212,
     "end_time": "2023-06-15T14:07:55.082414",
     "exception": false,
     "start_time": "2023-06-15T14:07:55.037202",
     "status": "completed"
    },
    "tags": []
   },
   "outputs": [
    {
     "data": {
      "text/html": [
       "<div>\n",
       "<style scoped>\n",
       "    .dataframe tbody tr th:only-of-type {\n",
       "        vertical-align: middle;\n",
       "    }\n",
       "\n",
       "    .dataframe tbody tr th {\n",
       "        vertical-align: top;\n",
       "    }\n",
       "\n",
       "    .dataframe thead th {\n",
       "        text-align: right;\n",
       "    }\n",
       "</style>\n",
       "<table border=\"1\" class=\"dataframe\">\n",
       "  <thead>\n",
       "    <tr style=\"text-align: right;\">\n",
       "      <th></th>\n",
       "      <th>Machine failure</th>\n",
       "    </tr>\n",
       "    <tr>\n",
       "      <th>id</th>\n",
       "      <th></th>\n",
       "    </tr>\n",
       "  </thead>\n",
       "  <tbody>\n",
       "    <tr>\n",
       "      <th>136429</th>\n",
       "      <td>0.000522</td>\n",
       "    </tr>\n",
       "    <tr>\n",
       "      <th>136430</th>\n",
       "      <td>0.000047</td>\n",
       "    </tr>\n",
       "    <tr>\n",
       "      <th>136431</th>\n",
       "      <td>0.000041</td>\n",
       "    </tr>\n",
       "    <tr>\n",
       "      <th>136432</th>\n",
       "      <td>0.000586</td>\n",
       "    </tr>\n",
       "    <tr>\n",
       "      <th>136433</th>\n",
       "      <td>0.000056</td>\n",
       "    </tr>\n",
       "    <tr>\n",
       "      <th>...</th>\n",
       "      <td>...</td>\n",
       "    </tr>\n",
       "    <tr>\n",
       "      <th>227378</th>\n",
       "      <td>0.000378</td>\n",
       "    </tr>\n",
       "    <tr>\n",
       "      <th>227379</th>\n",
       "      <td>0.003140</td>\n",
       "    </tr>\n",
       "    <tr>\n",
       "      <th>227380</th>\n",
       "      <td>0.000002</td>\n",
       "    </tr>\n",
       "    <tr>\n",
       "      <th>227381</th>\n",
       "      <td>0.000846</td>\n",
       "    </tr>\n",
       "    <tr>\n",
       "      <th>227382</th>\n",
       "      <td>0.000154</td>\n",
       "    </tr>\n",
       "  </tbody>\n",
       "</table>\n",
       "<p>90954 rows × 1 columns</p>\n",
       "</div>"
      ],
      "text/plain": [
       "        Machine failure\n",
       "id                     \n",
       "136429         0.000522\n",
       "136430         0.000047\n",
       "136431         0.000041\n",
       "136432         0.000586\n",
       "136433         0.000056\n",
       "...                 ...\n",
       "227378         0.000378\n",
       "227379         0.003140\n",
       "227380         0.000002\n",
       "227381         0.000846\n",
       "227382         0.000154\n",
       "\n",
       "[90954 rows x 1 columns]"
      ]
     },
     "execution_count": 137,
     "metadata": {},
     "output_type": "execute_result"
    }
   ],
   "source": [
    "df=pd.DataFrame()\n",
    "df[\"Machine failure\"]=pred\n",
    "df.index = 136428 + df.index\n",
    "df.index+=1\n",
    "df.index.name='id'\n",
    "df"
   ]
  },
  {
   "cell_type": "code",
   "execution_count": 138,
   "id": "82bc8736",
   "metadata": {
    "execution": {
     "iopub.execute_input": "2023-06-15T14:07:55.119873Z",
     "iopub.status.busy": "2023-06-15T14:07:55.119487Z",
     "iopub.status.idle": "2023-06-15T14:07:55.542623Z",
     "shell.execute_reply": "2023-06-15T14:07:55.541345Z"
    },
    "papermill": {
     "duration": 0.445107,
     "end_time": "2023-06-15T14:07:55.545495",
     "exception": false,
     "start_time": "2023-06-15T14:07:55.100388",
     "status": "completed"
    },
    "tags": []
   },
   "outputs": [],
   "source": [
    "df.to_csv('submission.csv', header=True)"
   ]
  }
 ],
 "metadata": {
  "kernelspec": {
   "display_name": "Python 3",
   "language": "python",
   "name": "python3"
  },
  "language_info": {
   "codemirror_mode": {
    "name": "ipython",
    "version": 3
   },
   "file_extension": ".py",
   "mimetype": "text/x-python",
   "name": "python",
   "nbconvert_exporter": "python",
   "pygments_lexer": "ipython3",
   "version": "3.10.9"
  },
  "papermill": {
   "default_parameters": {},
   "duration": 101.553431,
   "end_time": "2023-06-15T14:07:56.696339",
   "environment_variables": {},
   "exception": null,
   "input_path": "__notebook__.ipynb",
   "output_path": "__notebook__.ipynb",
   "parameters": {},
   "start_time": "2023-06-15T14:06:15.142908",
   "version": "2.4.0"
  },
  "widgets": {
   "application/vnd.jupyter.widget-state+json": {
    "state": {
     "35921b3ce0804d69ac274e0b391a622c": {
      "model_module": "@jupyter-widgets/base",
      "model_module_version": "1.2.0",
      "model_name": "LayoutModel",
      "state": {
       "_model_module": "@jupyter-widgets/base",
       "_model_module_version": "1.2.0",
       "_model_name": "LayoutModel",
       "_view_count": null,
       "_view_module": "@jupyter-widgets/base",
       "_view_module_version": "1.2.0",
       "_view_name": "LayoutView",
       "align_content": null,
       "align_items": null,
       "align_self": "stretch",
       "border": null,
       "bottom": null,
       "display": null,
       "flex": null,
       "flex_flow": null,
       "grid_area": null,
       "grid_auto_columns": null,
       "grid_auto_flow": null,
       "grid_auto_rows": null,
       "grid_column": null,
       "grid_gap": null,
       "grid_row": null,
       "grid_template_areas": null,
       "grid_template_columns": null,
       "grid_template_rows": null,
       "height": "500px",
       "justify_content": null,
       "justify_items": null,
       "left": null,
       "margin": null,
       "max_height": null,
       "max_width": null,
       "min_height": null,
       "min_width": null,
       "object_fit": null,
       "object_position": null,
       "order": null,
       "overflow": null,
       "overflow_x": null,
       "overflow_y": null,
       "padding": null,
       "right": null,
       "top": null,
       "visibility": null,
       "width": null
      }
     },
     "dad0374b61d042b891833559c587c743": {
      "model_module": "catboost-widget",
      "model_module_version": "^1.0.0",
      "model_name": "CatboostWidgetModel",
      "state": {
       "_dom_classes": [],
       "_model_module": "catboost-widget",
       "_model_module_version": "^1.0.0",
       "_model_name": "CatboostWidgetModel",
       "_view_count": null,
       "_view_module": "catboost-widget",
       "_view_module_version": "^1.0.0",
       "_view_name": "CatboostWidgetView",
       "data": {
        "catboost_info": {
         "content": {
          "data": {
           "iterations": [
            {
             "iteration": 0,
             "learn": [
              0.6237045598
             ],
             "passed_time": 0.1702320244,
             "remaining_time": 157.6348546,
             "test": [
              0.8923109944,
              0.6237045598
             ]
            },
            {
             "iteration": 1,
             "learn": [
              0.5678242496
             ],
             "passed_time": 0.2954224229,
             "remaining_time": 136.6328706,
             "test": [
              0.9388800434,
              0.5678181396
             ]
            },
            {
             "iteration": 2,
             "learn": [
              0.5138501512
             ],
             "passed_time": 0.4013995645,
             "remaining_time": 123.6310659,
             "test": [
              0.9400265368,
              0.5138439624
             ]
            },
            {
             "iteration": 3,
             "learn": [
              0.4639721282
             ],
             "passed_time": 0.4858745556,
             "remaining_time": 112.1155537,
             "test": [
              0.9400005091,
              0.4639656714
             ]
            },
            {
             "iteration": 4,
             "learn": [
              0.4205600611
             ],
             "passed_time": 0.570250687,
             "remaining_time": 105.1542267,
             "test": [
              0.9400004895,
              0.4205502619
             ]
            },
            {
             "iteration": 5,
             "learn": [
              0.3804337855
             ],
             "passed_time": 0.6576181147,
             "remaining_time": 100.9443806,
             "test": [
              0.9400004811,
              0.3804244992
             ]
            },
            {
             "iteration": 6,
             "learn": [
              0.3443837256
             ],
             "passed_time": 0.7452403808,
             "remaining_time": 97.94587862,
             "test": [
              0.9404090332,
              0.3443749254
             ]
            },
            {
             "iteration": 7,
             "learn": [
              0.3096580632
             ],
             "passed_time": 0.8389409941,
             "remaining_time": 96.37334669,
             "test": [
              0.9404249781,
              0.3096498782
             ]
            },
            {
             "iteration": 8,
             "learn": [
              0.2788946145
             ],
             "passed_time": 0.9329070745,
             "remaining_time": 95.1565216,
             "test": [
              0.9402944246,
              0.2788870121
             ]
            },
            {
             "iteration": 9,
             "learn": [
              0.2539032416
             ],
             "passed_time": 1.01046917,
             "remaining_time": 92.66002291,
             "test": [
              0.9402942822,
              0.2538960458
             ]
            },
            {
             "iteration": 10,
             "learn": [
              0.2295338469
             ],
             "passed_time": 1.110653108,
             "remaining_time": 92.48711333,
             "test": [
              0.9402942431,
              0.2295271736
             ]
            },
            {
             "iteration": 11,
             "learn": [
              0.2073895165
             ],
             "passed_time": 1.195697025,
             "remaining_time": 91.17189817,
             "test": [
              0.9432991685,
              0.2073833741
             ]
            },
            {
             "iteration": 12,
             "learn": [
              0.1883071951
             ],
             "passed_time": 1.295852305,
             "remaining_time": 91.10838516,
             "test": [
              0.9432799861,
              0.1883015038
             ]
            },
            {
             "iteration": 13,
             "learn": [
              0.1729525147
             ],
             "passed_time": 1.356174548,
             "remaining_time": 88.44195445,
             "test": [
              0.9432800085,
              0.1729471223
             ]
            },
            {
             "iteration": 14,
             "learn": [
              0.1578090372
             ],
             "passed_time": 1.447035136,
             "remaining_time": 87.97973629,
             "test": [
              0.9432798939,
              0.1578040423
             ]
            },
            {
             "iteration": 15,
             "learn": [
              0.1439135715
             ],
             "passed_time": 1.529048153,
             "remaining_time": 87.06017919,
             "test": [
              0.9436500266,
              0.1439089785
             ]
            },
            {
             "iteration": 16,
             "learn": [
              0.1318551036
             ],
             "passed_time": 1.631208601,
             "remaining_time": 87.3176369,
             "test": [
              0.94621778,
              0.1318508753
             ]
            },
            {
             "iteration": 17,
             "learn": [
              0.1225228222
             ],
             "passed_time": 1.707969907,
             "remaining_time": 86.2524803,
             "test": [
              0.9476052369,
              0.1225186991
             ]
            },
            {
             "iteration": 18,
             "learn": [
              0.1129737743
             ],
             "passed_time": 1.798247313,
             "remaining_time": 85.93729262,
             "test": [
              0.9477141901,
              0.1129699498
             ]
            },
            {
             "iteration": 19,
             "learn": [
              0.1044559529
             ],
             "passed_time": 1.898484384,
             "remaining_time": 86.09626682,
             "test": [
              0.9477534503,
              0.1044523991
             ]
            },
            {
             "iteration": 20,
             "learn": [
              0.09673339924
             ],
             "passed_time": 1.972413184,
             "remaining_time": 85.09554022,
             "test": [
              0.9469620443,
              0.09673010274
             ]
            },
            {
             "iteration": 21,
             "learn": [
              0.08970527087
             ],
             "passed_time": 2.060551222,
             "remaining_time": 84.76358434,
             "test": [
              0.9469649355,
              0.08970222661
             ]
            },
            {
             "iteration": 22,
             "learn": [
              0.08363163989
             ],
             "passed_time": 2.155158097,
             "remaining_time": 84.70708348,
             "test": [
              0.9472188967,
              0.08362880695
             ]
            },
            {
             "iteration": 23,
             "learn": [
              0.07809033882
             ],
             "passed_time": 2.24187745,
             "remaining_time": 84.35063904,
             "test": [
              0.9472295746,
              0.07808769841
             ]
            },
            {
             "iteration": 24,
             "learn": [
              0.07323310267
             ],
             "passed_time": 2.322754896,
             "remaining_time": 83.80499664,
             "test": [
              0.947229907,
              0.07323063798
             ]
            },
            {
             "iteration": 25,
             "learn": [
              0.06886899384
             ],
             "passed_time": 2.420842196,
             "remaining_time": 83.89149302,
             "test": [
              0.9471360731,
              0.06886668331
             ]
            },
            {
             "iteration": 26,
             "learn": [
              0.06502328836
             ],
             "passed_time": 2.515727306,
             "remaining_time": 83.85757688,
             "test": [
              0.9472768337,
              0.06502108853
             ]
            },
            {
             "iteration": 27,
             "learn": [
              0.06146375984
             ],
             "passed_time": 2.601776363,
             "remaining_time": 83.53560537,
             "test": [
              0.9472770627,
              0.06146169946
             ]
            },
            {
             "iteration": 28,
             "learn": [
              0.05850944202
             ],
             "passed_time": 2.687832298,
             "remaining_time": 83.23011737,
             "test": [
              0.9463291161,
              0.05850736375
             ]
            },
            {
             "iteration": 29,
             "learn": [
              0.05548532043
             ],
             "passed_time": 2.784276872,
             "remaining_time": 83.24987847,
             "test": [
              0.9507094629,
              0.05548333504
             ]
            },
            {
             "iteration": 30,
             "learn": [
              0.05276059021
             ],
             "passed_time": 2.878713062,
             "remaining_time": 83.20409366,
             "test": [
              0.9507095076,
              0.05275872544
             ]
            },
            {
             "iteration": 31,
             "learn": [
              0.05036495051
             ],
             "passed_time": 2.950915387,
             "remaining_time": 82.53341472,
             "test": [
              0.9507664976,
              0.05036319647
             ]
            },
            {
             "iteration": 32,
             "learn": [
              0.04819126738
             ],
             "passed_time": 3.056609641,
             "remaining_time": 82.80633391,
             "test": [
              0.9507681597,
              0.04818956865
             ]
            },
            {
             "iteration": 33,
             "learn": [
              0.04639122899
             ],
             "passed_time": 3.156734616,
             "remaining_time": 82.91070623,
             "test": [
              0.9507665898,
              0.04638932347
             ]
            },
            {
             "iteration": 34,
             "learn": [
              0.04484265563
             ],
             "passed_time": 3.235235149,
             "remaining_time": 82.45227865,
             "test": [
              0.9506997069,
              0.04484075415
             ]
            },
            {
             "iteration": 35,
             "learn": [
              0.04324150433
             ],
             "passed_time": 3.315960742,
             "remaining_time": 82.07002837,
             "test": [
              0.9504409703,
              0.04323966048
             ]
            },
            {
             "iteration": 36,
             "learn": [
              0.04198877796
             ],
             "passed_time": 3.377752864,
             "remaining_time": 81.24864997,
             "test": [
              0.9504411044,
              0.04198697741
             ]
            },
            {
             "iteration": 37,
             "learn": [
              0.04064152278
             ],
             "passed_time": 3.467284732,
             "remaining_time": 81.11621387,
             "test": [
              0.9504410709,
              0.04063971845
             ]
            },
            {
             "iteration": 38,
             "learn": [
              0.03921773502
             ],
             "passed_time": 3.570578623,
             "remaining_time": 81.29932865,
             "test": [
              0.9534468749,
              0.03921589901
             ]
            },
            {
             "iteration": 39,
             "learn": [
              0.03801185554
             ],
             "passed_time": 3.667710694,
             "remaining_time": 81.33148464,
             "test": [
              0.9561143465,
              0.03801008429
             ]
            },
            {
             "iteration": 40,
             "learn": [
              0.0369542683
             ],
             "passed_time": 3.764562839,
             "remaining_time": 81.35128476,
             "test": [
              0.9578449753,
              0.03695250897
             ]
            },
            {
             "iteration": 41,
             "learn": [
              0.03588061093
             ],
             "passed_time": 3.855513462,
             "remaining_time": 81.24117652,
             "test": [
              0.9586464041,
              0.03587892048
             ]
            },
            {
             "iteration": 42,
             "learn": [
              0.03506199601
             ],
             "passed_time": 3.931253326,
             "remaining_time": 80.81925442,
             "test": [
              0.9586480662,
              0.03506033955
             ]
            },
            {
             "iteration": 43,
             "learn": [
              0.03422039557
             ],
             "passed_time": 4.036914434,
             "remaining_time": 81.01353284,
             "test": [
              0.9602666313,
              0.03422013201
             ]
            },
            {
             "iteration": 44,
             "learn": [
              0.03342997801
             ],
             "passed_time": 4.133348699,
             "remaining_time": 81.01363449,
             "test": [
              0.9601847868,
              0.03342980748
             ]
            },
            {
             "iteration": 45,
             "learn": [
              0.03272982314
             ],
             "passed_time": 4.23743938,
             "remaining_time": 81.15617595,
             "test": [
              0.9600900031,
              0.0327297165
             ]
            },
            {
             "iteration": 46,
             "learn": [
              0.03192346391
             ],
             "passed_time": 4.3392922,
             "remaining_time": 81.24632205,
             "test": [
              0.961481678,
              0.03192339017
             ]
            },
            {
             "iteration": 47,
             "learn": [
              0.03143609688
             ],
             "passed_time": 4.389566839,
             "remaining_time": 80.38394273,
             "test": [
              0.9614787617,
              0.0314360061
             ]
            },
            {
             "iteration": 48,
             "learn": [
              0.03081821437
             ],
             "passed_time": 4.497822986,
             "remaining_time": 80.59364453,
             "test": [
              0.9615017474,
              0.03081839486
             ]
            },
            {
             "iteration": 49,
             "learn": [
              0.03024844633
             ],
             "passed_time": 4.59466485,
             "remaining_time": 80.59042147,
             "test": [
              0.9616729549,
              0.03024866334
             ]
            },
            {
             "iteration": 50,
             "learn": [
              0.02968752269
             ],
             "passed_time": 4.698259782,
             "remaining_time": 80.69952095,
             "test": [
              0.9618906589,
              0.02968775005
             ]
            },
            {
             "iteration": 51,
             "learn": [
              0.02926130742
             ],
             "passed_time": 4.804862564,
             "remaining_time": 80.85105276,
             "test": [
              0.9620027422,
              0.02926155792
             ]
            },
            {
             "iteration": 52,
             "learn": [
              0.02876077214
             ],
             "passed_time": 4.894164211,
             "remaining_time": 80.70753812,
             "test": [
              0.9621042971,
              0.02876107131
             ]
            },
            {
             "iteration": 53,
             "learn": [
              0.0283065577
             ],
             "passed_time": 4.989784223,
             "remaining_time": 80.66817828,
             "test": [
              0.9619250291,
              0.02830693621
             ]
            },
            {
             "iteration": 54,
             "learn": [
              0.02785428038
             ],
             "passed_time": 5.085814153,
             "remaining_time": 80.63327166,
             "test": [
              0.9622085071,
              0.02785468017
             ]
            },
            {
             "iteration": 55,
             "learn": [
              0.0274413649
             ],
             "passed_time": 5.181124889,
             "remaining_time": 80.58499604,
             "test": [
              0.9621338599,
              0.02744180101
             ]
            },
            {
             "iteration": 56,
             "learn": [
              0.02712705476
             ],
             "passed_time": 5.274394934,
             "remaining_time": 80.50392268,
             "test": [
              0.962082729,
              0.02712751677
             ]
            },
            {
             "iteration": 57,
             "learn": [
              0.02685512267
             ],
             "passed_time": 5.375262503,
             "remaining_time": 80.5362606,
             "test": [
              0.9620614767,
              0.02685552621
             ]
            },
            {
             "iteration": 58,
             "learn": [
              0.02653298859
             ],
             "passed_time": 5.466585884,
             "remaining_time": 80.42367029,
             "test": [
              0.9620442329,
              0.02653344212
             ]
            },
            {
             "iteration": 59,
             "learn": [
              0.02611767571
             ],
             "passed_time": 5.550118858,
             "remaining_time": 80.19921749,
             "test": [
              0.9701610118,
              0.02605121369
             ]
            },
            {
             "iteration": 60,
             "learn": [
              0.02572861462
             ],
             "passed_time": 5.643968629,
             "remaining_time": 80.12584972,
             "test": [
              0.9734549797,
              0.02562699725
             ]
            },
            {
             "iteration": 61,
             "learn": [
              0.02539309232
             ],
             "passed_time": 5.71951218,
             "remaining_time": 79.79641993,
             "test": [
              0.9749272491,
              0.02525740911
             ]
            },
            {
             "iteration": 62,
             "learn": [
              0.02505921093
             ],
             "passed_time": 5.808722076,
             "remaining_time": 79.66247418,
             "test": [
              0.9758562116,
              0.02488982065
             ]
            },
            {
             "iteration": 63,
             "learn": [
              0.02473599129
             ],
             "passed_time": 5.893966858,
             "remaining_time": 79.47645935,
             "test": [
              0.9764944082,
              0.02453368767
             ]
            },
            {
             "iteration": 64,
             "learn": [
              0.0244473768
             ],
             "passed_time": 5.971349236,
             "remaining_time": 79.18927757,
             "test": [
              0.9780764506,
              0.02419034944
             ]
            },
            {
             "iteration": 65,
             "learn": [
              0.02413603769
             ],
             "passed_time": 6.046255824,
             "remaining_time": 78.87615553,
             "test": [
              0.9789913804,
              0.02382718578
             ]
            },
            {
             "iteration": 66,
             "learn": [
              0.02386931312
             ],
             "passed_time": 6.120621804,
             "remaining_time": 78.56320525,
             "test": [
              0.9791930851,
              0.02352968647
             ]
            },
            {
             "iteration": 67,
             "learn": [
              0.02356292469
             ],
             "passed_time": 6.18925995,
             "remaining_time": 78.18491613,
             "test": [
              0.9818445965,
              0.02316155954
             ]
            },
            {
             "iteration": 68,
             "learn": [
              0.02331623885
             ],
             "passed_time": 6.274010422,
             "remaining_time": 78.01595569,
             "test": [
              0.9821299223,
              0.02287126196
             ]
            },
            {
             "iteration": 69,
             "learn": [
              0.02306068083
             ],
             "passed_time": 6.34490402,
             "remaining_time": 77.6797535,
             "test": [
              0.9823966299,
              0.02257126912
             ]
            },
            {
             "iteration": 70,
             "learn": [
              0.02286725695
             ],
             "passed_time": 6.422523874,
             "remaining_time": 77.43211881,
             "test": [
              0.9824571215,
              0.02234717412
             ]
            },
            {
             "iteration": 71,
             "learn": [
              0.02268716496
             ],
             "passed_time": 6.508997872,
             "remaining_time": 77.29434973,
             "test": [
              0.9824685033,
              0.02214273527
             ]
            },
            {
             "iteration": 72,
             "learn": [
              0.02250867685
             ],
             "passed_time": 6.59746715,
             "remaining_time": 77.18132803,
             "test": [
              0.9826157041,
              0.02192459878
             ]
            },
            {
             "iteration": 73,
             "learn": [
              0.02233308711
             ],
             "passed_time": 6.673030529,
             "remaining_time": 76.92020326,
             "test": [
              0.9826188607,
              0.02172292596
             ]
            },
            {
             "iteration": 74,
             "learn": [
              0.02214537002
             ],
             "passed_time": 6.753059338,
             "remaining_time": 76.71475408,
             "test": [
              0.9841006277,
              0.02147600988
             ]
            },
            {
             "iteration": 75,
             "learn": [
              0.02197000629
             ],
             "passed_time": 6.828570776,
             "remaining_time": 76.46202277,
             "test": [
              0.9842379816,
              0.02126209618
             ]
            },
            {
             "iteration": 76,
             "learn": [
              0.02181054505
             ],
             "passed_time": 6.904273892,
             "remaining_time": 76.21601049,
             "test": [
              0.9851892539,
              0.02104304201
             ]
            },
            {
             "iteration": 77,
             "learn": [
              0.02167697184
             ],
             "passed_time": 6.98831875,
             "remaining_time": 76.06516178,
             "test": [
              0.9852343146,
              0.02087027715
             ]
            },
            {
             "iteration": 78,
             "learn": [
              0.02153201026
             ],
             "passed_time": 7.063877668,
             "remaining_time": 75.82491471,
             "test": [
              0.9852982155,
              0.020688058
             ]
            },
            {
             "iteration": 79,
             "learn": [
              0.02140172762
             ],
             "passed_time": 7.14325113,
             "remaining_time": 75.62917134,
             "test": [
              0.9860655045,
              0.02050176055
             ]
            },
            {
             "iteration": 80,
             "learn": [
              0.02129925399
             ],
             "passed_time": 7.20719655,
             "remaining_time": 75.27516397,
             "test": [
              0.9860385396,
              0.02037860711
             ]
            },
            {
             "iteration": 81,
             "learn": [
              0.0211679417
             ],
             "passed_time": 7.297758458,
             "remaining_time": 75.20251094,
             "test": [
              0.9866513803,
              0.02019376862
             ]
            },
            {
             "iteration": 82,
             "learn": [
              0.02108849995
             ],
             "passed_time": 7.371799912,
             "remaining_time": 74.96143525,
             "test": [
              0.9865980957,
              0.02010404626
             ]
            },
            {
             "iteration": 83,
             "learn": [
              0.0209806014
             ],
             "passed_time": 7.454312359,
             "remaining_time": 74.80934903,
             "test": [
              0.9865468266,
              0.01997818431
             ]
            },
            {
             "iteration": 84,
             "learn": [
              0.02089123718
             ],
             "passed_time": 7.546347389,
             "remaining_time": 74.75322943,
             "test": [
              0.9865095526,
              0.01987752178
             ]
            },
            {
             "iteration": 85,
             "learn": [
              0.0208001847
             ],
             "passed_time": 7.631762643,
             "remaining_time": 74.63153934,
             "test": [
              0.9865626556,
              0.01975471694
             ]
            },
            {
             "iteration": 86,
             "learn": [
              0.02073131974
             ],
             "passed_time": 7.734543354,
             "remaining_time": 74.67834963,
             "test": [
              0.986607937,
              0.01965245502
             ]
            },
            {
             "iteration": 87,
             "learn": [
              0.02063833121
             ],
             "passed_time": 7.810660497,
             "remaining_time": 74.46754723,
             "test": [
              0.9870030932,
              0.01950926663
             ]
            },
            {
             "iteration": 88,
             "learn": [
              0.02057290675
             ],
             "passed_time": 7.881750822,
             "remaining_time": 74.21244033,
             "test": [
              0.9869721839,
              0.01942440086
             ]
            },
            {
             "iteration": 89,
             "learn": [
              0.02050955025
             ],
             "passed_time": 7.953913442,
             "remaining_time": 73.97139501,
             "test": [
              0.9869475334,
              0.01935176166
             ]
            },
            {
             "iteration": 90,
             "learn": [
              0.02042568406
             ],
             "passed_time": 8.032612483,
             "remaining_time": 73.79411028,
             "test": [
              0.9868824215,
              0.01925758017
             ]
            },
            {
             "iteration": 91,
             "learn": [
              0.0203189219
             ],
             "passed_time": 8.11425683,
             "remaining_time": 73.64570057,
             "test": [
              0.9871990867,
              0.01910559442
             ]
            },
            {
             "iteration": 92,
             "learn": [
              0.02021801668
             ],
             "passed_time": 8.199661446,
             "remaining_time": 73.53244781,
             "test": [
              0.9874906376,
              0.01895499373
             ]
            },
            {
             "iteration": 93,
             "learn": [
              0.02016640712
             ],
             "passed_time": 8.278096378,
             "remaining_time": 73.35802429,
             "test": [
              0.9874738813,
              0.01888496767
             ]
            },
            {
             "iteration": 94,
             "learn": [
              0.02010483486
             ],
             "passed_time": 8.369644743,
             "remaining_time": 73.30046764,
             "test": [
              0.9874244824,
              0.01880521636
             ]
            },
            {
             "iteration": 95,
             "learn": [
              0.02005959905
             ],
             "passed_time": 8.445718347,
             "remaining_time": 73.10824945,
             "test": [
              0.9873991824,
              0.01875077547
             ]
            },
            {
             "iteration": 96,
             "learn": [
              0.02003784055
             ],
             "passed_time": 8.507830755,
             "remaining_time": 72.79896419,
             "test": [
              0.9873517207,
              0.0187250241
             ]
            },
            {
             "iteration": 97,
             "learn": [
              0.01999652572
             ],
             "passed_time": 8.577932854,
             "remaining_time": 72.56230955,
             "test": [
              0.9873345468,
              0.01867491754
             ]
            },
            {
             "iteration": 98,
             "learn": [
              0.01997567222
             ],
             "passed_time": 8.642007578,
             "remaining_time": 72.27860883,
             "test": [
              0.9872835975,
              0.01865057836
             ]
            },
            {
             "iteration": 99,
             "learn": [
              0.01990293622
             ],
             "passed_time": 8.724062837,
             "remaining_time": 72.14799966,
             "test": [
              0.9872554691,
              0.01856384178
             ]
            },
            {
             "iteration": 100,
             "learn": [
              0.01987042188
             ],
             "passed_time": 8.803367898,
             "remaining_time": 71.99586023,
             "test": [
              0.9872370898,
              0.01852577197
             ]
            },
            {
             "iteration": 101,
             "learn": [
              0.01982077949
             ],
             "passed_time": 8.884388045,
             "remaining_time": 71.85902095,
             "test": [
              0.9871473804,
              0.01847190964
             ]
            },
            {
             "iteration": 102,
             "learn": [
              0.01974923849
             ],
             "passed_time": 8.961049453,
             "remaining_time": 71.68839563,
             "test": [
              0.9871561602,
              0.01837551092
             ]
            },
            {
             "iteration": 103,
             "learn": [
              0.01971544534
             ],
             "passed_time": 9.023838296,
             "remaining_time": 71.40979728,
             "test": [
              0.9871743062,
              0.01831657018
             ]
            },
            {
             "iteration": 104,
             "learn": [
              0.01966065681
             ],
             "passed_time": 9.089904562,
             "remaining_time": 71.16096714,
             "test": [
              0.9874236751,
              0.01821963835
             ]
            },
            {
             "iteration": 105,
             "learn": [
              0.01959666489
             ],
             "passed_time": 9.167308872,
             "remaining_time": 71.00340173,
             "test": [
              0.9874004729,
              0.01813485751
             ]
            },
            {
             "iteration": 106,
             "learn": [
              0.01956551257
             ],
             "passed_time": 9.242624595,
             "remaining_time": 70.83132867,
             "test": [
              0.9873567056,
              0.01809895472
             ]
            },
            {
             "iteration": 107,
             "learn": [
              0.01949269835
             ],
             "passed_time": 9.329380702,
             "remaining_time": 70.74780366,
             "test": [
              0.9873504078,
              0.01800613108
             ]
            },
            {
             "iteration": 108,
             "learn": [
              0.01945067717
             ],
             "passed_time": 9.417253864,
             "remaining_time": 70.67260239,
             "test": [
              0.9875993842,
              0.01792461037
             ]
            },
            {
             "iteration": 109,
             "learn": [
              0.01940980437
             ],
             "passed_time": 9.497599642,
             "remaining_time": 70.5412628,
             "test": [
              0.987775712,
              0.01784555856
             ]
            },
            {
             "iteration": 110,
             "learn": [
              0.01935775063
             ],
             "passed_time": 9.567697048,
             "remaining_time": 70.33550263,
             "test": [
              0.9879656983,
              0.01775896903
             ]
            },
            {
             "iteration": 111,
             "learn": [
              0.01931699211
             ],
             "passed_time": 9.647404598,
             "remaining_time": 70.20209596,
             "test": [
              0.9881083961,
              0.01768424084
             ]
            },
            {
             "iteration": 112,
             "learn": [
              0.01930863814
             ],
             "passed_time": 9.718268362,
             "remaining_time": 70.00593316,
             "test": [
              0.9881291121,
              0.01767359728
             ]
            },
            {
             "iteration": 113,
             "learn": [
              0.01928704555
             ],
             "passed_time": 9.795156331,
             "remaining_time": 69.85493068,
             "test": [
              0.9881075986,
              0.01764756952
             ]
            },
            {
             "iteration": 114,
             "learn": [
              0.01923574182
             ],
             "passed_time": 9.881774995,
             "remaining_time": 69.77392431,
             "test": [
              0.9882460602,
              0.0175652429
             ]
            },
            {
             "iteration": 115,
             "learn": [
              0.0192031812
             ],
             "passed_time": 9.967047148,
             "remaining_time": 69.68340722,
             "test": [
              0.9882544782,
              0.01752058429
             ]
            },
            {
             "iteration": 116,
             "learn": [
              0.01919150495
             ],
             "passed_time": 10.03235637,
             "remaining_time": 69.45477488,
             "test": [
              0.9882381562,
              0.01750669328
             ]
            },
            {
             "iteration": 117,
             "learn": [
              0.01918621311
             ],
             "passed_time": 10.10287151,
             "remaining_time": 69.26460215,
             "test": [
              0.9882141788,
              0.01749888561
             ]
            },
            {
             "iteration": 118,
             "learn": [
              0.01916272813
             ],
             "passed_time": 10.17375539,
             "remaining_time": 69.07894418,
             "test": [
              0.9881903621,
              0.01747069737
             ]
            },
            {
             "iteration": 119,
             "learn": [
              0.01914970856
             ],
             "passed_time": 10.24398894,
             "remaining_time": 68.8908256,
             "test": [
              0.9881706671,
              0.01745587828
             ]
            },
            {
             "iteration": 120,
             "learn": [
              0.01913776911
             ],
             "passed_time": 10.32029061,
             "remaining_time": 68.74507631,
             "test": [
              0.9881916206,
              0.01744386441
             ]
            },
            {
             "iteration": 121,
             "learn": [
              0.01910940871
             ],
             "passed_time": 10.40550556,
             "remaining_time": 68.65927848,
             "test": [
              0.9881663736,
              0.01740942562
             ]
            },
            {
             "iteration": 122,
             "learn": [
              0.01908447824
             ],
             "passed_time": 10.48736813,
             "remaining_time": 68.55157707,
             "test": [
              0.9881470948,
              0.01737685884
             ]
            },
            {
             "iteration": 123,
             "learn": [
              0.01904244185
             ],
             "passed_time": 10.56393704,
             "remaining_time": 68.41001162,
             "test": [
              0.98814004,
              0.01732119212
             ]
            },
            {
             "iteration": 124,
             "learn": [
              0.01903139541
             ],
             "passed_time": 10.62509617,
             "remaining_time": 68.17061704,
             "test": [
              0.9881162456,
              0.01730875977
             ]
            },
            {
             "iteration": 125,
             "learn": [
              0.01900255857
             ],
             "passed_time": 10.69737771,
             "remaining_time": 68.00475828,
             "test": [
              0.9881164607,
              0.01727939547
             ]
            },
            {
             "iteration": 126,
             "learn": [
              0.01898246215
             ],
             "passed_time": 10.76538817,
             "remaining_time": 67.8134688,
             "test": [
              0.9880767857,
              0.01725483294
             ]
            },
            {
             "iteration": 127,
             "learn": [
              0.01895195162
             ],
             "passed_time": 10.83689186,
             "remaining_time": 67.64591093,
             "test": [
              0.9880682099,
              0.01721351711
             ]
            },
            {
             "iteration": 128,
             "learn": [
              0.01890743287
             ],
             "passed_time": 10.91398994,
             "remaining_time": 67.51444941,
             "test": [
              0.9880500974,
              0.01715599591
             ]
            },
            {
             "iteration": 129,
             "learn": [
              0.01889908847
             ],
             "passed_time": 10.9744908,
             "remaining_time": 67.28207055,
             "test": [
              0.9880248965,
              0.01714569494
             ]
            },
            {
             "iteration": 130,
             "learn": [
              0.0188718072
             ],
             "passed_time": 11.07038651,
             "remaining_time": 67.26738672,
             "test": [
              0.987983315,
              0.01711053566
             ]
            },
            {
             "iteration": 131,
             "learn": [
              0.01882596766
             ],
             "passed_time": 11.15173446,
             "remaining_time": 67.16385528,
             "test": [
              0.9881154076,
              0.01703797898
             ]
            },
            {
             "iteration": 132,
             "learn": [
              0.01881692602
             ],
             "passed_time": 11.22626167,
             "remaining_time": 67.01993806,
             "test": [
              0.9880935016,
              0.01702752092
             ]
            },
            {
             "iteration": 133,
             "learn": [
              0.01878854209
             ],
             "passed_time": 11.30522685,
             "remaining_time": 66.90332009,
             "test": [
              0.9880326413,
              0.01699146685
             ]
            },
            {
             "iteration": 134,
             "learn": [
              0.01875214647
             ],
             "passed_time": 11.38903933,
             "remaining_time": 66.8156974,
             "test": [
              0.988122271,
              0.01692413539
             ]
            },
            {
             "iteration": 135,
             "learn": [
              0.01872949436
             ],
             "passed_time": 11.47430011,
             "remaining_time": 66.73655433,
             "test": [
              0.9882658139,
              0.01687499427
             ]
            },
            {
             "iteration": 136,
             "learn": [
              0.01870781142
             ],
             "passed_time": 11.56403002,
             "remaining_time": 66.68309281,
             "test": [
              0.9882423826,
              0.01684975678
             ]
            },
            {
             "iteration": 137,
             "learn": [
              0.01867440501
             ],
             "passed_time": 11.63325132,
             "remaining_time": 66.51184994,
             "test": [
              0.9883545721,
              0.01678701943
             ]
            },
            {
             "iteration": 138,
             "learn": [
              0.01865521182
             ],
             "passed_time": 11.70428573,
             "remaining_time": 66.35235361,
             "test": [
              0.9883271742,
              0.01676393691
             ]
            },
            {
             "iteration": 139,
             "learn": [
              0.01861809161
             ],
             "passed_time": 11.77872274,
             "remaining_time": 66.21324855,
             "test": [
              0.9883319272,
              0.0167165483
             ]
            },
            {
             "iteration": 140,
             "learn": [
              0.0185907518
             ],
             "passed_time": 11.86265792,
             "remaining_time": 66.12800799,
             "test": [
              0.9884277668,
              0.01666437891
             ]
            },
            {
             "iteration": 141,
             "learn": [
              0.01858012808
             ],
             "passed_time": 11.94100457,
             "remaining_time": 66.01189147,
             "test": [
              0.9883987906,
              0.01665008587
             ]
            },
            {
             "iteration": 142,
             "learn": [
              0.01856324847
             ],
             "passed_time": 12.01163682,
             "remaining_time": 65.85400887,
             "test": [
              0.988372524,
              0.01662990744
             ]
            },
            {
             "iteration": 143,
             "learn": [
              0.01853681806
             ],
             "passed_time": 12.08165227,
             "remaining_time": 65.6939842,
             "test": [
              0.9884503907,
              0.01658072832
             ]
            },
            {
             "iteration": 144,
             "learn": [
              0.01850732319
             ],
             "passed_time": 12.15311547,
             "remaining_time": 65.54300894,
             "test": [
              0.9884991415,
              0.01652990955
             ]
            },
            {
             "iteration": 145,
             "learn": [
              0.01848186709
             ],
             "passed_time": 12.23783104,
             "remaining_time": 65.46401399,
             "test": [
              0.9885897965,
              0.01647728761
             ]
            },
            {
             "iteration": 146,
             "learn": [
              0.01845473133
             ],
             "passed_time": 12.31377974,
             "remaining_time": 65.33842313,
             "test": [
              0.9886698573,
              0.01642953573
             ]
            },
            {
             "iteration": 147,
             "learn": [
              0.01844463335
             ],
             "passed_time": 12.40753032,
             "remaining_time": 65.30720352,
             "test": [
              0.9886640414,
              0.01641563596
             ]
            },
            {
             "iteration": 148,
             "learn": [
              0.01841720972
             ],
             "passed_time": 12.47642814,
             "remaining_time": 65.14537647,
             "test": [
              0.9887247425,
              0.01637083757
             ]
            },
            {
             "iteration": 149,
             "learn": [
              0.0184057824
             ],
             "passed_time": 12.56261288,
             "remaining_time": 65.07433473,
             "test": [
              0.9887371481,
              0.01635947363
             ]
            },
            {
             "iteration": 150,
             "learn": [
              0.01838433216
             ],
             "passed_time": 12.62399581,
             "remaining_time": 64.8756341,
             "test": [
              0.9888134421,
              0.01631707093
             ]
            },
            {
             "iteration": 151,
             "learn": [
              0.01835718214
             ],
             "passed_time": 12.69738775,
             "remaining_time": 64.73997044,
             "test": [
              0.9888715453,
              0.01627203916
             ]
            },
            {
             "iteration": 152,
             "learn": [
              0.01833731545
             ],
             "passed_time": 12.79788512,
             "remaining_time": 64.74224239,
             "test": [
              0.9889305116,
              0.01623503781
             ]
            },
            {
             "iteration": 153,
             "learn": [
              0.01831629616
             ],
             "passed_time": 12.87009387,
             "remaining_time": 64.60118546,
             "test": [
              0.9889967353,
              0.01619470273
             ]
            },
            {
             "iteration": 154,
             "learn": [
              0.01829929471
             ],
             "passed_time": 12.95180075,
             "remaining_time": 64.50832373,
             "test": [
              0.9889991684,
              0.01617457375
             ]
            },
            {
             "iteration": 155,
             "learn": [
              0.01828056625
             ],
             "passed_time": 13.03602883,
             "remaining_time": 64.42806555,
             "test": [
              0.9890616838,
              0.01613770809
             ]
            },
            {
             "iteration": 156,
             "learn": [
              0.01826068072
             ],
             "passed_time": 13.11725618,
             "remaining_time": 64.33303987,
             "test": [
              0.9891017862,
              0.01610347884
             ]
            },
            {
             "iteration": 157,
             "learn": [
              0.01824380546
             ],
             "passed_time": 13.20176388,
             "remaining_time": 64.25415458,
             "test": [
              0.9891021046,
              0.01608917398
             ]
            },
            {
             "iteration": 158,
             "learn": [
              0.01823334833
             ],
             "passed_time": 13.28375442,
             "remaining_time": 64.16304021,
             "test": [
              0.9891150144,
              0.01607992527
             ]
            },
            {
             "iteration": 159,
             "learn": [
              0.01821336765
             ],
             "passed_time": 13.35524404,
             "remaining_time": 64.02170113,
             "test": [
              0.9891390323,
              0.01604293368
             ]
            },
            {
             "iteration": 160,
             "learn": [
              0.01820844652
             ],
             "passed_time": 13.43237744,
             "remaining_time": 63.90808147,
             "test": [
              0.9891287972,
              0.01603765512
             ]
            },
            {
             "iteration": 161,
             "learn": [
              0.0181873556
             ],
             "passed_time": 13.51488305,
             "remaining_time": 63.82028105,
             "test": [
              0.9891635641,
              0.01600341082
             ]
            },
            {
             "iteration": 162,
             "learn": [
              0.01817606882
             ],
             "passed_time": 13.5989827,
             "remaining_time": 63.74001708,
             "test": [
              0.9891824002,
              0.01599238167
             ]
            },
            {
             "iteration": 163,
             "learn": [
              0.01816025115
             ],
             "passed_time": 13.67727305,
             "remaining_time": 63.63267889,
             "test": [
              0.9892309834,
              0.0159599854
             ]
            },
            {
             "iteration": 164,
             "learn": [
              0.01814929886
             ],
             "passed_time": 13.75619178,
             "remaining_time": 63.52859476,
             "test": [
              0.9892178208,
              0.01594555908
             ]
            },
            {
             "iteration": 165,
             "learn": [
              0.0181393454
             ],
             "passed_time": 13.83619965,
             "remaining_time": 63.42980681,
             "test": [
              0.989209826,
              0.0159363513
             ]
            },
            {
             "iteration": 166,
             "learn": [
              0.01813795391
             ],
             "passed_time": 13.90197128,
             "remaining_time": 63.26645614,
             "test": [
              0.9892070521,
              0.01593522442
             ]
            },
            {
             "iteration": 167,
             "learn": [
              0.01812652735
             ],
             "passed_time": 13.98064398,
             "remaining_time": 63.16255228,
             "test": [
              0.9892202538,
              0.01592437054
             ]
            },
            {
             "iteration": 168,
             "learn": [
              0.0181158514
             ],
             "passed_time": 14.06408557,
             "remaining_time": 63.08033648,
             "test": [
              0.9892335561,
              0.01590640167
             ]
            },
            {
             "iteration": 169,
             "learn": [
              0.01810011677
             ],
             "passed_time": 14.14687982,
             "remaining_time": 62.99522368,
             "test": [
              0.989278128,
              0.01588052359
             ]
            },
            {
             "iteration": 170,
             "learn": [
              0.01808015169
             ],
             "passed_time": 14.2267983,
             "remaining_time": 62.89742407,
             "test": [
              0.9892929345,
              0.01585092691
             ]
            },
            {
             "iteration": 171,
             "learn": [
              0.01807595279
             ],
             "passed_time": 14.30400545,
             "remaining_time": 62.78793091,
             "test": [
              0.9892881466,
              0.0158463051
             ]
            },
            {
             "iteration": 172,
             "learn": [
              0.01806505826
             ],
             "passed_time": 14.37960705,
             "remaining_time": 62.6718134,
             "test": [
              0.989283962,
              0.01583452391
             ]
            },
            {
             "iteration": 173,
             "learn": [
              0.01804419118
             ],
             "passed_time": 14.47111499,
             "remaining_time": 62.62499761,
             "test": [
              0.9892791965,
              0.01580970467
             ]
            },
            {
             "iteration": 174,
             "learn": [
              0.01802605819
             ],
             "passed_time": 14.55871904,
             "remaining_time": 62.56089553,
             "test": [
              0.9893055412,
              0.01577809684
             ]
            },
            {
             "iteration": 175,
             "learn": [
              0.01801055591
             ],
             "passed_time": 14.64243819,
             "remaining_time": 62.47994932,
             "test": [
              0.9893476632,
              0.01574929529
             ]
            },
            {
             "iteration": 176,
             "learn": [
              0.01800647701
             ],
             "passed_time": 14.72147441,
             "remaining_time": 62.37912886,
             "test": [
              0.989339607,
              0.01574510554
             ]
            },
            {
             "iteration": 177,
             "learn": [
              0.01799324779
             ],
             "passed_time": 14.80475083,
             "remaining_time": 62.29639536,
             "test": [
              0.9893743544,
              0.01571952975
             ]
            },
            {
             "iteration": 178,
             "learn": [
              0.01797424723
             ],
             "passed_time": 14.89440641,
             "remaining_time": 62.24031284,
             "test": [
              0.9894081101,
              0.01569016894
             ]
            },
            {
             "iteration": 179,
             "learn": [
              0.01795986167
             ],
             "passed_time": 14.98364582,
             "remaining_time": 62.18213014,
             "test": [
              0.9893960258,
              0.01567528977
             ]
            },
            {
             "iteration": 180,
             "learn": [
              0.01794466855
             ],
             "passed_time": 15.06589596,
             "remaining_time": 62.09479769,
             "test": [
              0.9894010428,
              0.01564978247
             ]
            },
            {
             "iteration": 181,
             "learn": [
              0.01793222382
             ],
             "passed_time": 15.14479893,
             "remaining_time": 61.99381978,
             "test": [
              0.9893765668,
              0.01563904331
             ]
            },
            {
             "iteration": 182,
             "learn": [
              0.0179269757
             ],
             "passed_time": 15.23105822,
             "remaining_time": 61.9229908,
             "test": [
              0.989380215,
              0.01563519188
             ]
            },
            {
             "iteration": 183,
             "learn": [
              0.0179175854
             ],
             "passed_time": 15.32026122,
             "remaining_time": 61.86388091,
             "test": [
              0.9894634311,
              0.01561017853
             ]
            },
            {
             "iteration": 184,
             "learn": [
              0.01790424486
             ],
             "passed_time": 15.40517962,
             "remaining_time": 61.78726096,
             "test": [
              0.9894665178,
              0.01559853243
             ]
            },
            {
             "iteration": 185,
             "learn": [
              0.01789404433
             ],
             "passed_time": 15.49138862,
             "remaining_time": 61.71569337,
             "test": [
              0.9894733282,
              0.01558351417
             ]
            },
            {
             "iteration": 186,
             "learn": [
              0.01788859501
             ],
             "passed_time": 15.56283703,
             "remaining_time": 61.5855583,
             "test": [
              0.9894821386,
              0.01557904169
             ]
            },
            {
             "iteration": 187,
             "learn": [
              0.01787792896
             ],
             "passed_time": 15.63047412,
             "remaining_time": 61.44106583,
             "test": [
              0.9894798424,
              0.0155668692
             ]
            },
            {
             "iteration": 188,
             "learn": [
              0.01787564993
             ],
             "passed_time": 15.70045646,
             "remaining_time": 61.30654429,
             "test": [
              0.9894725963,
              0.01556508609
             ]
            },
            {
             "iteration": 189,
             "learn": [
              0.01785615474
             ],
             "passed_time": 15.78507066,
             "remaining_time": 61.2294583,
             "test": [
              0.9895043254,
              0.0155377674
             ]
            },
            {
             "iteration": 190,
             "learn": [
              0.01785214053
             ],
             "passed_time": 15.86710742,
             "remaining_time": 61.14236156,
             "test": [
              0.9894910147,
              0.01553471593
             ]
            },
            {
             "iteration": 191,
             "learn": [
              0.01784486979
             ],
             "passed_time": 15.93538501,
             "remaining_time": 61.00264574,
             "test": [
              0.9895263934,
              0.01551519666
             ]
            },
            {
             "iteration": 192,
             "learn": [
              0.01783510924
             ],
             "passed_time": 16.00428638,
             "remaining_time": 60.8660425,
             "test": [
              0.9895677808,
              0.01549077325
             ]
            },
            {
             "iteration": 193,
             "learn": [
              0.01782926045
             ],
             "passed_time": 16.08745177,
             "remaining_time": 60.78403168,
             "test": [
              0.9895670363,
              0.01548243347
             ]
            },
            {
             "iteration": 194,
             "learn": [
              0.01782164305
             ],
             "passed_time": 16.16128333,
             "remaining_time": 60.66697128,
             "test": [
              0.9895731888,
              0.01547063447
             ]
            },
            {
             "iteration": 195,
             "learn": [
              0.01780389973
             ],
             "passed_time": 16.24090708,
             "remaining_time": 60.57195447,
             "test": [
              0.9895850553,
              0.01544567936
             ]
            },
            {
             "iteration": 196,
             "learn": [
              0.0177944018
             ],
             "passed_time": 16.32890206,
             "remaining_time": 60.50811424,
             "test": [
              0.9896185093,
              0.01542295547
             ]
            },
            {
             "iteration": 197,
             "learn": [
              0.01778549376
             ],
             "passed_time": 16.41884152,
             "remaining_time": 60.45118924,
             "test": [
              0.9896074697,
              0.01541623538
             ]
            },
            {
             "iteration": 198,
             "learn": [
              0.01777908238
             ],
             "passed_time": 16.50615414,
             "remaining_time": 60.38432268,
             "test": [
              0.9896144868,
              0.01541030506
             ]
            },
            {
             "iteration": 199,
             "learn": [
              0.01776916356
             ],
             "passed_time": 16.58775659,
             "remaining_time": 60.29649519,
             "test": [
              0.9896151237,
              0.01540331261
             ]
            },
            {
             "iteration": 200,
             "learn": [
              0.0177612939
             ],
             "passed_time": 16.68287667,
             "remaining_time": 60.25755452,
             "test": [
              0.9896193655,
              0.01539668027
             ]
            },
            {
             "iteration": 201,
             "learn": [
              0.01775770283
             ],
             "passed_time": 16.7675459,
             "remaining_time": 60.18054841,
             "test": [
              0.9896280852,
              0.01539241799
             ]
            },
            {
             "iteration": 202,
             "learn": [
              0.01774523827
             ],
             "passed_time": 16.84475681,
             "remaining_time": 60.07686664,
             "test": [
              0.9896530472,
              0.01537253227
             ]
            },
            {
             "iteration": 203,
             "learn": [
              0.01774298435
             ],
             "passed_time": 16.94213116,
             "remaining_time": 60.04490601,
             "test": [
              0.989645984,
              0.0153706382
             ]
            },
            {
             "iteration": 204,
             "learn": [
              0.01774010266
             ],
             "passed_time": 17.03907041,
             "remaining_time": 60.01077482,
             "test": [
              0.9896341693,
              0.01536820221
             ]
            },
            {
             "iteration": 205,
             "learn": [
              0.01773641061
             ],
             "passed_time": 17.11577653,
             "remaining_time": 59.90521785,
             "test": [
              0.9896243797,
              0.01536535824
             ]
            },
            {
             "iteration": 206,
             "learn": [
              0.01772578768
             ],
             "passed_time": 17.21097004,
             "remaining_time": 59.86424362,
             "test": [
              0.9896401011,
              0.01534817215
             ]
            },
            {
             "iteration": 207,
             "learn": [
              0.01772207548
             ],
             "passed_time": 17.31691452,
             "remaining_time": 59.85991125,
             "test": [
              0.9896363831,
              0.01534527126
             ]
            },
            {
             "iteration": 208,
             "learn": [
              0.01771296284
             ],
             "passed_time": 17.41265003,
             "remaining_time": 59.81953456,
             "test": [
              0.9896987867,
              0.01532413254
             ]
            },
            {
             "iteration": 209,
             "learn": [
              0.0177034545
             ],
             "passed_time": 17.49092953,
             "remaining_time": 59.71903082,
             "test": [
              0.989700527,
              0.01530965156
             ]
            },
            {
             "iteration": 210,
             "learn": [
              0.01769408947
             ],
             "passed_time": 17.58263131,
             "remaining_time": 59.66428444,
             "test": [
              0.9897263774,
              0.01529202748
             ]
            },
            {
             "iteration": 211,
             "learn": [
              0.01769078148
             ],
             "passed_time": 17.66230427,
             "remaining_time": 59.56862055,
             "test": [
              0.9897314223,
              0.01528966566
             ]
            },
            {
             "iteration": 212,
             "learn": [
              0.01768733445
             ],
             "passed_time": 17.77054754,
             "remaining_time": 59.56887768,
             "test": [
              0.9897221006,
              0.01528912826
             ]
            },
            {
             "iteration": 213,
             "learn": [
              0.01768185192
             ],
             "passed_time": 17.85542234,
             "remaining_time": 59.49026227,
             "test": [
              0.9897148796,
              0.01528257256
             ]
            },
            {
             "iteration": 214,
             "learn": [
              0.01767830561
             ],
             "passed_time": 17.94078428,
             "remaining_time": 59.41320188,
             "test": [
              0.9897134284,
              0.01527949241
             ]
            },
            {
             "iteration": 215,
             "learn": [
              0.01767275849
             ],
             "passed_time": 18.04022514,
             "remaining_time": 59.38240776,
             "test": [
              0.9897214344,
              0.01527514938
             ]
            },
            {
             "iteration": 216,
             "learn": [
              0.01766562394
             ],
             "passed_time": 18.1258782,
             "remaining_time": 59.30586877,
             "test": [
              0.9897406783,
              0.01525942062
             ]
            },
            {
             "iteration": 217,
             "learn": [
              0.01765993202
             ],
             "passed_time": 18.21234331,
             "remaining_time": 59.23188719,
             "test": [
              0.9897675147,
              0.01524310682
             ]
            },
            {
             "iteration": 218,
             "learn": [
              0.01765450315
             ],
             "passed_time": 18.29720855,
             "remaining_time": 59.15261942,
             "test": [
              0.9897738753,
              0.01523868014
             ]
            },
            {
             "iteration": 219,
             "learn": [
              0.01764805244
             ],
             "passed_time": 18.37665563,
             "remaining_time": 59.05588879,
             "test": [
              0.989782236,
              0.01523296902
             ]
            },
            {
             "iteration": 220,
             "learn": [
              0.01764632377
             ],
             "passed_time": 18.44919403,
             "remaining_time": 58.93724426,
             "test": [
              0.9897765319,
              0.01523168453
             ]
            },
            {
             "iteration": 221,
             "learn": [
              0.01763774919
             ],
             "passed_time": 18.55728422,
             "remaining_time": 58.9319161,
             "test": [
              0.9897817612,
              0.0152210912
             ]
            },
            {
             "iteration": 222,
             "learn": [
              0.01763037827
             ],
             "passed_time": 18.63929576,
             "remaining_time": 58.84333729,
             "test": [
              0.989815056,
              0.01520315588
             ]
            },
            {
             "iteration": 223,
             "learn": [
              0.0176220654
             ],
             "passed_time": 18.70219719,
             "remaining_time": 58.69484206,
             "test": [
              0.9898183159,
              0.01519368907
             ]
            },
            {
             "iteration": 224,
             "learn": [
              0.01761716592
             ],
             "passed_time": 18.78703712,
             "remaining_time": 58.61555582,
             "test": [
              0.9898154135,
              0.01518698404
             ]
            },
            {
             "iteration": 225,
             "learn": [
              0.01761230343
             ],
             "passed_time": 18.8730508,
             "remaining_time": 58.53986112,
             "test": [
              0.9898214138,
              0.01518460143
             ]
            },
            {
             "iteration": 226,
             "learn": [
              0.01760951611
             ],
             "passed_time": 18.95094469,
             "remaining_time": 58.4390365,
             "test": [
              0.9898182181,
              0.0151826084
             ]
            },
            {
             "iteration": 227,
             "learn": [
              0.01760680267
             ],
             "passed_time": 19.03592709,
             "remaining_time": 58.3601449,
             "test": [
              0.9898193578,
              0.01517669596
             ]
            },
            {
             "iteration": 228,
             "learn": [
              0.0175980826
             ],
             "passed_time": 19.10767172,
             "remaining_time": 58.24085093,
             "test": [
              0.9898204333,
              0.01516359879
             ]
            },
            {
             "iteration": 229,
             "learn": [
              0.01759104887
             ],
             "passed_time": 19.17701619,
             "remaining_time": 58.11469688,
             "test": [
              0.9898551374,
              0.01514424991
             ]
            },
            {
             "iteration": 230,
             "learn": [
              0.01758644477
             ],
             "passed_time": 19.27663041,
             "remaining_time": 58.08023708,
             "test": [
              0.9898564447,
              0.0151409356
             ]
            },
            {
             "iteration": 231,
             "learn": [
              0.01757924701
             ],
             "passed_time": 19.34816194,
             "remaining_time": 57.96108856,
             "test": [
              0.9898870495,
              0.01512559224
             ]
            },
            {
             "iteration": 232,
             "learn": [
              0.01757507779
             ],
             "passed_time": 19.43454079,
             "remaining_time": 57.88657214,
             "test": [
              0.9898789932,
              0.01512221041
             ]
            },
            {
             "iteration": 233,
             "learn": [
              0.0175707361
             ],
             "passed_time": 19.52391787,
             "remaining_time": 57.82083368,
             "test": [
              0.9898914966,
              0.01511810734
             ]
            },
            {
             "iteration": 234,
             "learn": [
              0.01756411001
             ],
             "passed_time": 19.60480972,
             "remaining_time": 57.72990778,
             "test": [
              0.9899132657,
              0.01510483691
             ]
            },
            {
             "iteration": 235,
             "learn": [
              0.01755761572
             ],
             "passed_time": 19.68492048,
             "remaining_time": 57.63677989,
             "test": [
              0.9899145423,
              0.01510129123
             ]
            },
            {
             "iteration": 236,
             "learn": [
              0.01755195799
             ],
             "passed_time": 19.76925839,
             "remaining_time": 57.55606873,
             "test": [
              0.9899123956,
              0.01509648756
             ]
            },
            {
             "iteration": 237,
             "learn": [
              0.01754015282
             ],
             "passed_time": 19.85383509,
             "remaining_time": 57.4760184,
             "test": [
              0.9898996017,
              0.01508680819
             ]
            },
            {
             "iteration": 238,
             "learn": [
              0.01753489108
             ],
             "passed_time": 19.94517685,
             "remaining_time": 57.4154045,
             "test": [
              0.9899019789,
              0.01507910261
             ]
            },
            {
             "iteration": 239,
             "learn": [
              0.01753018853
             ],
             "passed_time": 20.02740769,
             "remaining_time": 57.32845451,
             "test": [
              0.9898999411,
              0.01507354636
             ]
            },
            {
             "iteration": 240,
             "learn": [
              0.01752235286
             ],
             "passed_time": 20.10113194,
             "remaining_time": 57.21732991,
             "test": [
              0.9898939674,
              0.01506633876
             ]
            },
            {
             "iteration": 241,
             "learn": [
              0.01751607254
             ],
             "passed_time": 20.18537861,
             "remaining_time": 57.13629895,
             "test": [
              0.989885724,
              0.01506201687
             ]
            },
            {
             "iteration": 242,
             "learn": [
              0.01750812574
             ],
             "passed_time": 20.27079492,
             "remaining_time": 57.05853386,
             "test": [
              0.9898994536,
              0.01505514018
             ]
            },
            {
             "iteration": 243,
             "learn": [
              0.01750504143
             ],
             "passed_time": 20.37746349,
             "remaining_time": 57.04019493,
             "test": [
              0.9899047444,
              0.01505220767
             ]
            },
            {
             "iteration": 244,
             "learn": [
              0.01750304314
             ],
             "passed_time": 20.46637265,
             "remaining_time": 56.97169855,
             "test": [
              0.9899064428,
              0.01504937908
             ]
            },
            {
             "iteration": 245,
             "learn": [
              0.01749846377
             ],
             "passed_time": 20.55156422,
             "remaining_time": 56.89274486,
             "test": [
              0.9899048701,
              0.01504583457
             ]
            },
            {
             "iteration": 246,
             "learn": [
              0.01749352463
             ],
             "passed_time": 20.63837511,
             "remaining_time": 56.81819868,
             "test": [
              0.9899124459,
              0.01503427957
             ]
            },
            {
             "iteration": 247,
             "learn": [
              0.01748638511
             ],
             "passed_time": 20.71848289,
             "remaining_time": 56.72520115,
             "test": [
              0.9899430702,
              0.01501888065
             ]
            },
            {
             "iteration": 248,
             "learn": [
              0.01748021996
             ],
             "passed_time": 20.80881746,
             "remaining_time": 56.66015358,
             "test": [
              0.989940144,
              0.01501306387
             ]
            },
            {
             "iteration": 249,
             "learn": [
              0.01747820513
             ],
             "passed_time": 20.90926414,
             "remaining_time": 56.62228729,
             "test": [
              0.9899395043,
              0.01501193722
             ]
            },
            {
             "iteration": 250,
             "learn": [
              0.01747376872
             ],
             "passed_time": 20.9909014,
             "remaining_time": 56.53326434,
             "test": [
              0.989933965,
              0.01500774712
             ]
            },
            {
             "iteration": 251,
             "learn": [
              0.01747283571
             ],
             "passed_time": 21.06838673,
             "remaining_time": 56.43317874,
             "test": [
              0.9899318797,
              0.01500696471
             ]
            },
            {
             "iteration": 252,
             "learn": [
              0.0174683298
             ],
             "passed_time": 21.14641957,
             "remaining_time": 56.3347304,
             "test": [
              0.9899469977,
              0.01499532832
             ]
            },
            {
             "iteration": 253,
             "learn": [
              0.01746378504
             ],
             "passed_time": 21.24040169,
             "remaining_time": 56.27870211,
             "test": [
              0.9899347737,
              0.01499122619
             ]
            },
            {
             "iteration": 254,
             "learn": [
              0.0174581993
             ],
             "passed_time": 21.32521827,
             "remaining_time": 56.19822227,
             "test": [
              0.9899297539,
              0.01498706471
             ]
            },
            {
             "iteration": 255,
             "learn": [
              0.01745411786
             ],
             "passed_time": 21.40891604,
             "remaining_time": 56.11477602,
             "test": [
              0.9899215133,
              0.01498473394
             ]
            },
            {
             "iteration": 256,
             "learn": [
              0.0174513173
             ],
             "passed_time": 21.48362766,
             "remaining_time": 56.00790089,
             "test": [
              0.9899229729,
              0.0149810913
             ]
            },
            {
             "iteration": 257,
             "learn": [
              0.01744933886
             ],
             "passed_time": 21.55966638,
             "remaining_time": 55.90471631,
             "test": [
              0.9899207884,
              0.01498086793
             ]
            },
            {
             "iteration": 258,
             "learn": [
              0.01744617598
             ],
             "passed_time": 21.63313534,
             "remaining_time": 55.79511355,
             "test": [
              0.9899179028,
              0.01497869606
             ]
            },
            {
             "iteration": 259,
             "learn": [
              0.01744038769
             ],
             "passed_time": 21.70219744,
             "remaining_time": 55.67448343,
             "test": [
              0.9899366118,
              0.01496610069
             ]
            },
            {
             "iteration": 260,
             "learn": [
              0.01743396553
             ],
             "passed_time": 21.77284253,
             "remaining_time": 55.55828783,
             "test": [
              0.989957582,
              0.01495275587
             ]
            },
            {
             "iteration": 261,
             "learn": [
              0.01742993461
             ],
             "passed_time": 21.8579898,
             "remaining_time": 55.47924891,
             "test": [
              0.9899588753,
              0.01494974141
             ]
            },
            {
             "iteration": 262,
             "learn": [
              0.01742472652
             ],
             "passed_time": 21.95200468,
             "remaining_time": 55.42255175,
             "test": [
              0.9899618308,
              0.01494434496
             ]
            },
            {
             "iteration": 263,
             "learn": [
              0.01741790173
             ],
             "passed_time": 22.02307034,
             "remaining_time": 55.30793802,
             "test": [
              0.9899822996,
              0.01493248256
             ]
            },
            {
             "iteration": 264,
             "learn": [
              0.01741468011
             ],
             "passed_time": 22.1143343,
             "remaining_time": 55.24411059,
             "test": [
              0.9899790648,
              0.01493057559
             ]
            },
            {
             "iteration": 265,
             "learn": [
              0.01741142532
             ],
             "passed_time": 22.18779347,
             "remaining_time": 55.13583264,
             "test": [
              0.9899766401,
              0.01492823174
             ]
            },
            {
             "iteration": 266,
             "learn": [
              0.01740510274
             ],
             "passed_time": 22.26428769,
             "remaining_time": 55.03531789,
             "test": [
              0.9899672794,
              0.01492275973
             ]
            },
            {
             "iteration": 267,
             "learn": [
              0.01740384333
             ],
             "passed_time": 22.33641852,
             "remaining_time": 54.92425301,
             "test": [
              0.9899647401,
              0.01492183788
             ]
            },
            {
             "iteration": 268,
             "learn": [
              0.01739880957
             ],
             "passed_time": 22.41415003,
             "remaining_time": 54.82717739,
             "test": [
              0.989967162,
              0.01491965398
             ]
            },
            {
             "iteration": 269,
             "learn": [
              0.01739637674
             ],
             "passed_time": 22.50326817,
             "remaining_time": 54.75795255,
             "test": [
              0.9899616003,
              0.01491845537
             ]
            },
            {
             "iteration": 270,
             "learn": [
              0.0173902099
             ],
             "passed_time": 22.58063132,
             "remaining_time": 54.66012601,
             "test": [
              0.9899912525,
              0.01490419427
             ]
            },
            {
             "iteration": 271,
             "learn": [
              0.01738787727
             ],
             "passed_time": 22.67268676,
             "remaining_time": 54.59783024,
             "test": [
              0.9899881267,
              0.01490254378
             ]
            },
            {
             "iteration": 272,
             "learn": [
              0.01738482909
             ],
             "passed_time": 22.7679833,
             "remaining_time": 54.54308088,
             "test": [
              0.9899903782,
              0.0148997104
             ]
            },
            {
             "iteration": 273,
             "learn": [
              0.0173797618
             ],
             "passed_time": 22.85133497,
             "remaining_time": 54.45956839,
             "test": [
              0.9899912553,
              0.01489634773
             ]
            },
            {
             "iteration": 274,
             "learn": [
              0.01737228208
             ],
             "passed_time": 22.96313349,
             "remaining_time": 54.44350196,
             "test": [
              0.9899897636,
              0.01489103008
             ]
            },
            {
             "iteration": 275,
             "learn": [
              0.01736908012
             ],
             "passed_time": 23.0401483,
             "remaining_time": 54.34469761,
             "test": [
              0.9899904145,
              0.01488723983
             ]
            },
            {
             "iteration": 276,
             "learn": [
              0.0173656103
             ],
             "passed_time": 23.12040737,
             "remaining_time": 54.2536635,
             "test": [
              0.9899887524,
              0.0148856171
             ]
            },
            {
             "iteration": 277,
             "learn": [
              0.01736371669
             ],
             "passed_time": 23.2096349,
             "remaining_time": 54.18364407,
             "test": [
              0.9899896239,
              0.01488424866
             ]
            },
            {
             "iteration": 278,
             "learn": [
              0.0173633534
             ],
             "passed_time": 23.27376611,
             "remaining_time": 54.05519871,
             "test": [
              0.9899890038,
              0.01488404838
             ]
            },
            {
             "iteration": 279,
             "learn": [
              0.01735845439
             ],
             "passed_time": 23.36825325,
             "remaining_time": 53.99735661,
             "test": [
              0.9899826516,
              0.01488232603
             ]
            },
            {
             "iteration": 280,
             "learn": [
              0.01734967679
             ],
             "passed_time": 23.44908412,
             "remaining_time": 53.90785886,
             "test": [
              0.990029676,
              0.01486367502
             ]
            },
            {
             "iteration": 281,
             "learn": [
              0.01734737384
             ],
             "passed_time": 23.53701061,
             "remaining_time": 53.83465194,
             "test": [
              0.9900290014,
              0.01486167156
             ]
            },
            {
             "iteration": 282,
             "learn": [
              0.01734684833
             ],
             "passed_time": 23.61819372,
             "remaining_time": 53.74599559,
             "test": [
              0.9900268226,
              0.01486188928
             ]
            },
            {
             "iteration": 283,
             "learn": [
              0.01734528745
             ],
             "passed_time": 23.69635243,
             "remaining_time": 53.65054442,
             "test": [
              0.9900247526,
              0.01486075652
             ]
            },
            {
             "iteration": 284,
             "learn": [
              0.01733864919
             ],
             "passed_time": 23.77622521,
             "remaining_time": 53.55907575,
             "test": [
              0.9900218447,
              0.01485219876
             ]
            },
            {
             "iteration": 285,
             "learn": [
              0.01733232828
             ],
             "passed_time": 23.85222703,
             "remaining_time": 53.45901233,
             "test": [
              0.9900762214,
              0.01483740416
             ]
            },
            {
             "iteration": 286,
             "learn": [
              0.0173231528
             ],
             "passed_time": 23.94484851,
             "remaining_time": 53.39617786,
             "test": [
              0.9900750049,
              0.01483052917
             ]
            },
            {
             "iteration": 287,
             "learn": [
              0.01731840896
             ],
             "passed_time": 24.01622151,
             "remaining_time": 53.28599149,
             "test": [
              0.9901173392,
              0.01481694024
             ]
            },
            {
             "iteration": 288,
             "learn": [
              0.01731440417
             ],
             "passed_time": 24.09880747,
             "remaining_time": 53.20082756,
             "test": [
              0.9901426756,
              0.01480538648
             ]
            },
            {
             "iteration": 289,
             "learn": [
              0.01730981615
             ],
             "passed_time": 24.17446356,
             "remaining_time": 53.10045961,
             "test": [
              0.9901661599,
              0.01479298125
             ]
            },
            {
             "iteration": 290,
             "learn": [
              0.01730578298
             ],
             "passed_time": 24.26727094,
             "remaining_time": 53.0377468,
             "test": [
              0.9901740541,
              0.0147891147
             ]
            },
            {
             "iteration": 291,
             "learn": [
              0.01730055979
             ],
             "passed_time": 24.33354187,
             "remaining_time": 52.91712016,
             "test": [
              0.9901740485,
              0.01478716078
             ]
            },
            {
             "iteration": 292,
             "learn": [
              0.01729968608
             ],
             "passed_time": 24.40963218,
             "remaining_time": 52.81811196,
             "test": [
              0.9901740401,
              0.01478648192
             ]
            },
            {
             "iteration": 293,
             "learn": [
              0.01729346209
             ],
             "passed_time": 24.49261214,
             "remaining_time": 52.73409348,
             "test": [
              0.9902210898,
              0.014769798
             ]
            },
            {
             "iteration": 294,
             "learn": [
              0.01729010208
             ],
             "passed_time": 24.57557064,
             "remaining_time": 52.65003608,
             "test": [
              0.9902253553,
              0.01476173918
             ]
            },
            {
             "iteration": 295,
             "learn": [
              0.01728777198
             ],
             "passed_time": 24.66103407,
             "remaining_time": 52.57132602,
             "test": [
              0.9902244391,
              0.014763235
             ]
            },
            {
             "iteration": 296,
             "learn": [
              0.01728650206
             ],
             "passed_time": 24.73792933,
             "remaining_time": 52.47439556,
             "test": [
              0.9902238245,
              0.01476207601
             ]
            },
            {
             "iteration": 297,
             "learn": [
              0.01728253058
             ],
             "passed_time": 24.80486095,
             "remaining_time": 52.35656891,
             "test": [
              0.9902228189,
              0.01475607859
             ]
            },
            {
             "iteration": 298,
             "learn": [
              0.01727711889
             ],
             "passed_time": 24.89173498,
             "remaining_time": 52.28096846,
             "test": [
              0.9902186497,
              0.01475154594
             ]
            },
            {
             "iteration": 299,
             "learn": [
              0.01727482603
             ],
             "passed_time": 24.99167696,
             "remaining_time": 52.23260485,
             "test": [
              0.9902184737,
              0.0147494919
             ]
            },
            {
             "iteration": 300,
             "learn": [
              0.01727198385
             ],
             "passed_time": 25.09374368,
             "remaining_time": 52.18831742,
             "test": [
              0.9902145657,
              0.01474813736
             ]
            },
            {
             "iteration": 301,
             "learn": [
              0.01726809582
             ],
             "passed_time": 25.21689462,
             "remaining_time": 52.18728191,
             "test": [
              0.9902106298,
              0.01474472015
             ]
            },
            {
             "iteration": 302,
             "learn": [
              0.01726174763
             ],
             "passed_time": 25.32333633,
             "remaining_time": 52.15102928,
             "test": [
              0.9902124315,
              0.01473838505
             ]
            },
            {
             "iteration": 303,
             "learn": [
              0.01725800227
             ],
             "passed_time": 25.43211102,
             "remaining_time": 52.11909594,
             "test": [
              0.990208761,
              0.01473751044
             ]
            },
            {
             "iteration": 304,
             "learn": [
              0.01725235217
             ],
             "passed_time": 25.54794688,
             "remaining_time": 52.10105888,
             "test": [
              0.9902019311,
              0.01473346509
             ]
            },
            {
             "iteration": 305,
             "learn": [
              0.01724932302
             ],
             "passed_time": 25.64835158,
             "remaining_time": 52.05106644,
             "test": [
              0.9901944754,
              0.0147325249
             ]
            },
            {
             "iteration": 306,
             "learn": [
              0.01724488584
             ],
             "passed_time": 25.75729684,
             "remaining_time": 52.01799361,
             "test": [
              0.9902007383,
              0.01472510963
             ]
            },
            {
             "iteration": 307,
             "learn": [
              0.01724251648
             ],
             "passed_time": 25.85052243,
             "remaining_time": 51.95283565,
             "test": [
              0.9901963442,
              0.01472249329
             ]
            },
            {
             "iteration": 308,
             "learn": [
              0.01723656005
             ],
             "passed_time": 25.97684965,
             "remaining_time": 51.95369929,
             "test": [
              0.9902076296,
              0.01471481833
             ]
            },
            {
             "iteration": 309,
             "learn": [
              0.01723600237
             ],
             "passed_time": 26.07569171,
             "remaining_time": 51.89903801,
             "test": [
              0.9902067497,
              0.01471456805
             ]
            },
            {
             "iteration": 310,
             "learn": [
              0.01723347194
             ],
             "passed_time": 26.19709241,
             "remaining_time": 51.88877467,
             "test": [
              0.9902080375,
              0.01471332169
             ]
            },
            {
             "iteration": 311,
             "learn": [
              0.01722750047
             ],
             "passed_time": 26.3131821,
             "remaining_time": 51.86733009,
             "test": [
              0.9902015679,
              0.01471233922
             ]
            },
            {
             "iteration": 312,
             "learn": [
              0.01722190302
             ],
             "passed_time": 26.42510069,
             "remaining_time": 51.83709849,
             "test": [
              0.9902301307,
              0.01470181157
             ]
            },
            {
             "iteration": 313,
             "learn": [
              0.01721627768
             ],
             "passed_time": 26.52425894,
             "remaining_time": 51.78143545,
             "test": [
              0.9902234013,
              0.01469744171
             ]
            },
            {
             "iteration": 314,
             "learn": [
              0.0172129555
             ],
             "passed_time": 26.62321803,
             "remaining_time": 51.72510931,
             "test": [
              0.9902218649,
              0.01469590372
             ]
            },
            {
             "iteration": 315,
             "learn": [
              0.01720914887
             ],
             "passed_time": 26.70383443,
             "remaining_time": 51.63304695,
             "test": [
              0.9902215381,
              0.01469317782
             ]
            },
            {
             "iteration": 316,
             "learn": [
              0.01720563104
             ],
             "passed_time": 26.77898414,
             "remaining_time": 51.5305373,
             "test": [
              0.9902232337,
              0.01469128111
             ]
            },
            {
             "iteration": 317,
             "learn": [
              0.01720266214
             ],
             "passed_time": 26.86025023,
             "remaining_time": 51.43991318,
             "test": [
              0.9902336504,
              0.01468876118
             ]
            },
            {
             "iteration": 318,
             "learn": [
              0.01720157902
             ],
             "passed_time": 26.94058513,
             "remaining_time": 51.34757292,
             "test": [
              0.9902309268,
              0.01468786639
             ]
            },
            {
             "iteration": 319,
             "learn": [
              0.0171986118
             ],
             "passed_time": 27.02863121,
             "remaining_time": 51.26993483,
             "test": [
              0.9902298066,
              0.01468632375
             ]
            },
            {
             "iteration": 320,
             "learn": [
              0.01719749524
             ],
             "passed_time": 27.10661538,
             "remaining_time": 51.17323652,
             "test": [
              0.9902301027,
              0.0146855417
             ]
            },
            {
             "iteration": 321,
             "learn": [
              0.01719155585
             ],
             "passed_time": 27.1923583,
             "remaining_time": 51.0912322,
             "test": [
              0.9902300999,
              0.01468136821
             ]
            },
            {
             "iteration": 322,
             "learn": [
              0.01718932102
             ],
             "passed_time": 27.27541366,
             "remaining_time": 51.0041791,
             "test": [
              0.9902356281,
              0.01468073783
             ]
            },
            {
             "iteration": 323,
             "learn": [
              0.01718799172
             ],
             "passed_time": 27.34326759,
             "remaining_time": 50.88885912,
             "test": [
              0.9902316754,
              0.01468110853
             ]
            },
            {
             "iteration": 324,
             "learn": [
              0.01718599523
             ],
             "passed_time": 27.41732145,
             "remaining_time": 50.78531542,
             "test": [
              0.990229896,
              0.0146786886
             ]
            },
            {
             "iteration": 325,
             "learn": [
              0.01718251525
             ],
             "passed_time": 27.50396331,
             "remaining_time": 50.70515936,
             "test": [
              0.9902309855,
              0.0146758793
             ]
            },
            {
             "iteration": 326,
             "learn": [
              0.01718015766
             ],
             "passed_time": 27.58067636,
             "remaining_time": 50.60674562,
             "test": [
              0.9902292577,
              0.01467354001
             ]
            },
            {
             "iteration": 327,
             "learn": [
              0.01717296914
             ],
             "passed_time": 27.70123676,
             "remaining_time": 50.58853909,
             "test": [
              0.9902633626,
              0.01465843532
             ]
            },
            {
             "iteration": 328,
             "learn": [
              0.01717145329
             ],
             "passed_time": 27.79755915,
             "remaining_time": 50.52565463,
             "test": [
              0.9902617843,
              0.01465701862
             ]
            },
            {
             "iteration": 329,
             "learn": [
              0.01716835467
             ],
             "passed_time": 27.87596775,
             "remaining_time": 50.43015984,
             "test": [
              0.9902636755,
              0.01465390104
             ]
            },
            {
             "iteration": 330,
             "learn": [
              0.01716357109
             ],
             "passed_time": 27.96153615,
             "remaining_time": 50.34766025,
             "test": [
              0.9902860704,
              0.01464875704
             ]
            },
            {
             "iteration": 331,
             "learn": [
              0.01715912833
             ],
             "passed_time": 28.07660691,
             "remaining_time": 50.3180154,
             "test": [
              0.9902982972,
              0.01464522878
             ]
            },
            {
             "iteration": 332,
             "learn": [
              0.01715594997
             ],
             "passed_time": 28.16369774,
             "remaining_time": 50.23794731,
             "test": [
              0.9902990835,
              0.01464238717
             ]
            },
            {
             "iteration": 333,
             "learn": [
              0.01714909425
             ],
             "passed_time": 28.24717076,
             "remaining_time": 50.15141396,
             "test": [
              0.9903034021,
              0.0146377063
             ]
            },
            {
             "iteration": 334,
             "learn": [
              0.01714469145
             ],
             "passed_time": 28.33070519,
             "remaining_time": 50.06500738,
             "test": [
              0.9903055531,
              0.01463477545
             ]
            },
            {
             "iteration": 335,
             "learn": [
              0.01714008036
             ],
             "passed_time": 28.40818958,
             "remaining_time": 49.96797632,
             "test": [
              0.9903252439,
              0.01462427421
             ]
            },
            {
             "iteration": 336,
             "learn": [
              0.01713917091
             ],
             "passed_time": 28.49048643,
             "remaining_time": 49.87948662,
             "test": [
              0.9903236796,
              0.01462410864
             ]
            },
            {
             "iteration": 337,
             "learn": [
              0.01713697253
             ],
             "passed_time": 28.59298798,
             "remaining_time": 49.82624237,
             "test": [
              0.990325364,
              0.01462246183
             ]
            },
            {
             "iteration": 338,
             "learn": [
              0.0171363383
             ],
             "passed_time": 28.68130714,
             "remaining_time": 49.74810797,
             "test": [
              0.9903259981,
              0.01462196841
             ]
            },
            {
             "iteration": 339,
             "learn": [
              0.01713150537
             ],
             "passed_time": 28.76418698,
             "remaining_time": 49.66052282,
             "test": [
              0.9903260037,
              0.01461720419
             ]
            },
            {
             "iteration": 340,
             "learn": [
              0.0171255308
             ],
             "passed_time": 28.85019829,
             "remaining_time": 49.57834663,
             "test": [
              0.9903293642,
              0.0146127782
             ]
            },
            {
             "iteration": 341,
             "learn": [
              0.01712333299
             ],
             "passed_time": 28.92585231,
             "remaining_time": 49.47843159,
             "test": [
              0.9903260903,
              0.01461147032
             ]
            },
            {
             "iteration": 342,
             "learn": [
              0.01712030328
             ],
             "passed_time": 29.0205164,
             "remaining_time": 49.411025,
             "test": [
              0.9903224505,
              0.01460970475
             ]
            },
            {
             "iteration": 343,
             "learn": [
              0.01711342613
             ],
             "passed_time": 29.11757974,
             "remaining_time": 49.34752613,
             "test": [
              0.9903267608,
              0.01460425219
             ]
            },
            {
             "iteration": 344,
             "learn": [
              0.017109854
             ],
             "passed_time": 29.20045649,
             "remaining_time": 49.25990052,
             "test": [
              0.9903270764,
              0.01460245626
             ]
            },
            {
             "iteration": 345,
             "learn": [
              0.01710778012
             ],
             "passed_time": 29.27645219,
             "remaining_time": 49.16074775,
             "test": [
              0.9903229226,
              0.01460246255
             ]
            },
            {
             "iteration": 346,
             "learn": [
              0.01710382048
             ],
             "passed_time": 29.37568591,
             "remaining_time": 49.10057011,
             "test": [
              0.990320132,
              0.01459907524
             ]
            },
            {
             "iteration": 347,
             "learn": [
              0.01710025211
             ],
             "passed_time": 29.46798471,
             "remaining_time": 49.02862974,
             "test": [
              0.9903508484,
              0.01458897082
             ]
            },
            {
             "iteration": 348,
             "learn": [
              0.01709576656
             ],
             "passed_time": 29.5623381,
             "remaining_time": 48.95997542,
             "test": [
              0.9903513848,
              0.01458447005
             ]
            },
            {
             "iteration": 349,
             "learn": [
              0.01709386616
             ],
             "passed_time": 29.65298676,
             "remaining_time": 48.88506675,
             "test": [
              0.9903461024,
              0.01458309823
             ]
            },
            {
             "iteration": 350,
             "learn": [
              0.01709249304
             ],
             "passed_time": 29.73937938,
             "remaining_time": 48.80308412,
             "test": [
              0.9903468818,
              0.01458228797
             ]
            },
            {
             "iteration": 351,
             "learn": [
              0.01708731119
             ],
             "passed_time": 29.83002763,
             "remaining_time": 48.72802808,
             "test": [
              0.9903445004,
              0.01457854854
             ]
            },
            {
             "iteration": 352,
             "learn": [
              0.01708296809
             ],
             "passed_time": 29.92111094,
             "remaining_time": 48.65359116,
             "test": [
              0.9903403773,
              0.01457444804
             ]
            },
            {
             "iteration": 353,
             "learn": [
              0.01708033905
             ],
             "passed_time": 30.00014642,
             "remaining_time": 48.55955903,
             "test": [
              0.9903437909,
              0.01457217386
             ]
            },
            {
             "iteration": 354,
             "learn": [
              0.01707694395
             ],
             "passed_time": 30.10152561,
             "remaining_time": 48.50161309,
             "test": [
              0.9903446931,
              0.01456947906
             ]
            },
            {
             "iteration": 355,
             "learn": [
              0.01707433265
             ],
             "passed_time": 30.18425672,
             "remaining_time": 48.41351289,
             "test": [
              0.9903420031,
              0.01456889018
             ]
            },
            {
             "iteration": 356,
             "learn": [
              0.01707067794
             ],
             "passed_time": 30.26390653,
             "remaining_time": 48.32052304,
             "test": [
              0.9903406957,
              0.01456697894
             ]
            },
            {
             "iteration": 357,
             "learn": [
              0.01706977034
             ],
             "passed_time": 30.35569091,
             "remaining_time": 48.24689422,
             "test": [
              0.9903392543,
              0.01456660042
             ]
            },
            {
             "iteration": 358,
             "learn": [
              0.01706604477
             ],
             "passed_time": 30.43139792,
             "remaining_time": 48.14772707,
             "test": [
              0.9903656075,
              0.01455778735
             ]
            },
            {
             "iteration": 359,
             "learn": [
              0.01706224495
             ],
             "passed_time": 30.4945561,
             "remaining_time": 48.02892586,
             "test": [
              0.9903904494,
              0.01454885844
             ]
            },
            {
             "iteration": 360,
             "learn": [
              0.01705736389
             ],
             "passed_time": 30.59194986,
             "remaining_time": 47.96410975,
             "test": [
              0.9903898069,
              0.01454478963
             ]
            },
            {
             "iteration": 361,
             "learn": [
              0.01705329831
             ],
             "passed_time": 30.67573641,
             "remaining_time": 47.87787589,
             "test": [
              0.9904202552,
              0.01453405124
             ]
            },
            {
             "iteration": 362,
             "learn": [
              0.01705248908
             ],
             "passed_time": 30.74604273,
             "remaining_time": 47.77071102,
             "test": [
              0.9904200289,
              0.01453343855
             ]
            },
            {
             "iteration": 363,
             "learn": [
              0.01704668216
             ],
             "passed_time": 30.81875556,
             "remaining_time": 47.66747083,
             "test": [
              0.9904371387,
              0.01452380102
             ]
            },
            {
             "iteration": 364,
             "learn": [
              0.01704269626
             ],
             "passed_time": 30.90969211,
             "remaining_time": 47.59245744,
             "test": [
              0.9904379041,
              0.01451752039
             ]
            },
            {
             "iteration": 365,
             "learn": [
              0.01703675962
             ],
             "passed_time": 31.01302284,
             "remaining_time": 47.53635468,
             "test": [
              0.990476174,
              0.01450061076
             ]
            },
            {
             "iteration": 366,
             "learn": [
              0.01703001229
             ],
             "passed_time": 31.09327226,
             "remaining_time": 47.44477511,
             "test": [
              0.9904753192,
              0.01449703137
             ]
            },
            {
             "iteration": 367,
             "learn": [
              0.01702692796
             ],
             "passed_time": 31.16735426,
             "remaining_time": 47.34388867,
             "test": [
              0.9904740901,
              0.0144946001
             ]
            },
            {
             "iteration": 368,
             "learn": [
              0.01702158383
             ],
             "passed_time": 31.23556824,
             "remaining_time": 47.23427392,
             "test": [
              0.9904717967,
              0.01448872598
             ]
            },
            {
             "iteration": 369,
             "learn": [
              0.017019426
             ],
             "passed_time": 31.30920292,
             "remaining_time": 47.13304332,
             "test": [
              0.9904736571,
              0.01448755782
             ]
            },
            {
             "iteration": 370,
             "learn": [
              0.01701570313
             ],
             "passed_time": 31.39673388,
             "remaining_time": 47.05278716,
             "test": [
              0.9904862415,
              0.01448022755
             ]
            },
            {
             "iteration": 371,
             "learn": [
              0.01701268744
             ],
             "passed_time": 31.48176266,
             "remaining_time": 46.96875881,
             "test": [
              0.9904907836,
              0.01447498868
             ]
            },
            {
             "iteration": 372,
             "learn": [
              0.01700824884
             ],
             "passed_time": 31.55022891,
             "remaining_time": 46.86012551,
             "test": [
              0.9904871353,
              0.01447299007
             ]
            },
            {
             "iteration": 373,
             "learn": [
              0.01700641641
             ],
             "passed_time": 31.62302106,
             "remaining_time": 46.75810333,
             "test": [
              0.9904894651,
              0.01447213046
             ]
            },
            {
             "iteration": 374,
             "learn": [
              0.01700464908
             ],
             "passed_time": 31.71137737,
             "remaining_time": 46.67914749,
             "test": [
              0.9904928982,
              0.01447033241
             ]
            },
            {
             "iteration": 375,
             "learn": [
              0.01700413787
             ],
             "passed_time": 31.80232407,
             "remaining_time": 46.60393766,
             "test": [
              0.990492278,
              0.01447044291
             ]
            },
            {
             "iteration": 376,
             "learn": [
              0.01700084308
             ],
             "passed_time": 31.87067658,
             "remaining_time": 46.49568201,
             "test": [
              0.9904946916,
              0.01446800876
             ]
            },
            {
             "iteration": 377,
             "learn": [
              0.01699424074
             ],
             "passed_time": 31.95241626,
             "remaining_time": 46.40708076,
             "test": [
              0.9905000158,
              0.01446345748
             ]
            },
            {
             "iteration": 378,
             "learn": [
              0.01698978055
             ],
             "passed_time": 32.02204006,
             "remaining_time": 46.30099724,
             "test": [
              0.9905133488,
              0.01445547727
             ]
            },
            {
             "iteration": 379,
             "learn": [
              0.01698530217
             ],
             "passed_time": 32.10130429,
             "remaining_time": 46.20898275,
             "test": [
              0.9905296121,
              0.01444752336
             ]
            },
            {
             "iteration": 380,
             "learn": [
              0.01698301288
             ],
             "passed_time": 32.18353704,
             "remaining_time": 46.1212893,
             "test": [
              0.9905293021,
              0.01444617793
             ]
            },
            {
             "iteration": 381,
             "learn": [
              0.01697687184
             ],
             "passed_time": 32.27878175,
             "remaining_time": 46.05218863,
             "test": [
              0.9905352018,
              0.01443931738
             ]
            },
            {
             "iteration": 382,
             "learn": [
              0.01697507213
             ],
             "passed_time": 32.37431439,
             "remaining_time": 45.98336039,
             "test": [
              0.990533481,
              0.01443856093
             ]
            },
            {
             "iteration": 383,
             "learn": [
              0.0169731395
             ],
             "passed_time": 32.45842875,
             "remaining_time": 45.8982469,
             "test": [
              0.990529087,
              0.01443726824
             ]
            },
            {
             "iteration": 384,
             "learn": [
              0.01696944361
             ],
             "passed_time": 32.54609026,
             "remaining_time": 45.81813227,
             "test": [
              0.9905276623,
              0.01443299725
             ]
            },
            {
             "iteration": 385,
             "learn": [
              0.01696453967
             ],
             "passed_time": 32.63412577,
             "remaining_time": 45.7385027,
             "test": [
              0.9905273578,
              0.01442961645
             ]
            },
            {
             "iteration": 386,
             "learn": [
              0.01696206127
             ],
             "passed_time": 32.71397171,
             "remaining_time": 45.64740239,
             "test": [
              0.9905269388,
              0.01442882328
             ]
            },
            {
             "iteration": 387,
             "learn": [
              0.01695657604
             ],
             "passed_time": 32.80043744,
             "remaining_time": 45.56555614,
             "test": [
              0.9905474034,
              0.01442462492
             ]
            },
            {
             "iteration": 388,
             "learn": [
              0.01695248635
             ],
             "passed_time": 32.87520527,
             "remaining_time": 45.46750755,
             "test": [
              0.9905494957,
              0.01442238017
             ]
            },
            {
             "iteration": 389,
             "learn": [
              0.01695097126
             ],
             "passed_time": 32.95103529,
             "remaining_time": 45.3710409,
             "test": [
              0.9905523646,
              0.01442062878
             ]
            },
            {
             "iteration": 390,
             "learn": [
              0.01694709539
             ],
             "passed_time": 33.0148975,
             "remaining_time": 45.25827382,
             "test": [
              0.9905672563,
              0.0144134663
             ]
            },
            {
             "iteration": 391,
             "learn": [
              0.0169442118
             ],
             "passed_time": 33.11323139,
             "remaining_time": 45.19280305,
             "test": [
              0.9905663149,
              0.01441058557
             ]
            },
            {
             "iteration": 392,
             "learn": [
              0.01693680659
             ],
             "passed_time": 33.19262792,
             "remaining_time": 45.10143336,
             "test": [
              0.9905705497,
              0.01440434181
             ]
            },
            {
             "iteration": 393,
             "learn": [
              0.01693485898
             ],
             "passed_time": 33.27697161,
             "remaining_time": 45.01681692,
             "test": [
              0.990572075,
              0.01440192865
             ]
            },
            {
             "iteration": 394,
             "learn": [
              0.01692969037
             ],
             "passed_time": 33.36934197,
             "remaining_time": 44.94301248,
             "test": [
              0.9905731365,
              0.01439917995
             ]
            },
            {
             "iteration": 395,
             "learn": [
              0.0169285405
             ],
             "passed_time": 33.4607898,
             "remaining_time": 44.86787723,
             "test": [
              0.9905746449,
              0.01439878056
             ]
            },
            {
             "iteration": 396,
             "learn": [
              0.01692132366
             ],
             "passed_time": 33.55890287,
             "remaining_time": 44.80155798,
             "test": [
              0.9905779663,
              0.014390716
             ]
            },
            {
             "iteration": 397,
             "learn": [
              0.01691199281
             ],
             "passed_time": 33.65953234,
             "remaining_time": 44.73842364,
             "test": [
              0.9906159219,
              0.01437828828
             ]
            },
            {
             "iteration": 398,
             "learn": [
              0.01690694541
             ],
             "passed_time": 33.76251081,
             "remaining_time": 44.67820979,
             "test": [
              0.9906163912,
              0.01437481902
             ]
            },
            {
             "iteration": 399,
             "learn": [
              0.01690620497
             ],
             "passed_time": 33.83563443,
             "remaining_time": 44.57844836,
             "test": [
              0.9906138841,
              0.01437423321
             ]
            },
            {
             "iteration": 400,
             "learn": [
              0.01690412634
             ],
             "passed_time": 33.91620825,
             "remaining_time": 44.48859236,
             "test": [
              0.9906163563,
              0.01437260534
             ]
            },
            {
             "iteration": 401,
             "learn": [
              0.01689984228
             ],
             "passed_time": 34.01338279,
             "remaining_time": 44.4204626,
             "test": [
              0.990613588,
              0.01437024179
             ]
            },
            {
             "iteration": 402,
             "learn": [
              0.01689845848
             ],
             "passed_time": 34.1238359,
             "remaining_time": 44.36945413,
             "test": [
              0.9906128338,
              0.01436972447
             ]
            },
            {
             "iteration": 403,
             "learn": [
              0.01689683817
             ],
             "passed_time": 34.22583777,
             "remaining_time": 44.30721077,
             "test": [
              0.9906155937,
              0.01436900471
             ]
            },
            {
             "iteration": 404,
             "learn": [
              0.01689449824
             ],
             "passed_time": 34.30258198,
             "remaining_time": 44.21221677,
             "test": [
              0.99061225,
              0.01436767048
             ]
            },
            {
             "iteration": 405,
             "learn": [
              0.01688824275
             ],
             "passed_time": 34.37948421,
             "remaining_time": 44.11751545,
             "test": [
              0.9906141299,
              0.01436295721
             ]
            },
            {
             "iteration": 406,
             "learn": [
              0.01688637929
             ],
             "passed_time": 34.46868808,
             "remaining_time": 44.03861868,
             "test": [
              0.9906141383,
              0.01436142485
             ]
            },
            {
             "iteration": 407,
             "learn": [
              0.01688355307
             ],
             "passed_time": 34.54417519,
             "remaining_time": 43.94222285,
             "test": [
              0.9906118756,
              0.01436030478
             ]
            },
            {
             "iteration": 408,
             "learn": [
              0.01688139184
             ],
             "passed_time": 34.6265403,
             "remaining_time": 43.85464028,
             "test": [
              0.9906149051,
              0.01435800924
             ]
            },
            {
             "iteration": 409,
             "learn": [
              0.01687276349
             ],
             "passed_time": 34.71767248,
             "remaining_time": 43.77813822,
             "test": [
              0.9906143604,
              0.01435078402
             ]
            },
            {
             "iteration": 410,
             "learn": [
              0.01686848995
             ],
             "passed_time": 34.81004209,
             "remaining_time": 43.70311854,
             "test": [
              0.9906199808,
              0.01434297168
             ]
            },
            {
             "iteration": 411,
             "learn": [
              0.01686607078
             ],
             "passed_time": 34.89300774,
             "remaining_time": 43.61625967,
             "test": [
              0.9906192265,
              0.01434251584
             ]
            },
            {
             "iteration": 412,
             "learn": [
              0.01686503043
             ],
             "passed_time": 34.96931689,
             "remaining_time": 43.5211353,
             "test": [
              0.9906159499,
              0.01434175611
             ]
            },
            {
             "iteration": 413,
             "learn": [
              0.01686285065
             ],
             "passed_time": 35.05223679,
             "remaining_time": 43.43429341,
             "test": [
              0.9906174443,
              0.01434045757
             ]
            },
            {
             "iteration": 414,
             "learn": [
              0.01685850939
             ],
             "passed_time": 35.15258589,
             "remaining_time": 43.36897344,
             "test": [
              0.990613595,
              0.01433801822
             ]
            },
            {
             "iteration": 415,
             "learn": [
              0.01685478739
             ],
             "passed_time": 35.2313181,
             "remaining_time": 43.27693161,
             "test": [
              0.9906111927,
              0.01433654644
             ]
            },
            {
             "iteration": 416,
             "learn": [
              0.01685230823
             ],
             "passed_time": 35.31514021,
             "remaining_time": 43.19117868,
             "test": [
              0.9906113211,
              0.01433502549
             ]
            },
            {
             "iteration": 417,
             "learn": [
              0.01684753379
             ],
             "passed_time": 35.41117706,
             "remaining_time": 43.12030891,
             "test": [
              0.9906231234,
              0.01433108977
             ]
            },
            {
             "iteration": 418,
             "learn": [
              0.01684503981
             ],
             "passed_time": 35.50493946,
             "remaining_time": 43.04656145,
             "test": [
              0.9906181594,
              0.01433081887
             ]
            },
            {
             "iteration": 419,
             "learn": [
              0.0168406012
             ],
             "passed_time": 35.59807558,
             "remaining_time": 42.97196266,
             "test": [
              0.9906182907,
              0.01432800806
             ]
            },
            {
             "iteration": 420,
             "learn": [
              0.01683946268
             ],
             "passed_time": 35.69112748,
             "remaining_time": 42.8971746,
             "test": [
              0.9906175533,
              0.01432730448
             ]
            },
            {
             "iteration": 421,
             "learn": [
              0.01683607223
             ],
             "passed_time": 35.77391874,
             "remaining_time": 42.81002124,
             "test": [
              0.9906155057,
              0.01432438178
             ]
            },
            {
             "iteration": 422,
             "learn": [
              0.01682954578
             ],
             "passed_time": 35.86911893,
             "remaining_time": 42.73767362,
             "test": [
              0.9906080137,
              0.01432012438
             ]
            },
            {
             "iteration": 423,
             "learn": [
              0.01682793636
             ],
             "passed_time": 35.96712238,
             "remaining_time": 42.66854377,
             "test": [
              0.9906084635,
              0.01431909473
             ]
            },
            {
             "iteration": 424,
             "learn": [
              0.01682382862
             ],
             "passed_time": 36.04290618,
             "remaining_time": 42.57303272,
             "test": [
              0.990603128,
              0.01431685702
             ]
            },
            {
             "iteration": 425,
             "learn": [
              0.0168227333
             ],
             "passed_time": 36.1364908,
             "remaining_time": 42.49854904,
             "test": [
              0.9906007899,
              0.01431611695
             ]
            },
            {
             "iteration": 426,
             "learn": [
              0.01681434201
             ],
             "passed_time": 36.22367304,
             "remaining_time": 42.41647897,
             "test": [
              0.9906117653,
              0.01431041683
             ]
            },
            {
             "iteration": 427,
             "learn": [
              0.01681276644
             ],
             "passed_time": 36.30712635,
             "remaining_time": 42.33003749,
             "test": [
              0.990604522,
              0.01430925156
             ]
            },
            {
             "iteration": 428,
             "learn": [
              0.0168112179
             ],
             "passed_time": 36.3968157,
             "remaining_time": 42.250849,
             "test": [
              0.9906076003,
              0.01430813979
             ]
            },
            {
             "iteration": 429,
             "learn": [
              0.01681008862
             ],
             "passed_time": 36.49538263,
             "remaining_time": 42.18187248,
             "test": [
              0.9906098686,
              0.01430756598
             ]
            },
            {
             "iteration": 430,
             "learn": [
              0.01680591405
             ],
             "passed_time": 36.60341464,
             "remaining_time": 42.12365119,
             "test": [
              0.9906178242,
              0.0143028722
             ]
            },
            {
             "iteration": 431,
             "learn": [
              0.01680392736
             ],
             "passed_time": 36.68158796,
             "remaining_time": 42.0309862,
             "test": [
              0.9906176287,
              0.01430167539
             ]
            },
            {
             "iteration": 432,
             "learn": [
              0.01680200619
             ],
             "passed_time": 36.76132353,
             "remaining_time": 41.94017049,
             "test": [
              0.9906234865,
              0.01430003193
             ]
            },
            {
             "iteration": 433,
             "learn": [
              0.01679965733
             ],
             "passed_time": 36.84872712,
             "remaining_time": 41.85811629,
             "test": [
              0.9906176399,
              0.01429951129
             ]
            },
            {
             "iteration": 434,
             "learn": [
              0.01679681607
             ],
             "passed_time": 36.91090717,
             "remaining_time": 41.7475088,
             "test": [
              0.9906328975,
              0.01429333765
             ]
            },
            {
             "iteration": 435,
             "learn": [
              0.01679426823
             ],
             "passed_time": 36.99261121,
             "remaining_time": 41.65911033,
             "test": [
              0.9906541443,
              0.01428558473
             ]
            },
            {
             "iteration": 436,
             "learn": [
              0.01679228851
             ],
             "passed_time": 37.06980361,
             "remaining_time": 41.56568368,
             "test": [
              0.9906561528,
              0.01428424831
             ]
            },
            {
             "iteration": 437,
             "learn": [
              0.0167902242
             ],
             "passed_time": 37.18068251,
             "remaining_time": 41.50994007,
             "test": [
              0.9906531974,
              0.01428247206
             ]
            },
            {
             "iteration": 438,
             "learn": [
              0.01678610491
             ],
             "passed_time": 37.25805115,
             "remaining_time": 41.41669467,
             "test": [
              0.9906502531,
              0.01428079311
             ]
            },
            {
             "iteration": 439,
             "learn": [
              0.01677964505
             ],
             "passed_time": 37.33681322,
             "remaining_time": 41.32506372,
             "test": [
              0.9906697959,
              0.01427414348
             ]
            },
            {
             "iteration": 440,
             "learn": [
              0.01677700995
             ],
             "passed_time": 37.41527941,
             "remaining_time": 41.23316507,
             "test": [
              0.9906892269,
              0.01426609304
             ]
            },
            {
             "iteration": 441,
             "learn": [
              0.01677094435
             ],
             "passed_time": 37.50050524,
             "remaining_time": 41.14874443,
             "test": [
              0.9906932844,
              0.01426049982
             ]
            },
            {
             "iteration": 442,
             "learn": [
              0.01676542075
             ],
             "passed_time": 37.58775465,
             "remaining_time": 41.06653104,
             "test": [
              0.9906973963,
              0.01425573697
             ]
            },
            {
             "iteration": 443,
             "learn": [
              0.01676457116
             ],
             "passed_time": 37.70531884,
             "remaining_time": 41.01727252,
             "test": [
              0.9906892758,
              0.01425524122
             ]
            },
            {
             "iteration": 444,
             "learn": [
              0.01676005589
             ],
             "passed_time": 37.79989099,
             "remaining_time": 40.94280327,
             "test": [
              0.9906844348,
              0.0142550362
             ]
            },
            {
             "iteration": 445,
             "learn": [
              0.01675684572
             ],
             "passed_time": 37.89994292,
             "remaining_time": 40.87415369,
             "test": [
              0.9906840661,
              0.0142522585
             ]
            },
            {
             "iteration": 446,
             "learn": [
              0.01675145698
             ],
             "passed_time": 37.9845425,
             "remaining_time": 40.78877047,
             "test": [
              0.9906914658,
              0.01424424251
             ]
            },
            {
             "iteration": 447,
             "learn": [
              0.0167504204
             ],
             "passed_time": 38.0571646,
             "remaining_time": 40.69058447,
             "test": [
              0.9906886668,
              0.01424307727
             ]
            },
            {
             "iteration": 448,
             "learn": [
              0.01674406217
             ],
             "passed_time": 38.13302195,
             "remaining_time": 40.59595655,
             "test": [
              0.9907004746,
              0.01423935952
             ]
            },
            {
             "iteration": 449,
             "learn": [
              0.01674332458
             ],
             "passed_time": 38.22513886,
             "remaining_time": 40.51864719,
             "test": [
              0.9907052682,
              0.01423869218
             ]
            },
            {
             "iteration": 450,
             "learn": [
              0.01673903369
             ],
             "passed_time": 38.30275942,
             "remaining_time": 40.42597224,
             "test": [
              0.9907094583,
              0.0142346454
             ]
            },
            {
             "iteration": 451,
             "learn": [
              0.01673859131
             ],
             "passed_time": 38.37182118,
             "remaining_time": 40.3243696,
             "test": [
              0.9907098913,
              0.01423430458
             ]
            },
            {
             "iteration": 452,
             "learn": [
              0.01673475853
             ],
             "passed_time": 38.44536689,
             "remaining_time": 40.22760244,
             "test": [
              0.9907093354,
              0.01423105655
             ]
            },
            {
             "iteration": 453,
             "learn": [
              0.01673107648
             ],
             "passed_time": 38.52825246,
             "remaining_time": 40.14066831,
             "test": [
              0.9907135758,
              0.01422801853
             ]
            },
            {
             "iteration": 454,
             "learn": [
              0.01672878734
             ],
             "passed_time": 38.61744011,
             "remaining_time": 40.06028952,
             "test": [
              0.9907161178,
              0.01422617244
             ]
            },
            {
             "iteration": 455,
             "learn": [
              0.01672708564
             ],
             "passed_time": 38.71380193,
             "remaining_time": 39.98728226,
             "test": [
              0.9907168301,
              0.0142246881
             ]
            },
            {
             "iteration": 456,
             "learn": [
              0.01672477258
             ],
             "passed_time": 38.79298912,
             "remaining_time": 39.89650959,
             "test": [
              0.9907131372,
              0.01422494096
             ]
            },
            {
             "iteration": 457,
             "learn": [
              0.01672429858
             ],
             "passed_time": 38.87401439,
             "remaining_time": 39.80766976,
             "test": [
              0.9907117517,
              0.01422480306
             ]
            },
            {
             "iteration": 458,
             "learn": [
              0.01672214011
             ],
             "passed_time": 38.95462491,
             "remaining_time": 39.71844108,
             "test": [
              0.9907073046,
              0.01422276989
             ]
            },
            {
             "iteration": 459,
             "learn": [
              0.01672101526
             ],
             "passed_time": 39.03110516,
             "remaining_time": 39.62505676,
             "test": [
              0.9907034496,
              0.01422196207
             ]
            },
            {
             "iteration": 460,
             "learn": [
              0.01672049684
             ],
             "passed_time": 39.10458385,
             "remaining_time": 39.52871166,
             "test": [
              0.9907023155,
              0.01422180562
             ]
            },
            {
             "iteration": 461,
             "learn": [
              0.0167186438
             ],
             "passed_time": 39.18996679,
             "remaining_time": 39.44444709,
             "test": [
              0.9907168846,
              0.01421732893
             ]
            },
            {
             "iteration": 462,
             "learn": [
              0.01671514545
             ],
             "passed_time": 39.27523152,
             "remaining_time": 39.36005923,
             "test": [
              0.9907185132,
              0.01421447464
             ]
            },
            {
             "iteration": 463,
             "learn": [
              0.01671243487
             ],
             "passed_time": 39.36115493,
             "remaining_time": 39.27632485,
             "test": [
              0.9907231307,
              0.01421191195
             ]
            },
            {
             "iteration": 464,
             "learn": [
              0.01670708807
             ],
             "passed_time": 39.43692436,
             "remaining_time": 39.18249259,
             "test": [
              0.9907202814,
              0.01420908471
             ]
            },
            {
             "iteration": 465,
             "learn": [
              0.01670388393
             ],
             "passed_time": 39.51703026,
             "remaining_time": 39.09302779,
             "test": [
              0.9907241754,
              0.01420623428
             ]
            },
            {
             "iteration": 466,
             "learn": [
              0.01670197241
             ],
             "passed_time": 39.61132946,
             "remaining_time": 39.01758362,
             "test": [
              0.9907273404,
              0.01420438023
             ]
            },
            {
             "iteration": 467,
             "learn": [
              0.01670082783
             ],
             "passed_time": 39.69124265,
             "remaining_time": 38.92794952,
             "test": [
              0.990729184,
              0.01420440966
             ]
            },
            {
             "iteration": 468,
             "learn": [
              0.01669764631
             ],
             "passed_time": 39.77269011,
             "remaining_time": 38.83985516,
             "test": [
              0.9907285946,
              0.01420275996
             ]
            },
            {
             "iteration": 469,
             "learn": [
              0.0166951617
             ],
             "passed_time": 39.85410281,
             "remaining_time": 38.75175528,
             "test": [
              0.9907281114,
              0.01420258927
             ]
            },
            {
             "iteration": 470,
             "learn": [
              0.01669106305
             ],
             "passed_time": 39.93726723,
             "remaining_time": 38.66537974,
             "test": [
              0.9907298545,
              0.0142006119
             ]
            },
            {
             "iteration": 471,
             "learn": [
              0.01669049674
             ],
             "passed_time": 40.01032262,
             "remaining_time": 38.56927286,
             "test": [
              0.9907281672,
              0.01420027073
             ]
            },
            {
             "iteration": 472,
             "learn": [
              0.01668160443
             ],
             "passed_time": 40.08689209,
             "remaining_time": 38.47663639,
             "test": [
              0.9907449362,
              0.01419387344
             ]
            },
            {
             "iteration": 473,
             "learn": [
              0.01668025633
             ],
             "passed_time": 40.17117728,
             "remaining_time": 38.39144158,
             "test": [
              0.9907438998,
              0.01419332159
             ]
            },
            {
             "iteration": 474,
             "learn": [
              0.01667921198
             ],
             "passed_time": 40.2736715,
             "remaining_time": 38.32357793,
             "test": [
              0.9907470508,
              0.01419256747
             ]
            },
            {
             "iteration": 475,
             "learn": [
              0.01667498575
             ],
             "passed_time": 40.37519006,
             "remaining_time": 38.25464437,
             "test": [
              0.9907522046,
              0.01418614078
             ]
            },
            {
             "iteration": 476,
             "learn": [
              0.01666961131
             ],
             "passed_time": 40.46234591,
             "remaining_time": 38.17202445,
             "test": [
              0.9907611939,
              0.0141824903
             ]
            },
            {
             "iteration": 477,
             "learn": [
              0.01666684986
             ],
             "passed_time": 40.55406385,
             "remaining_time": 38.09367086,
             "test": [
              0.9907642694,
              0.01417998382
             ]
            },
            {
             "iteration": 478,
             "learn": [
              0.01665954164
             ],
             "passed_time": 40.63985616,
             "remaining_time": 38.00971933,
             "test": [
              0.9907696943,
              0.01417556646
             ]
            },
            {
             "iteration": 479,
             "learn": [
              0.01665758203
             ],
             "passed_time": 40.72365866,
             "remaining_time": 37.92390712,
             "test": [
              0.9907642164,
              0.01417385942
             ]
            },
            {
             "iteration": 480,
             "learn": [
              0.01665439556
             ],
             "passed_time": 40.80691845,
             "remaining_time": 37.83760006,
             "test": [
              0.9907670824,
              0.01417074498
             ]
            },
            {
             "iteration": 481,
             "learn": [
              0.01665369631
             ],
             "passed_time": 40.86899805,
             "remaining_time": 37.73175131,
             "test": [
              0.9907669371,
              0.01417066219
             ]
            },
            {
             "iteration": 482,
             "learn": [
              0.01665152365
             ],
             "passed_time": 40.92989851,
             "remaining_time": 37.62499987,
             "test": [
              0.9907659064,
              0.01416861678
             ]
            },
            {
             "iteration": 483,
             "learn": [
              0.01664978497
             ],
             "passed_time": 41.00200619,
             "remaining_time": 37.52869575,
             "test": [
              0.9907659678,
              0.01416714794
             ]
            },
            {
             "iteration": 484,
             "learn": [
              0.01664745597
             ],
             "passed_time": 41.08340565,
             "remaining_time": 37.44095938,
             "test": [
              0.9907870917,
              0.01415963964
             ]
            },
            {
             "iteration": 485,
             "learn": [
              0.01664263755
             ],
             "passed_time": 41.17892558,
             "remaining_time": 37.3660621,
             "test": [
              0.9907844044,
              0.01415553233
             ]
            },
            {
             "iteration": 486,
             "learn": [
              0.01663932996
             ],
             "passed_time": 41.26175744,
             "remaining_time": 37.27961658,
             "test": [
              0.9907924076,
              0.01415051671
             ]
            },
            {
             "iteration": 487,
             "learn": [
              0.0166389791
             ],
             "passed_time": 41.33829144,
             "remaining_time": 37.18752037,
             "test": [
              0.9907922065,
              0.01415000169
             ]
            },
            {
             "iteration": 488,
             "learn": [
              0.01663313437
             ],
             "passed_time": 41.40289152,
             "remaining_time": 37.08479854,
             "test": [
              0.990799623,
              0.01414462983
             ]
            },
            {
             "iteration": 489,
             "learn": [
              0.01663188036
             ],
             "passed_time": 41.50082634,
             "remaining_time": 37.01196145,
             "test": [
              0.9907965363,
              0.01414449676
             ]
            },
            {
             "iteration": 490,
             "learn": [
              0.01662960535
             ],
             "passed_time": 41.57830676,
             "remaining_time": 36.92085895,
             "test": [
              0.9907951228,
              0.01414362227
             ]
            },
            {
             "iteration": 491,
             "learn": [
              0.01662226784
             ],
             "passed_time": 41.65573824,
             "remaining_time": 36.82976857,
             "test": [
              0.9907930529,
              0.01413749224
             ]
            },
            {
             "iteration": 492,
             "learn": [
              0.01662003855
             ],
             "passed_time": 41.71577917,
             "remaining_time": 36.72342426,
             "test": [
              0.9907954273,
              0.0141359558
             ]
            },
            {
             "iteration": 493,
             "learn": [
              0.0166194001
             ],
             "passed_time": 41.80945143,
             "remaining_time": 36.64674589,
             "test": [
              0.9907951395,
              0.01413562468
             ]
            },
            {
             "iteration": 494,
             "learn": [
              0.01661727766
             ],
             "passed_time": 41.873691,
             "remaining_time": 36.54431215,
             "test": [
              0.9907960642,
              0.01413378504
             ]
            },
            {
             "iteration": 495,
             "learn": [
              0.01661330967
             ],
             "passed_time": 41.94654963,
             "remaining_time": 36.44952196,
             "test": [
              0.9907960921,
              0.01413118107
             ]
            },
            {
             "iteration": 496,
             "learn": [
              0.0166106496
             ],
             "passed_time": 42.03911752,
             "remaining_time": 36.37187231,
             "test": [
              0.990792659,
              0.01413131916
             ]
            },
            {
             "iteration": 497,
             "learn": [
              0.01660969423
             ],
             "passed_time": 42.12818119,
             "remaining_time": 36.29114404,
             "test": [
              0.9907940641,
              0.01413096869
             ]
            },
            {
             "iteration": 498,
             "learn": [
              0.01660760974
             ],
             "passed_time": 42.21593029,
             "remaining_time": 36.20925484,
             "test": [
              0.9908022712,
              0.01412652248
             ]
            },
            {
             "iteration": 499,
             "learn": [
              0.01660630253
             ],
             "passed_time": 42.31587595,
             "remaining_time": 36.13775806,
             "test": [
              0.9908034416,
              0.01412487269
             ]
            },
            {
             "iteration": 500,
             "learn": [
              0.01660434218
             ],
             "passed_time": 42.40905244,
             "remaining_time": 36.06039189,
             "test": [
              0.9908052489,
              0.01412415813
             ]
            },
            {
             "iteration": 501,
             "learn": [
              0.01659814354
             ],
             "passed_time": 42.48049708,
             "remaining_time": 35.96456426,
             "test": [
              0.9908083804,
              0.01411753837
             ]
            },
            {
             "iteration": 502,
             "learn": [
              0.01659398034
             ],
             "passed_time": 42.55764178,
             "remaining_time": 35.8736384,
             "test": [
              0.9908152997,
              0.01411537649
             ]
            },
            {
             "iteration": 503,
             "learn": [
              0.01659127933
             ],
             "passed_time": 42.64408048,
             "remaining_time": 35.79056755,
             "test": [
              0.9908135622,
              0.01411440343
             ]
            },
            {
             "iteration": 504,
             "learn": [
              0.01658912914
             ],
             "passed_time": 42.74569511,
             "remaining_time": 35.72016502,
             "test": [
              0.9908101486,
              0.01411453633
             ]
            },
            {
             "iteration": 505,
             "learn": [
              0.01658877955
             ],
             "passed_time": 42.84031588,
             "remaining_time": 35.64382013,
             "test": [
              0.990811442,
              0.01411423121
             ]
            },
            {
             "iteration": 506,
             "learn": [
              0.01658826119
             ],
             "passed_time": 42.91632198,
             "remaining_time": 35.5519827,
             "test": [
              0.990811928,
              0.01411376837
             ]
            },
            {
             "iteration": 507,
             "learn": [
              0.01658780425
             ],
             "passed_time": 42.97746521,
             "remaining_time": 35.44794866,
             "test": [
              0.9908124476,
              0.01411339511
             ]
            },
            {
             "iteration": 508,
             "learn": [
              0.01658550557
             ],
             "passed_time": 43.0635997,
             "remaining_time": 35.36460643,
             "test": [
              0.9908133694,
              0.01411249169
             ]
            },
            {
             "iteration": 509,
             "learn": [
              0.01658016065
             ],
             "passed_time": 43.16060947,
             "remaining_time": 35.29014539,
             "test": [
              0.9908150231,
              0.01410744315
             ]
            },
            {
             "iteration": 510,
             "learn": [
              0.01657710691
             ],
             "passed_time": 43.22881504,
             "remaining_time": 35.19214688,
             "test": [
              0.9908171126,
              0.01410594256
             ]
            },
            {
             "iteration": 511,
             "learn": [
              0.01657260647
             ],
             "passed_time": 43.31429806,
             "remaining_time": 35.10826894,
             "test": [
              0.9908099531,
              0.01410221201
             ]
            },
            {
             "iteration": 512,
             "learn": [
              0.0165705946
             ],
             "passed_time": 43.3899173,
             "remaining_time": 35.01642449,
             "test": [
              0.9908286494,
              0.01409559089
             ]
            },
            {
             "iteration": 513,
             "learn": [
              0.01656533843
             ],
             "passed_time": 43.47450835,
             "remaining_time": 34.93185204,
             "test": [
              0.990830102,
              0.01409088341
             ]
            },
            {
             "iteration": 514,
             "learn": [
              0.01656315498
             ],
             "passed_time": 43.53445993,
             "remaining_time": 34.82756795,
             "test": [
              0.9908303674,
              0.01408994474
             ]
            },
            {
             "iteration": 515,
             "learn": [
              0.01656194456
             ],
             "passed_time": 43.60798141,
             "remaining_time": 34.73426426,
             "test": [
              0.9908301355,
              0.01408912589
             ]
            },
            {
             "iteration": 516,
             "learn": [
              0.01655601666
             ],
             "passed_time": 43.68650786,
             "remaining_time": 34.64500624,
             "test": [
              0.9908337754,
              0.01408502703
             ]
            },
            {
             "iteration": 517,
             "learn": [
              0.01655199865
             ],
             "passed_time": 43.75551081,
             "remaining_time": 34.54827012,
             "test": [
              0.9908519745,
              0.01407923797
             ]
            },
            {
             "iteration": 518,
             "learn": [
              0.0165479156
             ],
             "passed_time": 43.83492162,
             "remaining_time": 34.45982278,
             "test": [
              0.9908529718,
              0.01407564944
             ]
            },
            {
             "iteration": 519,
             "learn": [
              0.01654447705
             ],
             "passed_time": 43.897048,
             "remaining_time": 34.3578818,
             "test": [
              0.9908688328,
              0.01407049287
             ]
            },
            {
             "iteration": 520,
             "learn": [
              0.01654371639
             ],
             "passed_time": 43.98807251,
             "remaining_time": 34.27861313,
             "test": [
              0.9908685367,
              0.01406993465
             ]
            },
            {
             "iteration": 521,
             "learn": [
              0.01653724853
             ],
             "passed_time": 44.05171831,
             "remaining_time": 34.17805731,
             "test": [
              0.9908665506,
              0.01406452522
             ]
            },
            {
             "iteration": 522,
             "learn": [
              0.01653598881
             ],
             "passed_time": 44.13430408,
             "remaining_time": 34.09227313,
             "test": [
              0.990874375,
              0.01406123969
             ]
            },
            {
             "iteration": 523,
             "learn": [
              0.01653282058
             ],
             "passed_time": 44.22019817,
             "remaining_time": 34.00904554,
             "test": [
              0.9908752465,
              0.01405856989
             ]
            },
            {
             "iteration": 524,
             "learn": [
              0.01652727674
             ],
             "passed_time": 44.30862409,
             "remaining_time": 33.92774645,
             "test": [
              0.9908761432,
              0.01405674451
             ]
            },
            {
             "iteration": 525,
             "learn": [
              0.01652577101
             ],
             "passed_time": 44.37689178,
             "remaining_time": 33.83105248,
             "test": [
              0.9908787355,
              0.01405501273
             ]
            },
            {
             "iteration": 526,
             "learn": [
              0.01652493735
             ],
             "passed_time": 44.45880472,
             "remaining_time": 33.74482332,
             "test": [
              0.9908781768,
              0.0140546423
             ]
            },
            {
             "iteration": 527,
             "learn": [
              0.0165246342
             ],
             "passed_time": 44.52719183,
             "remaining_time": 33.64838928,
             "test": [
              0.9908782327,
              0.01405420008
             ]
            },
            {
             "iteration": 528,
             "learn": [
              0.01651613276
             ],
             "passed_time": 44.60661695,
             "remaining_time": 33.56036587,
             "test": [
              0.9908832944,
              0.0140491693
             ]
            },
            {
             "iteration": 529,
             "learn": [
              0.01651564899
             ],
             "passed_time": 44.67759732,
             "remaining_time": 33.46604931,
             "test": [
              0.9908819061,
              0.01404888533
             ]
            },
            {
             "iteration": 530,
             "learn": [
              0.01651115253
             ],
             "passed_time": 44.74431651,
             "remaining_time": 33.36864282,
             "test": [
              0.9908805792,
              0.01404732514
             ]
            },
            {
             "iteration": 531,
             "learn": [
              0.01650454347
             ],
             "passed_time": 44.83775153,
             "remaining_time": 33.2911877,
             "test": [
              0.9908811239,
              0.01404132528
             ]
            },
            {
             "iteration": 532,
             "learn": [
              0.01650382599
             ],
             "passed_time": 44.91490645,
             "remaining_time": 33.20163816,
             "test": [
              0.9908805848,
              0.01404125759
             ]
            },
            {
             "iteration": 533,
             "learn": [
              0.01650258559
             ],
             "passed_time": 45.01827571,
             "remaining_time": 33.13142763,
             "test": [
              0.9908804395,
              0.01404107003
             ]
            },
            {
             "iteration": 534,
             "learn": [
              0.01650190856
             ],
             "passed_time": 45.09496949,
             "remaining_time": 33.04154774,
             "test": [
              0.9908784897,
              0.01404016039
             ]
            },
            {
             "iteration": 535,
             "learn": [
              0.01649615633
             ],
             "passed_time": 45.15754495,
             "remaining_time": 32.94141805,
             "test": [
              0.9908760734,
              0.01403500221
             ]
            },
            {
             "iteration": 536,
             "learn": [
              0.01649581705
             ],
             "passed_time": 45.23102884,
             "remaining_time": 32.84935055,
             "test": [
              0.9908757354,
              0.01403453785
             ]
            },
            {
             "iteration": 537,
             "learn": [
              0.01649261721
             ],
             "passed_time": 45.33253442,
             "remaining_time": 32.77761317,
             "test": [
              0.9908749365,
              0.0140318319
             ]
            },
            {
             "iteration": 538,
             "learn": [
              0.01649244095
             ],
             "passed_time": 45.41708594,
             "remaining_time": 32.69356093,
             "test": [
              0.9908745566,
              0.01403180848
             ]
            },
            {
             "iteration": 539,
             "learn": [
              0.01648990637
             ],
             "passed_time": 45.50580727,
             "remaining_time": 32.61249521,
             "test": [
              0.9908724224,
              0.01402978621
             ]
            },
            {
             "iteration": 540,
             "learn": [
              0.01648846259
             ],
             "passed_time": 45.56911974,
             "remaining_time": 32.51327213,
             "test": [
              0.9908720648,
              0.01402939177
             ]
            },
            {
             "iteration": 541,
             "learn": [
              0.01648497153
             ],
             "passed_time": 45.65224941,
             "remaining_time": 32.42825835,
             "test": [
              0.9908683272,
              0.0140263919
             ]
            },
            {
             "iteration": 542,
             "learn": [
              0.01648416325
             ],
             "passed_time": 45.74473118,
             "remaining_time": 32.34986514,
             "test": [
              0.9908702798,
              0.0140259783
             ]
            },
            {
             "iteration": 543,
             "learn": [
              0.01648214768
             ],
             "passed_time": 45.83197419,
             "remaining_time": 32.26773183,
             "test": [
              0.9908761181,
              0.01402394935
             ]
            },
            {
             "iteration": 544,
             "learn": [
              0.01647712984
             ],
             "passed_time": 45.92690284,
             "remaining_time": 32.19096676,
             "test": [
              0.9908736906,
              0.01402060943
             ]
            },
            {
             "iteration": 545,
             "learn": [
              0.01647317383
             ],
             "passed_time": 46.02064421,
             "remaining_time": 32.11330667,
             "test": [
              0.9908736627,
              0.01401712729
             ]
            },
            {
             "iteration": 546,
             "learn": [
              0.0164702663
             ],
             "passed_time": 46.09443241,
             "remaining_time": 32.02172635,
             "test": [
              0.9908747717,
              0.01401507036
             ]
            },
            {
             "iteration": 547,
             "learn": [
              0.01646375235
             ],
             "passed_time": 46.1720748,
             "remaining_time": 31.93287655,
             "test": [
              0.9908752074,
              0.01401005496
             ]
            },
            {
             "iteration": 548,
             "learn": [
              0.01646192183
             ],
             "passed_time": 46.25782961,
             "remaining_time": 31.84965317,
             "test": [
              0.9908775427,
              0.01400841218
             ]
            },
            {
             "iteration": 549,
             "learn": [
              0.01645937422
             ],
             "passed_time": 46.35452522,
             "remaining_time": 31.77392001,
             "test": [
              0.9908788528,
              0.01400641992
             ]
            },
            {
             "iteration": 550,
             "learn": [
              0.01645793192
             ],
             "passed_time": 46.42853705,
             "remaining_time": 31.68263145,
             "test": [
              0.9908801797,
              0.01400445198
             ]
            },
            {
             "iteration": 551,
             "learn": [
              0.01645369801
             ],
             "passed_time": 46.50490748,
             "remaining_time": 31.5930078,
             "test": [
              0.9908787327,
              0.01400312661
             ]
            },
            {
             "iteration": 552,
             "learn": [
              0.0164497377
             ],
             "passed_time": 46.58266937,
             "remaining_time": 31.50437314,
             "test": [
              0.9908778472,
              0.01399999248
             ]
            },
            {
             "iteration": 553,
             "learn": [
              0.01644757776
             ],
             "passed_time": 46.64547847,
             "remaining_time": 31.40571024,
             "test": [
              0.9908868392,
              0.01399637968
             ]
            },
            {
             "iteration": 554,
             "learn": [
              0.01644684036
             ],
             "passed_time": 46.73804472,
             "remaining_time": 31.32712187,
             "test": [
              0.9908866507,
              0.01399614898
             ]
            },
            {
             "iteration": 555,
             "learn": [
              0.01644288754
             ],
             "passed_time": 46.8257316,
             "remaining_time": 31.24522738,
             "test": [
              0.9908903883,
              0.01399251244
             ]
            },
            {
             "iteration": 556,
             "learn": [
              0.0164389305
             ],
             "passed_time": 46.88617874,
             "remaining_time": 31.14521748,
             "test": [
              0.9908893352,
              0.01399139233
             ]
            },
            {
             "iteration": 557,
             "learn": [
              0.01643279998
             ],
             "passed_time": 46.96387707,
             "remaining_time": 31.05675742,
             "test": [
              0.9908953885,
              0.01398824243
             ]
            },
            {
             "iteration": 558,
             "learn": [
              0.01643209714
             ],
             "passed_time": 47.04322741,
             "remaining_time": 30.96942341,
             "test": [
              0.9908951315,
              0.01398802916
             ]
            },
            {
             "iteration": 559,
             "learn": [
              0.01642924199
             ],
             "passed_time": 47.105249,
             "remaining_time": 30.8707614,
             "test": [
              0.9908969528,
              0.01398675282
             ]
            },
            {
             "iteration": 560,
             "learn": [
              0.01642781265
             ],
             "passed_time": 47.19463341,
             "remaining_time": 30.79008169,
             "test": [
              0.9908965003,
              0.01398569825
             ]
            },
            {
             "iteration": 561,
             "learn": [
              0.01642641278
             ],
             "passed_time": 47.26644993,
             "remaining_time": 30.69796126,
             "test": [
              0.9908958243,
              0.01398462617
             ]
            },
            {
             "iteration": 562,
             "learn": [
              0.01642026812
             ],
             "passed_time": 47.34183373,
             "remaining_time": 30.60821932,
             "test": [
              0.990896464,
              0.01397987799
             ]
            },
            {
             "iteration": 563,
             "learn": [
              0.01641960683
             ],
             "passed_time": 47.40409666,
             "remaining_time": 30.51008349,
             "test": [
              0.9908959891,
              0.01397943542
             ]
            },
            {
             "iteration": 564,
             "learn": [
              0.01641856843
             ],
             "passed_time": 47.49908513,
             "remaining_time": 30.43304215,
             "test": [
              0.9908993412,
              0.01397760097
             ]
            },
            {
             "iteration": 565,
             "learn": [
              0.01641755862
             ],
             "passed_time": 47.59611534,
             "remaining_time": 30.35723964,
             "test": [
              0.9909013832,
              0.01397539512
             ]
            },
            {
             "iteration": 566,
             "learn": [
              0.01641382256
             ],
             "passed_time": 47.69648733,
             "remaining_time": 30.28348402,
             "test": [
              0.9909046683,
              0.01397196651
             ]
            },
            {
             "iteration": 567,
             "learn": [
              0.01641027117
             ],
             "passed_time": 47.76612193,
             "remaining_time": 30.19020735,
             "test": [
              0.9909074449,
              0.01396870848
             ]
            },
            {
             "iteration": 568,
             "learn": [
              0.01640958805
             ],
             "passed_time": 47.84529365,
             "remaining_time": 30.10301428,
             "test": [
              0.9909048861,
              0.01396833446
             ]
            },
            {
             "iteration": 569,
             "learn": [
              0.01640855845
             ],
             "passed_time": 47.90914241,
             "remaining_time": 30.00625235,
             "test": [
              0.9909077382,
              0.01396678543
             ]
            },
            {
             "iteration": 570,
             "learn": [
              0.01640801114
             ],
             "passed_time": 47.98046381,
             "remaining_time": 29.91426465,
             "test": [
              0.9909071237,
              0.01396652407
             ]
            },
            {
             "iteration": 571,
             "learn": [
              0.01640721629
             ],
             "passed_time": 48.05139894,
             "remaining_time": 29.82210948,
             "test": [
              0.990907315,
              0.01396703308
             ]
            },
            {
             "iteration": 572,
             "learn": [
              0.01640167544
             ],
             "passed_time": 48.11664131,
             "remaining_time": 29.72651138,
             "test": [
              0.9909136784,
              0.01396408265
             ]
            },
            {
             "iteration": 573,
             "learn": [
              0.01640106409
             ],
             "passed_time": 48.1777329,
             "remaining_time": 29.6284664,
             "test": [
              0.9909133991,
              0.01396391154
             ]
            },
            {
             "iteration": 574,
             "learn": [
              0.01639664481
             ],
             "passed_time": 48.23961464,
             "remaining_time": 29.53103366,
             "test": [
              0.9909130415,
              0.01396242677
             ]
            },
            {
             "iteration": 575,
             "learn": [
              0.0163935298
             ],
             "passed_time": 48.31094023,
             "remaining_time": 29.43947921,
             "test": [
              0.9909106504,
              0.01396153567
             ]
            },
            {
             "iteration": 576,
             "learn": [
              0.01639239711
             ],
             "passed_time": 48.39967496,
             "remaining_time": 29.358555,
             "test": [
              0.9909116448,
              0.01396045319
             ]
            },
            {
             "iteration": 577,
             "learn": [
              0.01638730293
             ],
             "passed_time": 48.48537762,
             "remaining_time": 29.27577299,
             "test": [
              0.990918863,
              0.0139543129
             ]
            },
            {
             "iteration": 578,
             "learn": [
              0.0163837815
             ],
             "passed_time": 48.56426515,
             "remaining_time": 29.18888475,
             "test": [
              0.9909171004,
              0.01395350143
             ]
            },
            {
             "iteration": 579,
             "learn": [
              0.01638115822
             ],
             "passed_time": 48.66019511,
             "remaining_time": 29.11222018,
             "test": [
              0.9909163015,
              0.01395271836
             ]
            },
            {
             "iteration": 580,
             "learn": [
              0.01638061057
             ],
             "passed_time": 48.72706852,
             "remaining_time": 29.01818538,
             "test": [
              0.9909161702,
              0.01395247366
             ]
            },
            {
             "iteration": 581,
             "learn": [
              0.01637957181
             ],
             "passed_time": 48.81244083,
             "remaining_time": 28.93520977,
             "test": [
              0.9909152483,
              0.01395262611
             ]
            },
            {
             "iteration": 582,
             "learn": [
              0.0163742646
             ],
             "passed_time": 48.88945709,
             "remaining_time": 28.84729543,
             "test": [
              0.9909200447,
              0.01394498207
             ]
            },
            {
             "iteration": 583,
             "learn": [
              0.01637096051
             ],
             "passed_time": 48.99686471,
             "remaining_time": 28.77726814,
             "test": [
              0.9909222068,
              0.0139424726
             ]
            },
            {
             "iteration": 584,
             "learn": [
              0.01636956886
             ],
             "passed_time": 49.09385675,
             "remaining_time": 28.70102394,
             "test": [
              0.9909245058,
              0.01394054833
             ]
            },
            {
             "iteration": 585,
             "learn": [
              0.01636853917
             ],
             "passed_time": 49.18495922,
             "remaining_time": 28.62128173,
             "test": [
              0.9909248298,
              0.01394082213
             ]
            },
            {
             "iteration": 586,
             "learn": [
              0.01636765706
             ],
             "passed_time": 49.25653475,
             "remaining_time": 28.53019048,
             "test": [
              0.99092557,
              0.01393996916
             ]
            },
            {
             "iteration": 587,
             "learn": [
              0.01636482887
             ],
             "passed_time": 49.35341664,
             "remaining_time": 28.45375551,
             "test": [
              0.9909247963,
              0.01393764597
             ]
            },
            {
             "iteration": 588,
             "learn": [
              0.01636446423
             ],
             "passed_time": 49.44968196,
             "remaining_time": 28.37689729,
             "test": [
              0.9909274668,
              0.01393726005
             ]
            },
            {
             "iteration": 589,
             "learn": [
              0.01636372802
             ],
             "passed_time": 49.51923409,
             "remaining_time": 28.28471506,
             "test": [
              0.9909299529,
              0.01393528755
             ]
            },
            {
             "iteration": 590,
             "learn": [
              0.01636145313
             ],
             "passed_time": 49.61797564,
             "remaining_time": 28.20920442,
             "test": [
              0.9909248493,
              0.01393325348
             ]
            },
            {
             "iteration": 591,
             "learn": [
              0.01635628824
             ],
             "passed_time": 49.69896421,
             "remaining_time": 28.12356927,
             "test": [
              0.9909312016,
              0.01393066758
             ]
            },
            {
             "iteration": 592,
             "learn": [
              0.01635356283
             ],
             "passed_time": 49.77081346,
             "remaining_time": 28.03280218,
             "test": [
              0.9909306289,
              0.0139293611
             ]
            },
            {
             "iteration": 593,
             "learn": [
              0.01634889039
             ],
             "passed_time": 49.84991129,
             "remaining_time": 27.94616239,
             "test": [
              0.9909412411,
              0.01392347693
             ]
            },
            {
             "iteration": 594,
             "learn": [
              0.016344605
             ],
             "passed_time": 49.93473914,
             "remaining_time": 27.8627452,
             "test": [
              0.9909401154,
              0.01392110714
             ]
            },
            {
             "iteration": 595,
             "learn": [
              0.01634409678
             ],
             "passed_time": 50.00655871,
             "remaining_time": 27.77209888,
             "test": [
              0.990938945,
              0.01392038582
             ]
            },
            {
             "iteration": 596,
             "learn": [
              0.01634158729
             ],
             "passed_time": 50.09484091,
             "remaining_time": 27.69061558,
             "test": [
              0.9909374924,
              0.01391858161
             ]
            },
            {
             "iteration": 597,
             "learn": [
              0.01633913367
             ],
             "passed_time": 50.1664487,
             "remaining_time": 27.59993582,
             "test": [
              0.9909375399,
              0.01391798876
             ]
            },
            {
             "iteration": 598,
             "learn": [
              0.01633798857
             ],
             "passed_time": 50.24886105,
             "remaining_time": 27.5152361,
             "test": [
              0.9909348805,
              0.01391752308
             ]
            },
            {
             "iteration": 599,
             "learn": [
              0.01633573662
             ],
             "passed_time": 50.32536896,
             "remaining_time": 27.42732608,
             "test": [
              0.9909356683,
              0.01391578809
             ]
            },
            {
             "iteration": 600,
             "learn": [
              0.0163322451
             ],
             "passed_time": 50.41425271,
             "remaining_time": 27.34616703,
             "test": [
              0.9909347157,
              0.0139130554
             ]
            },
            {
             "iteration": 601,
             "learn": [
              0.01632975994
             ],
             "passed_time": 50.50761293,
             "remaining_time": 27.26739901,
             "test": [
              0.9909337967,
              0.01391233698
             ]
            },
            {
             "iteration": 602,
             "learn": [
              0.0163258701
             ],
             "passed_time": 50.58114121,
             "remaining_time": 27.17792662,
             "test": [
              0.9909399813,
              0.0139068021
             ]
            },
            {
             "iteration": 603,
             "learn": [
              0.01632348036
             ],
             "passed_time": 50.65467982,
             "remaining_time": 27.08851255,
             "test": [
              0.9909494929,
              0.01390317957
             ]
            },
            {
             "iteration": 604,
             "learn": [
              0.01632061739
             ],
             "passed_time": 50.74104559,
             "remaining_time": 27.00597798,
             "test": [
              0.9909561664,
              0.01390098402
             ]
            },
            {
             "iteration": 605,
             "learn": [
              0.0163176498
             ],
             "passed_time": 50.80816567,
             "remaining_time": 26.91323627,
             "test": [
              0.9909695693,
              0.01389688731
             ]
            },
            {
             "iteration": 606,
             "learn": [
              0.01631710639
             ],
             "passed_time": 50.89128524,
             "remaining_time": 26.82901364,
             "test": [
              0.9909700693,
              0.01389668737
             ]
            },
            {
             "iteration": 607,
             "learn": [
              0.01631206176
             ],
             "passed_time": 50.95365119,
             "remaining_time": 26.7339058,
             "test": [
              0.9909740667,
              0.01389456575
             ]
            },
            {
             "iteration": 608,
             "learn": [
              0.01631138238
             ],
             "passed_time": 51.03724229,
             "remaining_time": 26.64998858,
             "test": [
              0.9909705106,
              0.01389410327
             ]
            },
            {
             "iteration": 609,
             "learn": [
              0.0163086574
             ],
             "passed_time": 51.09989559,
             "remaining_time": 26.55519164,
             "test": [
              0.9909713934,
              0.01389252606
             ]
            },
            {
             "iteration": 610,
             "learn": [
              0.01630815343
             ],
             "passed_time": 51.16140481,
             "remaining_time": 26.45990822,
             "test": [
              0.9909688709,
              0.01389240851
             ]
            },
            {
             "iteration": 611,
             "learn": [
              0.01630780719
             ],
             "passed_time": 51.23924407,
             "remaining_time": 26.37314033,
             "test": [
              0.9909714241,
              0.01389202568
             ]
            },
            {
             "iteration": 612,
             "learn": [
              0.01630533634
             ],
             "passed_time": 51.31350551,
             "remaining_time": 26.28456889,
             "test": [
              0.9909816452,
              0.01389082485
             ]
            },
            {
             "iteration": 613,
             "learn": [
              0.01630434621
             ],
             "passed_time": 51.39486767,
             "remaining_time": 26.19966381,
             "test": [
              0.9909840085,
              0.01388918039
             ]
            },
            {
             "iteration": 614,
             "learn": [
              0.01630327513
             ],
             "passed_time": 51.49707796,
             "remaining_time": 26.12534687,
             "test": [
              0.9909847333,
              0.01388816606
             ]
            },
            {
             "iteration": 615,
             "learn": [
              0.01630283729
             ],
             "passed_time": 51.58083077,
             "remaining_time": 26.04162073,
             "test": [
              0.990984521,
              0.01388787113
             ]
            },
            {
             "iteration": 616,
             "learn": [
              0.01630243584
             ],
             "passed_time": 51.64656983,
             "remaining_time": 25.94884384,
             "test": [
              0.9909859401,
              0.01388769138
             ]
            },
            {
             "iteration": 617,
             "learn": [
              0.01629764658
             ],
             "passed_time": 51.710009,
             "remaining_time": 25.8550045,
             "test": [
              0.9909895632,
              0.01388580407
             ]
            },
            {
             "iteration": 618,
             "learn": [
              0.01629713212
             ],
             "passed_time": 51.77171274,
             "remaining_time": 25.76039987,
             "test": [
              0.9909892363,
              0.01388551823
             ]
            },
            {
             "iteration": 619,
             "learn": [
              0.01629521316
             ],
             "passed_time": 51.87264963,
             "remaining_time": 25.68532813,
             "test": [
              0.99099515,
              0.0138838361
             ]
            },
            {
             "iteration": 620,
             "learn": [
              0.01629308707
             ],
             "passed_time": 51.97094184,
             "remaining_time": 25.60886989,
             "test": [
              0.9909964811,
              0.01388183647
             ]
            },
            {
             "iteration": 621,
             "learn": [
              0.01629276088
             ],
             "passed_time": 52.03230484,
             "remaining_time": 25.51423308,
             "test": [
              0.9909984672,
              0.01388147461
             ]
            },
            {
             "iteration": 622,
             "learn": [
              0.0162914398
             ],
             "passed_time": 52.11067344,
             "remaining_time": 25.42800116,
             "test": [
              0.9909931374,
              0.01388205913
             ]
            },
            {
             "iteration": 623,
             "learn": [
              0.01628876011
             ],
             "passed_time": 52.18081352,
             "remaining_time": 25.33779887,
             "test": [
              0.9909936234,
              0.01388121836
             ]
            },
            {
             "iteration": 624,
             "learn": [
              0.0162861959
             ],
             "passed_time": 52.27011497,
             "remaining_time": 25.25691955,
             "test": [
              0.9909915954,
              0.01388024208
             ]
            },
            {
             "iteration": 625,
             "learn": [
              0.01628401283
             ],
             "passed_time": 52.33409142,
             "remaining_time": 25.16383629,
             "test": [
              0.9909897406,
              0.01387947551
             ]
            },
            {
             "iteration": 626,
             "learn": [
              0.01628067694
             ],
             "passed_time": 52.43891068,
             "remaining_time": 25.09038789,
             "test": [
              0.9909827821,
              0.0138787342
             ]
            },
            {
             "iteration": 627,
             "learn": [
              0.01627993768
             ],
             "passed_time": 52.52892939,
             "remaining_time": 25.00979281,
             "test": [
              0.9909830615,
              0.01387919246
             ]
            },
            {
             "iteration": 628,
             "learn": [
              0.01627948833
             ],
             "passed_time": 52.62111055,
             "remaining_time": 24.93019228,
             "test": [
              0.9909826732,
              0.01387891895
             ]
            },
            {
             "iteration": 629,
             "learn": [
              0.01627635842
             ],
             "passed_time": 52.71199929,
             "remaining_time": 24.84994252,
             "test": [
              0.9909795781,
              0.01387629353
             ]
            },
            {
             "iteration": 630,
             "learn": [
              0.0162737676
             ],
             "passed_time": 52.78900155,
             "remaining_time": 24.76314494,
             "test": [
              0.9909784607,
              0.01387616127
             ]
            },
            {
             "iteration": 631,
             "learn": [
              0.01627212319
             ],
             "passed_time": 52.88090235,
             "remaining_time": 24.68333259,
             "test": [
              0.9909797792,
              0.01387574571
             ]
            },
            {
             "iteration": 632,
             "learn": [
              0.01627167197
             ],
             "passed_time": 52.96636347,
             "remaining_time": 24.60049109,
             "test": [
              0.9909823966,
              0.01387527519
             ]
            },
            {
             "iteration": 633,
             "learn": [
              0.0162682186
             ],
             "passed_time": 53.05764569,
             "remaining_time": 24.52033153,
             "test": [
              0.9909822933,
              0.01387363664
             ]
            },
            {
             "iteration": 634,
             "learn": [
              0.01626575819
             ],
             "passed_time": 53.12133844,
             "remaining_time": 24.42745012,
             "test": [
              0.9909810642,
              0.01387355573
             ]
            },
            {
             "iteration": 635,
             "learn": [
              0.01626302235
             ],
             "passed_time": 53.20533107,
             "remaining_time": 24.34394865,
             "test": [
              0.9909853102,
              0.01387163558
             ]
            },
            {
             "iteration": 636,
             "learn": [
              0.01626058462
             ],
             "passed_time": 53.28629698,
             "remaining_time": 24.2590677,
             "test": [
              0.9909861873,
              0.01387087654
             ]
            },
            {
             "iteration": 637,
             "learn": [
              0.01625931804
             ],
             "passed_time": 53.34668118,
             "remaining_time": 24.16487596,
             "test": [
              0.9909811173,
              0.01387143871
             ]
            },
            {
             "iteration": 638,
             "learn": [
              0.0162573561
             ],
             "passed_time": 53.41826572,
             "remaining_time": 24.07583807,
             "test": [
              0.9909788322,
              0.01387173857
             ]
            },
            {
             "iteration": 639,
             "learn": [
              0.01625697777
             ],
             "passed_time": 53.52026415,
             "remaining_time": 24.00049346,
             "test": [
              0.9909784886,
              0.01387149992
             ]
            },
            {
             "iteration": 640,
             "learn": [
              0.01625575486
             ],
             "passed_time": 53.5854913,
             "remaining_time": 23.90865915,
             "test": [
              0.990973413,
              0.0138720732
             ]
            },
            {
             "iteration": 641,
             "learn": [
              0.0162548451
             ],
             "passed_time": 53.65602942,
             "remaining_time": 23.8192654,
             "test": [
              0.990975969,
              0.01387055017
             ]
            },
            {
             "iteration": 642,
             "learn": [
              0.01624630241
             ],
             "passed_time": 53.76064017,
             "remaining_time": 23.74497948,
             "test": [
              0.9910089593,
              0.01385632416
             ]
            },
            {
             "iteration": 643,
             "learn": [
              0.01624369736
             ],
             "passed_time": 53.83624153,
             "remaining_time": 23.65785148,
             "test": [
              0.9910072637,
              0.01385657605
             ]
            },
            {
             "iteration": 644,
             "learn": [
              0.01624291001
             ],
             "passed_time": 53.90616893,
             "remaining_time": 23.56827851,
             "test": [
              0.9910050709,
              0.01385739467
             ]
            },
            {
             "iteration": 645,
             "learn": [
              0.01624214718
             ],
             "passed_time": 53.97871247,
             "remaining_time": 23.47990434,
             "test": [
              0.9910023584,
              0.01385819381
             ]
            },
            {
             "iteration": 646,
             "learn": [
              0.01623932492
             ],
             "passed_time": 54.05173888,
             "remaining_time": 23.39178808,
             "test": [
              0.9910248539,
              0.01385201479
             ]
            },
            {
             "iteration": 647,
             "learn": [
              0.01623681572
             ],
             "passed_time": 54.12423727,
             "remaining_time": 23.30349105,
             "test": [
              0.9910253763,
              0.01385009788
             ]
            },
            {
             "iteration": 648,
             "learn": [
              0.01623635995
             ],
             "passed_time": 54.21568384,
             "remaining_time": 23.22335918,
             "test": [
              0.9910279434,
              0.01384962882
             ]
            },
            {
             "iteration": 649,
             "learn": [
              0.01623588016
             ],
             "passed_time": 54.29646298,
             "remaining_time": 23.13864653,
             "test": [
              0.9910302578,
              0.01384912601
             ]
            },
            {
             "iteration": 650,
             "learn": [
              0.01623552138
             ],
             "passed_time": 54.3552593,
             "remaining_time": 23.04462606,
             "test": [
              0.9910317969,
              0.0138487449
             ]
            },
            {
             "iteration": 651,
             "learn": [
              0.01623437195
             ],
             "passed_time": 54.42929782,
             "remaining_time": 22.95714249,
             "test": [
              0.991033311,
              0.01384754723
             ]
            },
            {
             "iteration": 652,
             "learn": [
              0.01623396586
             ],
             "passed_time": 54.50713902,
             "remaining_time": 22.8712957,
             "test": [
              0.9910329506,
              0.01384754255
             ]
            },
            {
             "iteration": 653,
             "learn": [
              0.01623067365
             ],
             "passed_time": 54.58968984,
             "remaining_time": 22.78743934,
             "test": [
              0.9910384257,
              0.01384508487
             ]
            },
            {
             "iteration": 654,
             "learn": [
              0.01623026435
             ],
             "passed_time": 54.67664865,
             "remaining_time": 22.70541745,
             "test": [
              0.9910381129,
              0.01384493016
             ]
            },
            {
             "iteration": 655,
             "learn": [
              0.01622730445
             ],
             "passed_time": 54.75385399,
             "remaining_time": 22.61935127,
             "test": [
              0.9910406688,
              0.01383994142
             ]
            },
            {
             "iteration": 656,
             "learn": [
              0.01622643468
             ],
             "passed_time": 54.82841958,
             "remaining_time": 22.53222723,
             "test": [
              0.9910429595,
              0.01383900651
             ]
            },
            {
             "iteration": 657,
             "learn": [
              0.01622571937
             ],
             "passed_time": 54.89589853,
             "remaining_time": 22.44224423,
             "test": [
              0.9910431466,
              0.01383951036
             ]
            },
            {
             "iteration": 658,
             "learn": [
              0.01621994441
             ],
             "passed_time": 55.0006919,
             "remaining_time": 22.36750445,
             "test": [
              0.9910750028,
              0.0138252528
             ]
            },
            {
             "iteration": 659,
             "learn": [
              0.01621434233
             ],
             "passed_time": 55.08900934,
             "remaining_time": 22.28600832,
             "test": [
              0.9910776817,
              0.01382209618
             ]
            },
            {
             "iteration": 660,
             "learn": [
              0.01621388628
             ],
             "passed_time": 55.17362791,
             "remaining_time": 22.20300306,
             "test": [
              0.9910775532,
              0.01382183855
             ]
            },
            {
             "iteration": 661,
             "learn": [
              0.01621143454
             ],
             "passed_time": 55.2367582,
             "remaining_time": 22.11139112,
             "test": [
              0.9910758185,
              0.0138221719
             ]
            },
            {
             "iteration": 662,
             "learn": [
              0.01620682636
             ],
             "passed_time": 55.31186769,
             "remaining_time": 22.0246351,
             "test": [
              0.991086981,
              0.01381892656
             ]
            },
            {
             "iteration": 663,
             "learn": [
              0.01620671905
             ],
             "passed_time": 55.38359868,
             "remaining_time": 21.93657598,
             "test": [
              0.9910871249,
              0.01381883757
             ]
            },
            {
             "iteration": 664,
             "learn": [
              0.0162058155
             ],
             "passed_time": 55.45833702,
             "remaining_time": 21.84975082,
             "test": [
              0.9910882562,
              0.01381791991
             ]
            },
            {
             "iteration": 665,
             "learn": [
              0.01620509071
             ],
             "passed_time": 55.56654842,
             "remaining_time": 21.77607979,
             "test": [
              0.991085622,
              0.01381878239
             ]
            },
            {
             "iteration": 666,
             "learn": [
              0.0162043458
             ],
             "passed_time": 55.66449558,
             "remaining_time": 21.69830412,
             "test": [
              0.9910855857,
              0.01381860759
             ]
            },
            {
             "iteration": 667,
             "learn": [
              0.0162039313
             ],
             "passed_time": 55.7640283,
             "remaining_time": 21.62108283,
             "test": [
              0.9910873986,
              0.01381818582
             ]
            },
            {
             "iteration": 668,
             "learn": [
              0.01620182797
             ],
             "passed_time": 55.84720573,
             "remaining_time": 21.53748741,
             "test": [
              0.9910859237,
              0.01381830925
             ]
            },
            {
             "iteration": 669,
             "learn": [
              0.01620025878
             ],
             "passed_time": 55.94762971,
             "remaining_time": 21.46050871,
             "test": [
              0.9910903233,
              0.01381692173
             ]
            },
            {
             "iteration": 670,
             "learn": [
              0.01619990136
             ],
             "passed_time": 56.01879979,
             "remaining_time": 21.37229917,
             "test": [
              0.9910907926,
              0.01381679085
             ]
            },
            {
             "iteration": 671,
             "learn": [
              0.01619920737
             ],
             "passed_time": 56.08623711,
             "remaining_time": 21.2827239,
             "test": [
              0.9910882981,
              0.01381765957
             ]
            },
            {
             "iteration": 672,
             "learn": [
              0.01619799786
             ],
             "passed_time": 56.16235253,
             "remaining_time": 21.19648966,
             "test": [
              0.9910888512,
              0.01381675868
             ]
            },
            {
             "iteration": 673,
             "learn": [
              0.01619760259
             ],
             "passed_time": 56.25392425,
             "remaining_time": 21.11608729,
             "test": [
              0.9910902675,
              0.01381635149
             ]
            },
            {
             "iteration": 674,
             "learn": [
              0.01619472621
             ],
             "passed_time": 56.32735568,
             "remaining_time": 21.02887946,
             "test": [
              0.9910907926,
              0.0138136798
             ]
            },
            {
             "iteration": 675,
             "learn": [
              0.01619433608
             ],
             "passed_time": 56.41642759,
             "remaining_time": 20.94751971,
             "test": [
              0.9910921893,
              0.01381328521
             ]
            },
            {
             "iteration": 676,
             "learn": [
              0.0161939542
             ],
             "passed_time": 56.47849051,
             "remaining_time": 20.85616341,
             "test": [
              0.9910935246,
              0.01381290011
             ]
            },
            {
             "iteration": 677,
             "learn": [
              0.0161924967
             ],
             "passed_time": 56.56642208,
             "remaining_time": 20.77439395,
             "test": [
              0.9910957091,
              0.01381252541
             ]
            },
            {
             "iteration": 678,
             "learn": [
              0.01618644411
             ],
             "passed_time": 56.63859791,
             "remaining_time": 20.68685167,
             "test": [
              0.9911106762,
              0.0138057586
             ]
            },
            {
             "iteration": 679,
             "learn": [
              0.01618282302
             ],
             "passed_time": 56.72417346,
             "remaining_time": 20.60422183,
             "test": [
              0.9911153803,
              0.01380375626
             ]
            },
            {
             "iteration": 680,
             "learn": [
              0.01618245605
             ],
             "passed_time": 56.78971832,
             "remaining_time": 20.51434759,
             "test": [
              0.9911166011,
              0.01380337835
             ]
            },
            {
             "iteration": 681,
             "learn": [
              0.01618209812
             ],
             "passed_time": 56.88140545,
             "remaining_time": 20.43393597,
             "test": [
              0.9911179307,
              0.01380301045
             ]
            },
            {
             "iteration": 682,
             "learn": [
              0.01617894735
             ],
             "passed_time": 56.99307374,
             "remaining_time": 20.36062957,
             "test": [
              0.9911171151,
              0.01380062722
             ]
            },
            {
             "iteration": 683,
             "learn": [
              0.01617744581
             ],
             "passed_time": 57.08521271,
             "remaining_time": 20.28027294,
             "test": [
              0.9911216823,
              0.01379930067
             ]
            },
            {
             "iteration": 684,
             "learn": [
              0.01617233051
             ],
             "passed_time": 57.19968579,
             "remaining_time": 20.20777221,
             "test": [
              0.9911480243,
              0.01378762566
             ]
            },
            {
             "iteration": 685,
             "learn": [
              0.01617027713
             ],
             "passed_time": 57.28817451,
             "remaining_time": 20.12602049,
             "test": [
              0.9911555023,
              0.01378467972
             ]
            },
            {
             "iteration": 686,
             "learn": [
              0.01616943648
             ],
             "passed_time": 57.41094899,
             "remaining_time": 20.05622672,
             "test": [
              0.9911559911,
              0.01378434515
             ]
            },
            {
             "iteration": 687,
             "learn": [
              0.01616507042
             ],
             "passed_time": 57.53759945,
             "remaining_time": 19.98762539,
             "test": [
              0.9911599075,
              0.01378089785
             ]
            },
            {
             "iteration": 688,
             "learn": [
              0.01616479898
             ],
             "passed_time": 57.67637434,
             "remaining_time": 19.92304368,
             "test": [
              0.9911605863,
              0.01378060147
             ]
            },
            {
             "iteration": 689,
             "learn": [
              0.0161631165
             ],
             "passed_time": 57.82440902,
             "remaining_time": 19.86142745,
             "test": [
              0.9911650167,
              0.01377675966
             ]
            },
            {
             "iteration": 690,
             "learn": [
              0.01616093162
             ],
             "passed_time": 57.94513392,
             "remaining_time": 19.79023387,
             "test": [
              0.9911651927,
              0.01377534002
             ]
            },
            {
             "iteration": 691,
             "learn": [
              0.0161573517
             ],
             "passed_time": 58.06233618,
             "remaining_time": 19.71770087,
             "test": [
              0.9911672207,
              0.01377202241
             ]
            },
            {
             "iteration": 692,
             "learn": [
              0.01615671689
             ],
             "passed_time": 58.15470669,
             "remaining_time": 19.63665421,
             "test": [
              0.9911646032,
              0.0137729822
             ]
            },
            {
             "iteration": 693,
             "learn": [
              0.01615564521
             ],
             "passed_time": 58.27429997,
             "remaining_time": 19.56471454,
             "test": [
              0.9911654552,
              0.01377223312
             ]
            },
            {
             "iteration": 694,
             "learn": [
              0.01615241959
             ],
             "passed_time": 58.3891221,
             "remaining_time": 19.49104508,
             "test": [
              0.9911592566,
              0.01377184919
             ]
            },
            {
             "iteration": 695,
             "learn": [
              0.01615074506
             ],
             "passed_time": 58.48310802,
             "remaining_time": 19.41034188,
             "test": [
              0.9911587901,
              0.0137746327
             ]
            },
            {
             "iteration": 696,
             "learn": [
              0.01614831456
             ],
             "passed_time": 58.56785308,
             "remaining_time": 19.32655123,
             "test": [
              0.9911613713,
              0.01377293058
             ]
            },
            {
             "iteration": 697,
             "learn": [
              0.01614797498
             ],
             "passed_time": 58.65409191,
             "remaining_time": 19.24324792,
             "test": [
              0.9911622847,
              0.01377258176
             ]
            },
            {
             "iteration": 698,
             "learn": [
              0.01614543748
             ],
             "passed_time": 58.7218587,
             "remaining_time": 19.15391099,
             "test": [
              0.9911611617,
              0.01377201443
             ]
            },
            {
             "iteration": 699,
             "learn": [
              0.01614450253
             ],
             "passed_time": 58.7893947,
             "remaining_time": 19.06456085,
             "test": [
              0.9911605947,
              0.01377134559
             ]
            },
            {
             "iteration": 700,
             "learn": [
              0.0161430732
             ],
             "passed_time": 58.85978054,
             "remaining_time": 18.97619173,
             "test": [
              0.991164687,
              0.01377007361
             ]
            },
            {
             "iteration": 701,
             "learn": [
              0.01613969206
             ],
             "passed_time": 58.92795532,
             "remaining_time": 18.88716517,
             "test": [
              0.9911686537,
              0.01376833695
             ]
            },
            {
             "iteration": 702,
             "learn": [
              0.01613328078
             ],
             "passed_time": 59.02635237,
             "remaining_time": 18.80782778,
             "test": [
              0.9912003367,
              0.0137549694
             ]
            },
            {
             "iteration": 703,
             "learn": [
              0.01612906442
             ],
             "passed_time": 59.11906199,
             "remaining_time": 18.72663469,
             "test": [
              0.9911987445,
              0.01375192794
             ]
            },
            {
             "iteration": 704,
             "learn": [
              0.01612873521
             ],
             "passed_time": 59.20014112,
             "remaining_time": 18.64174657,
             "test": [
              0.9911996076,
              0.01375159168
             ]
            },
            {
             "iteration": 705,
             "learn": [
              0.01612633647
             ],
             "passed_time": 59.2597009,
             "remaining_time": 18.550133,
             "test": [
              0.991198331,
              0.01375112255
             ]
            },
            {
             "iteration": 706,
             "learn": [
              0.01612360939
             ],
             "passed_time": 59.35053436,
             "remaining_time": 18.46834167,
             "test": [
              0.9911991383,
              0.01374984067
             ]
            },
            {
             "iteration": 707,
             "learn": [
              0.01612333998
             ],
             "passed_time": 59.43521378,
             "remaining_time": 18.38462121,
             "test": [
              0.991199373,
              0.01374954318
             ]
            },
            {
             "iteration": 708,
             "learn": [
              0.01611832043
             ],
             "passed_time": 59.52608434,
             "remaining_time": 18.30280167,
             "test": [
              0.991198873,
              0.01374504899
             ]
            },
            {
             "iteration": 709,
             "learn": [
              0.01611394252
             ],
             "passed_time": 59.60975714,
             "remaining_time": 18.21875676,
             "test": [
              0.9912030268,
              0.01374339873
             ]
            },
            {
             "iteration": 710,
             "learn": [
              0.0161131573
             ],
             "passed_time": 59.72669734,
             "remaining_time": 18.14481945,
             "test": [
              0.9912038955,
              0.01374264627
             ]
            },
            {
             "iteration": 711,
             "learn": [
              0.0161128374
             ],
             "passed_time": 59.80008474,
             "remaining_time": 18.05760986,
             "test": [
              0.9912048648,
              0.01374231945
             ]
            },
            {
             "iteration": 712,
             "learn": [
              0.01611024978
             ],
             "passed_time": 59.89161794,
             "remaining_time": 17.97588533,
             "test": [
              0.9912041302,
              0.0137401731
             ]
            },
            {
             "iteration": 713,
             "learn": [
              0.01610993404
             ],
             "passed_time": 59.96245453,
             "remaining_time": 17.88795913,
             "test": [
              0.9912050101,
              0.0137398587
             ]
            },
            {
             "iteration": 714,
             "learn": [
              0.01610673725
             ],
             "passed_time": 60.04572172,
             "remaining_time": 17.80376644,
             "test": [
              0.9912091081,
              0.01373700856
             ]
            },
            {
             "iteration": 715,
             "learn": [
              0.0161063677
             ],
             "passed_time": 60.1068531,
             "remaining_time": 17.71305308,
             "test": [
              0.9912086416,
              0.0137375839
             ]
            },
            {
             "iteration": 716,
             "learn": [
              0.01610606668
             ],
             "passed_time": 60.17099046,
             "remaining_time": 17.62330265,
             "test": [
              0.9912092924,
              0.0137372853
             ]
            },
            {
             "iteration": 717,
             "learn": [
              0.01610410639
             ],
             "passed_time": 60.25362183,
             "remaining_time": 17.53900691,
             "test": [
              0.9912162229,
              0.0137345432
             ]
            },
            {
             "iteration": 718,
             "learn": [
              0.01610313339
             ],
             "passed_time": 60.3256108,
             "remaining_time": 17.45163706,
             "test": [
              0.9912123959,
              0.0137353881
             ]
            },
            {
             "iteration": 719,
             "learn": [
              0.01610220083
             ],
             "passed_time": 60.41358318,
             "remaining_time": 17.36890517,
             "test": [
              0.9912105271,
              0.0137347162
             ]
            },
            {
             "iteration": 720,
             "learn": [
              0.01610191349
             ],
             "passed_time": 60.47612688,
             "remaining_time": 17.2788934,
             "test": [
              0.9912111417,
              0.01373442586
             ]
            },
            {
             "iteration": 721,
             "learn": [
              0.01610158248
             ],
             "passed_time": 60.55988488,
             "remaining_time": 17.19498116,
             "test": [
              0.9912115886,
              0.01373409536
             ]
            },
            {
             "iteration": 722,
             "learn": [
              0.01609733628
             ],
             "passed_time": 60.63640029,
             "remaining_time": 17.10902581,
             "test": [
              0.9912215164,
              0.0137311613
             ]
            },
            {
             "iteration": 723,
             "learn": [
              0.01609516249
             ],
             "passed_time": 60.73859367,
             "remaining_time": 17.03029629,
             "test": [
              0.9912235864,
              0.01373092993
             ]
            },
            {
             "iteration": 724,
             "learn": [
              0.0160944884
             ],
             "passed_time": 60.82594213,
             "remaining_time": 16.94736595,
             "test": [
              0.991223673,
              0.01373146462
             ]
            },
            {
             "iteration": 725,
             "learn": [
              0.01609180231
             ],
             "passed_time": 60.9076164,
             "remaining_time": 16.86285247,
             "test": [
              0.9912223461,
              0.01373076006
             ]
            },
            {
             "iteration": 726,
             "learn": [
              0.01609156212
             ],
             "passed_time": 60.9852823,
             "remaining_time": 16.7772441,
             "test": [
              0.9912224159,
              0.01373050159
             ]
            },
            {
             "iteration": 727,
             "learn": [
              0.01609128939
             ],
             "passed_time": 61.06450712,
             "remaining_time": 16.69208368,
             "test": [
              0.9912231674,
              0.01373023634
             ]
            },
            {
             "iteration": 728,
             "learn": [
              0.0160869885
             ],
             "passed_time": 61.15260718,
             "remaining_time": 16.6093501,
             "test": [
              0.9912264636,
              0.01372754631
             ]
            },
            {
             "iteration": 729,
             "learn": [
              0.0160867244
             ],
             "passed_time": 61.21459197,
             "remaining_time": 16.51955427,
             "test": [
              0.9912270111,
              0.0137272886
             ]
            },
            {
             "iteration": 730,
             "learn": [
              0.01608447706
             ],
             "passed_time": 61.28186415,
             "remaining_time": 16.43125222,
             "test": [
              0.9912261647,
              0.01372690435
             ]
            },
            {
             "iteration": 731,
             "learn": [
              0.01608424941
             ],
             "passed_time": 61.36124731,
             "remaining_time": 16.34623392,
             "test": [
              0.9912260083,
              0.01372665726
             ]
            },
            {
             "iteration": 732,
             "learn": [
              0.01608322829
             ],
             "passed_time": 61.43389433,
             "remaining_time": 16.25944816,
             "test": [
              0.99123088,
              0.01372554547
             ]
            },
            {
             "iteration": 733,
             "learn": [
              0.01608105096
             ],
             "passed_time": 61.51174947,
             "remaining_time": 16.17407036,
             "test": [
              0.9912324192,
              0.01372381765
             ]
            },
            {
             "iteration": 734,
             "learn": [
              0.01607939076
             ],
             "passed_time": 61.60492524,
             "remaining_time": 16.09271517,
             "test": [
              0.9912331399,
              0.01372258357
             ]
            },
            {
             "iteration": 735,
             "learn": [
              0.01607633747
             ],
             "passed_time": 61.69764532,
             "remaining_time": 16.01120959,
             "test": [
              0.9912360115,
              0.01371973718
             ]
            },
            {
             "iteration": 736,
             "learn": [
              0.01607428237
             ],
             "passed_time": 61.76876209,
             "remaining_time": 15.9241042,
             "test": [
              0.9912355464,
              0.01371902701
             ]
            },
            {
             "iteration": 737,
             "learn": [
              0.01607398611
             ],
             "passed_time": 61.85188049,
             "remaining_time": 15.84011573,
             "test": [
              0.9912352699,
              0.01371885563
             ]
            },
            {
             "iteration": 738,
             "learn": [
              0.01607373509
             ],
             "passed_time": 61.91579829,
             "remaining_time": 15.75124503,
             "test": [
              0.9912358202,
              0.01371861408
             ]
            },
            {
             "iteration": 739,
             "learn": [
              0.01606977717
             ],
             "passed_time": 61.99780202,
             "remaining_time": 15.66701213,
             "test": [
              0.9912434574,
              0.01371481434
             ]
            },
            {
             "iteration": 740,
             "learn": [
              0.01606603145
             ],
             "passed_time": 62.07568373,
             "remaining_time": 15.58175057,
             "test": [
              0.9912434183,
              0.01371330821
             ]
            },
            {
             "iteration": 741,
             "learn": [
              0.01606233351
             ],
             "passed_time": 62.14752671,
             "remaining_time": 15.49500329,
             "test": [
              0.9912507203,
              0.01370975122
             ]
            },
            {
             "iteration": 742,
             "learn": [
              0.0160600283
             ],
             "passed_time": 62.21665179,
             "remaining_time": 15.40762305,
             "test": [
              0.9912630644,
              0.01370736625
             ]
            },
            {
             "iteration": 743,
             "learn": [
              0.01605667194
             ],
             "passed_time": 62.28303287,
             "remaining_time": 15.31961696,
             "test": [
              0.9912676317,
              0.01370423353
             ]
            },
            {
             "iteration": 744,
             "learn": [
              0.01605557382
             ],
             "passed_time": 62.35332902,
             "remaining_time": 15.23262534,
             "test": [
              0.9912677266,
              0.01370380879
             ]
            },
            {
             "iteration": 745,
             "learn": [
              0.01605379777
             ],
             "passed_time": 62.41578557,
             "remaining_time": 15.14377639,
             "test": [
              0.9912649723,
              0.01370196258
             ]
            },
            {
             "iteration": 746,
             "learn": [
              0.01605158054
             ],
             "passed_time": 62.50437653,
             "remaining_time": 15.06129555,
             "test": [
              0.9912681764,
              0.01370052789
             ]
            },
            {
             "iteration": 747,
             "learn": [
              0.01605133697
             ],
             "passed_time": 62.56678977,
             "remaining_time": 14.97253392,
             "test": [
              0.9912687406,
              0.01370029455
             ]
            },
            {
             "iteration": 748,
             "learn": [
              0.01604957615
             ],
             "passed_time": 62.65051038,
             "remaining_time": 14.88890634,
             "test": [
              0.9912698273,
              0.01369951258
             ]
            },
            {
             "iteration": 749,
             "learn": [
              0.01604503704
             ],
             "passed_time": 62.77567552,
             "remaining_time": 14.81505942,
             "test": [
              0.9912934736,
              0.01368864352
             ]
            },
            {
             "iteration": 750,
             "learn": [
              0.01604485622
             ],
             "passed_time": 62.853789,
             "remaining_time": 14.73004909,
             "test": [
              0.9912936245,
              0.01368845033
             ]
            },
            {
             "iteration": 751,
             "learn": [
              0.01604218476
             ],
             "passed_time": 62.95243134,
             "remaining_time": 14.64983442,
             "test": [
              0.9912924792,
              0.01368623729
             ]
            },
            {
             "iteration": 752,
             "learn": [
              0.01603861595
             ],
             "passed_time": 63.03755082,
             "remaining_time": 14.56644601,
             "test": [
              0.9912968118,
              0.01368399943
             ]
            },
            {
             "iteration": 753,
             "learn": [
              0.01603810649
             ],
             "passed_time": 63.12608238,
             "remaining_time": 14.48383588,
             "test": [
              0.9912993649,
              0.01368368354
             ]
            },
            {
             "iteration": 754,
             "learn": [
              0.01603777623
             ],
             "passed_time": 63.20751254,
             "remaining_time": 14.39959226,
             "test": [
              0.9912991498,
              0.01368352311
             ]
            },
            {
             "iteration": 755,
             "learn": [
              0.01603408284
             ],
             "passed_time": 63.27000146,
             "remaining_time": 14.31107176,
             "test": [
              0.9913026612,
              0.0136816285
             ]
            },
            {
             "iteration": 756,
             "learn": [
              0.01603018161
             ],
             "passed_time": 63.3440465,
             "remaining_time": 14.2252152,
             "test": [
              0.9913113487,
              0.01367897257
             ]
            },
            {
             "iteration": 757,
             "learn": [
              0.01603000782
             ],
             "passed_time": 63.40349408,
             "remaining_time": 14.13613522,
             "test": [
              0.9913112761,
              0.01367878929
             ]
            },
            {
             "iteration": 758,
             "learn": [
              0.01602793922
             ],
             "passed_time": 63.47508811,
             "remaining_time": 14.04982187,
             "test": [
              0.991311846,
              0.01367713098
             ]
            },
            {
             "iteration": 759,
             "learn": [
              0.01602771818
             ],
             "passed_time": 63.56224259,
             "remaining_time": 13.96696646,
             "test": [
              0.9913121113,
              0.01367691374
             ]
            },
            {
             "iteration": 760,
             "learn": [
              0.01602750123
             ],
             "passed_time": 63.63326031,
             "remaining_time": 13.88057978,
             "test": [
              0.9913125443,
              0.01367670873
             ]
            },
            {
             "iteration": 761,
             "learn": [
              0.01602481031
             ],
             "passed_time": 63.71146412,
             "remaining_time": 13.79578947,
             "test": [
              0.9913118711,
              0.01367467037
             ]
            },
            {
             "iteration": 762,
             "learn": [
              0.01602117673
             ],
             "passed_time": 63.80930347,
             "remaining_time": 13.71523692,
             "test": [
              0.9913122706,
              0.01367221018
             ]
            },
            {
             "iteration": 763,
             "learn": [
              0.01602017662
             ],
             "passed_time": 63.88782792,
             "remaining_time": 13.63051826,
             "test": [
              0.9913231174,
              0.01366939819
             ]
            },
            {
             "iteration": 764,
             "learn": [
              0.01601606448
             ],
             "passed_time": 63.96948403,
             "remaining_time": 13.54647897,
             "test": [
              0.9913271651,
              0.01366641623
             ]
            },
            {
             "iteration": 765,
             "learn": [
              0.01601356123
             ],
             "passed_time": 64.0337078,
             "remaining_time": 13.45878193,
             "test": [
              0.99132626,
              0.01366435662
             ]
            },
            {
             "iteration": 766,
             "learn": [
              0.0160116592
             ],
             "passed_time": 64.13009476,
             "remaining_time": 13.37785549,
             "test": [
              0.9913285227,
              0.01366252661
             ]
            },
            {
             "iteration": 767,
             "learn": [
              0.01600850995
             ],
             "passed_time": 64.19801543,
             "remaining_time": 13.29099538,
             "test": [
              0.9913287434,
              0.01366118447
             ]
            },
            {
             "iteration": 768,
             "learn": [
              0.01600696576
             ],
             "passed_time": 64.28756992,
             "remaining_time": 13.20862945,
             "test": [
              0.9913327491,
              0.01365741551
             ]
            },
            {
             "iteration": 769,
             "learn": [
              0.01600675596
             ],
             "passed_time": 64.38140098,
             "remaining_time": 13.12711682,
             "test": [
              0.9913331318,
              0.01365721487
             ]
            },
            {
             "iteration": 770,
             "learn": [
              0.01600492996
             ],
             "passed_time": 64.44987989,
             "remaining_time": 13.04044262,
             "test": [
              0.991334509,
              0.01365600108
             ]
            },
            {
             "iteration": 771,
             "learn": [
              0.01600472706
             ],
             "passed_time": 64.51278347,
             "remaining_time": 12.95269616,
             "test": [
              0.9913347353,
              0.01365580799
             ]
            },
            {
             "iteration": 772,
             "learn": [
              0.01600038451
             ],
             "passed_time": 64.6098281,
             "remaining_time": 12.87181569,
             "test": [
              0.9913358582,
              0.01365393277
             ]
            },
            {
             "iteration": 773,
             "learn": [
              0.01600018694
             ],
             "passed_time": 64.67369236,
             "remaining_time": 12.78433454,
             "test": [
              0.9913363024,
              0.01365374508
             ]
            },
            {
             "iteration": 774,
             "learn": [
              0.0159966771
             ],
             "passed_time": 64.73692895,
             "remaining_time": 12.69679123,
             "test": [
              0.991339026,
              0.01365195825
             ]
            },
            {
             "iteration": 775,
             "learn": [
              0.01599648153
             ],
             "passed_time": 64.84616916,
             "remaining_time": 12.6182623,
             "test": [
              0.9913396349,
              0.01365177359
             ]
            },
            {
             "iteration": 776,
             "learn": [
              0.01599629743
             ],
             "passed_time": 64.91064017,
             "remaining_time": 12.53101162,
             "test": [
              0.9913399394,
              0.01365159941
             ]
            },
            {
             "iteration": 777,
             "learn": [
              0.01599211672
             ],
             "passed_time": 65.00368972,
             "remaining_time": 12.44929276,
             "test": [
              0.9913367577,
              0.0136501884
             ]
            },
            {
             "iteration": 778,
             "learn": [
              0.01599027189
             ],
             "passed_time": 65.09721884,
             "remaining_time": 12.36763593,
             "test": [
              0.9913388667,
              0.013648422
             ]
            },
            {
             "iteration": 779,
             "learn": [
              0.01598888846
             ],
             "passed_time": 65.16668082,
             "remaining_time": 12.28141292,
             "test": [
              0.9913376544,
              0.01364735234
             ]
            },
            {
             "iteration": 780,
             "learn": [
              0.01598843101
             ],
             "passed_time": 65.25241612,
             "remaining_time": 12.19827497,
             "test": [
              0.9913380455,
              0.01364718066
             ]
            },
            {
             "iteration": 781,
             "learn": [
              0.01598446476
             ],
             "passed_time": 65.321882,
             "remaining_time": 12.11211367,
             "test": [
              0.9913351152,
              0.01364589969
             ]
            },
            {
             "iteration": 782,
             "learn": [
              0.01598417362
             ],
             "passed_time": 65.40455845,
             "remaining_time": 12.02842454,
             "test": [
              0.9913348023,
              0.01364584567
             ]
            },
            {
             "iteration": 783,
             "learn": [
              0.01598174018
             ],
             "passed_time": 65.49582914,
             "remaining_time": 11.94630557,
             "test": [
              0.991337227,
              0.01364465189
             ]
            },
            {
             "iteration": 784,
             "learn": [
              0.0159780413
             ],
             "passed_time": 65.56385706,
             "remaining_time": 11.85995886,
             "test": [
              0.9913397942,
              0.01364244897
             ]
            },
            {
             "iteration": 785,
             "learn": [
              0.01597218239
             ],
             "passed_time": 65.64531198,
             "remaining_time": 11.77606742,
             "test": [
              0.9913491354,
              0.01363624397
             ]
            },
            {
             "iteration": 786,
             "learn": [
              0.01597006266
             ],
             "passed_time": 65.73748402,
             "remaining_time": 11.69408864,
             "test": [
              0.9913495572,
              0.01363671815
             ]
            },
            {
             "iteration": 787,
             "learn": [
              0.01596822726
             ],
             "passed_time": 65.83959749,
             "remaining_time": 11.61383763,
             "test": [
              0.9913489314,
              0.01363610705
             ]
            },
            {
             "iteration": 788,
             "learn": [
              0.01596600931
             ],
             "passed_time": 65.90415024,
             "remaining_time": 11.52696164,
             "test": [
              0.9913509595,
              0.01363488431
             ]
            },
            {
             "iteration": 789,
             "learn": [
              0.01596582167
             ],
             "passed_time": 65.99482362,
             "remaining_time": 11.44467194,
             "test": [
              0.9913515545,
              0.01363471039
             ]
            },
            {
             "iteration": 790,
             "learn": [
              0.01596488095
             ],
             "passed_time": 66.07044103,
             "remaining_time": 11.35977241,
             "test": [
              0.9913505097,
              0.01363427202
             ]
            },
            {
             "iteration": 791,
             "learn": [
              0.01596407364
             ],
             "passed_time": 66.1650465,
             "remaining_time": 11.27813293,
             "test": [
              0.9913513757,
              0.01363364117
             ]
            },
            {
             "iteration": 792,
             "learn": [
              0.01596273982
             ],
             "passed_time": 66.24141991,
             "remaining_time": 11.19337991,
             "test": [
              0.991353535,
              0.01363255192
             ]
            },
            {
             "iteration": 793,
             "learn": [
              0.0159614392
             ],
             "passed_time": 66.30546615,
             "remaining_time": 11.10658312,
             "test": [
              0.9913555518,
              0.01363149608
             ]
            },
            {
             "iteration": 794,
             "learn": [
              0.0159584165
             ],
             "passed_time": 66.38269583,
             "remaining_time": 11.02203251,
             "test": [
              0.9913565966,
              0.01362972104
             ]
            },
            {
             "iteration": 795,
             "learn": [
              0.01595615107
             ],
             "passed_time": 66.48146051,
             "remaining_time": 10.94104438,
             "test": [
              0.9913553032,
              0.01362786816
             ]
            },
            {
             "iteration": 796,
             "learn": [
              0.01595273941
             ],
             "passed_time": 66.58817787,
             "remaining_time": 10.86130881,
             "test": [
              0.9913562726,
              0.01362553044
             ]
            },
            {
             "iteration": 797,
             "learn": [
              0.01594919771
             ],
             "passed_time": 66.6508622,
             "remaining_time": 10.7743875,
             "test": [
              0.9913643958,
              0.01362316968
             ]
            },
            {
             "iteration": 798,
             "learn": [
              0.01594903519
             ],
             "passed_time": 66.72173687,
             "remaining_time": 10.68883895,
             "test": [
              0.9913647338,
              0.01362301737
             ]
            },
            {
             "iteration": 799,
             "learn": [
              0.01594732451
             ],
             "passed_time": 66.78532061,
             "remaining_time": 10.60216965,
             "test": [
              0.9913644964,
              0.01362247493
             ]
            },
            {
             "iteration": 800,
             "learn": [
              0.01594424223
             ],
             "passed_time": 66.87405826,
             "remaining_time": 10.51951478,
             "test": [
              0.9913641081,
              0.01362109046
             ]
            },
            {
             "iteration": 801,
             "learn": [
              0.01594134058
             ],
             "passed_time": 66.95962682,
             "remaining_time": 10.43635081,
             "test": [
              0.9913650076,
              0.01362026357
             ]
            },
            {
             "iteration": 802,
             "learn": [
              0.01593772212
             ],
             "passed_time": 67.03254498,
             "remaining_time": 10.35122737,
             "test": [
              0.9913662143,
              0.01361677818
             ]
            },
            {
             "iteration": 803,
             "learn": [
              0.01593656038
             ],
             "passed_time": 67.10691462,
             "remaining_time": 10.26635634,
             "test": [
              0.9913656389,
              0.01361617054
             ]
            },
            {
             "iteration": 804,
             "learn": [
              0.01593639897
             ],
             "passed_time": 67.18004159,
             "remaining_time": 10.18132307,
             "test": [
              0.9913661864,
              0.01361601616
             ]
            },
            {
             "iteration": 805,
             "learn": [
              0.01593363559
             ],
             "passed_time": 67.24549557,
             "remaining_time": 10.09516745,
             "test": [
              0.9913674295,
              0.01361526626
             ]
            },
            {
             "iteration": 806,
             "learn": [
              0.01593016887
             ],
             "passed_time": 67.32907071,
             "remaining_time": 10.01175773,
             "test": [
              0.9913673708,
              0.01361389102
             ]
            },
            {
             "iteration": 807,
             "learn": [
              0.01592936261
             ],
             "passed_time": 67.40221043,
             "remaining_time": 9.926810695,
             "test": [
              0.9913683346,
              0.01361348159
             ]
            },
            {
             "iteration": 808,
             "learn": [
              0.01592588038
             ],
             "passed_time": 67.48589133,
             "remaining_time": 9.84343038,
             "test": [
              0.9913680133,
              0.0136112057
             ]
            },
            {
             "iteration": 809,
             "learn": [
              0.01592360056
             ],
             "passed_time": 67.5778969,
             "remaining_time": 9.761251775,
             "test": [
              0.9913668345,
              0.01361058264
             ]
            },
            {
             "iteration": 810,
             "learn": [
              0.01592026268
             ],
             "passed_time": 67.68376389,
             "remaining_time": 9.68103158,
             "test": [
              0.9913744577,
              0.0136083592
             ]
            },
            {
             "iteration": 811,
             "learn": [
              0.0159185523
             ],
             "passed_time": 67.7466596,
             "remaining_time": 9.594662382,
             "test": [
              0.9913758321,
              0.01360673319
             ]
            },
            {
             "iteration": 812,
             "learn": [
              0.01591771259
             ],
             "passed_time": 67.82538301,
             "remaining_time": 9.510570311,
             "test": [
              0.9913754075,
              0.01360572058
             ]
            },
            {
             "iteration": 813,
             "learn": [
              0.01591755966
             ],
             "passed_time": 67.94153971,
             "remaining_time": 9.431687945,
             "test": [
              0.9913756533,
              0.01360558078
             ]
            },
            {
             "iteration": 814,
             "learn": [
              0.01591456683
             ],
             "passed_time": 68.02875015,
             "remaining_time": 9.348736216,
             "test": [
              0.9913768238,
              0.01360311828
             ]
            },
            {
             "iteration": 815,
             "learn": [
              0.01591376426
             ],
             "passed_time": 68.09138041,
             "remaining_time": 9.262430424,
             "test": [
              0.9913764802,
              0.01360215736
             ]
            },
            {
             "iteration": 816,
             "learn": [
              0.01591303037
             ],
             "passed_time": 68.15955143,
             "remaining_time": 9.176928589,
             "test": [
              0.9913773433,
              0.01360158455
             ]
            },
            {
             "iteration": 817,
             "learn": [
              0.01591270454
             ],
             "passed_time": 68.2543116,
             "remaining_time": 9.095012182,
             "test": [
              0.9913777484,
              0.01360137395
             ]
            },
            {
             "iteration": 818,
             "learn": [
              0.01591025424
             ],
             "passed_time": 68.3480028,
             "remaining_time": 9.012923447,
             "test": [
              0.9913800446,
              0.01360036408
             ]
            },
            {
             "iteration": 819,
             "learn": [
              0.01590951193
             ],
             "passed_time": 68.4083409,
             "remaining_time": 8.926454239,
             "test": [
              0.9913809888,
              0.0136000022
             ]
            },
            {
             "iteration": 820,
             "learn": [
              0.01590890997
             ],
             "passed_time": 68.47100527,
             "remaining_time": 8.840349036,
             "test": [
              0.9913805921,
              0.01359930435
             ]
            },
            {
             "iteration": 821,
             "learn": [
              0.01590606146
             ],
             "passed_time": 68.5745211,
             "remaining_time": 8.759519119,
             "test": [
              0.9913866706,
              0.01359536845
             ]
            },
            {
             "iteration": 822,
             "learn": [
              0.01590559532
             ],
             "passed_time": 68.64867195,
             "remaining_time": 8.674923309,
             "test": [
              0.9913857236,
              0.01359537163
             ]
            },
            {
             "iteration": 823,
             "learn": [
              0.01590379701
             ],
             "passed_time": 68.74339787,
             "remaining_time": 8.592924734,
             "test": [
              0.9913876958,
              0.01359367462
             ]
            },
            {
             "iteration": 824,
             "learn": [
              0.01590365536
             ],
             "passed_time": 68.81078052,
             "remaining_time": 8.507514682,
             "test": [
              0.9913880142,
              0.01359354646
             ]
            },
            {
             "iteration": 825,
             "learn": [
              0.01590070195
             ],
             "passed_time": 68.91562951,
             "remaining_time": 8.426729517,
             "test": [
              0.9913887182,
              0.01359134534
             ]
            },
            {
             "iteration": 826,
             "learn": [
              0.01589843297
             ],
             "passed_time": 68.99566538,
             "remaining_time": 8.342885778,
             "test": [
              0.9913913132,
              0.01358939767
             ]
            },
            {
             "iteration": 827,
             "learn": [
              0.01589506138
             ],
             "passed_time": 69.07667773,
             "remaining_time": 8.259167989,
             "test": [
              0.9913881287,
              0.01358862495
             ]
            },
            {
             "iteration": 828,
             "learn": [
              0.01589317548
             ],
             "passed_time": 69.15261017,
             "remaining_time": 8.174856208,
             "test": [
              0.9913909473,
              0.01358735482
             ]
            },
            {
             "iteration": 829,
             "learn": [
              0.01589155641
             ],
             "passed_time": 69.23596558,
             "remaining_time": 8.091432122,
             "test": [
              0.9913917993,
              0.01358666686
             ]
            },
            {
             "iteration": 830,
             "learn": [
              0.01588913114
             ],
             "passed_time": 69.31122,
             "remaining_time": 8.007072347,
             "test": [
              0.9913927938,
              0.01358487181
             ]
            },
            {
             "iteration": 831,
             "learn": [
              0.0158864046
             ],
             "passed_time": 69.37661161,
             "remaining_time": 7.921608296,
             "test": [
              0.9913936346,
              0.0135828481
             ]
            },
            {
             "iteration": 832,
             "learn": [
              0.01588261262
             ],
             "passed_time": 69.47495235,
             "remaining_time": 7.839910589,
             "test": [
              0.9913946877,
              0.01357935969
             ]
            },
            {
             "iteration": 833,
             "learn": [
              0.01587935345
             ],
             "passed_time": 69.55217587,
             "remaining_time": 7.755818172,
             "test": [
              0.9913947799,
              0.0135781162
             ]
            },
            {
             "iteration": 834,
             "learn": [
              0.0158767784
             ],
             "passed_time": 69.61506196,
             "remaining_time": 7.670162515,
             "test": [
              0.9913959671,
              0.01357620057
             ]
            },
            {
             "iteration": 835,
             "learn": [
              0.01587662452
             ],
             "passed_time": 69.68871444,
             "remaining_time": 7.58573327,
             "test": [
              0.9913961235,
              0.01357606198
             ]
            },
            {
             "iteration": 836,
             "learn": [
              0.01587608363
             ],
             "passed_time": 69.75108737,
             "remaining_time": 7.500116921,
             "test": [
              0.9913962017,
              0.01357542955
             ]
            },
            {
             "iteration": 837,
             "learn": [
              0.0158731033
             ],
             "passed_time": 69.820439,
             "remaining_time": 7.41529722,
             "test": [
              0.9913991181,
              0.01357381013
             ]
            },
            {
             "iteration": 838,
             "learn": [
              0.01586972015
             ],
             "passed_time": 70.0953375,
             "remaining_time": 7.35207354,
             "test": [
              0.9914015958,
              0.01357177072
             ]
            },
            {
             "iteration": 839,
             "learn": [
              0.01586737603
             ],
             "passed_time": 70.16001077,
             "remaining_time": 7.266572544,
             "test": [
              0.9914044675,
              0.01357075052
             ]
            },
            {
             "iteration": 840,
             "learn": [
              0.01586676422
             ],
             "passed_time": 70.24344556,
             "remaining_time": 7.183039617,
             "test": [
              0.991404906,
              0.01357022651
             ]
            },
            {
             "iteration": 841,
             "learn": [
              0.01586440625
             ],
             "passed_time": 70.30815812,
             "remaining_time": 7.097616913,
             "test": [
              0.9914055485,
              0.01356922213
             ]
            },
            {
             "iteration": 842,
             "learn": [
              0.01586133042
             ],
             "passed_time": 70.37241411,
             "remaining_time": 7.012197847,
             "test": [
              0.9914055513,
              0.01356810722
             ]
            },
            {
             "iteration": 843,
             "learn": [
              0.01586063812
             ],
             "passed_time": 70.45920023,
             "remaining_time": 6.929044573,
             "test": [
              0.9914064536,
              0.01356746185
             ]
            },
            {
             "iteration": 844,
             "learn": [
              0.01585943474
             ],
             "passed_time": 70.52978452,
             "remaining_time": 6.844310451,
             "test": [
              0.9914071687,
              0.01356694248
             ]
            },
            {
             "iteration": 845,
             "learn": [
              0.01585785866
             ],
             "passed_time": 70.61028635,
             "remaining_time": 6.760559332,
             "test": [
              0.9914076855,
              0.01356662957
             ]
            },
            {
             "iteration": 846,
             "learn": [
              0.01585408508
             ],
             "passed_time": 70.70502764,
             "remaining_time": 6.678160816,
             "test": [
              0.9914097275,
              0.01356502241
             ]
            },
            {
             "iteration": 847,
             "learn": [
              0.01585119746
             ],
             "passed_time": 70.7804162,
             "remaining_time": 6.593930283,
             "test": [
              0.9914119259,
              0.01356400834
             ]
            },
            {
             "iteration": 848,
             "learn": [
              0.01585041691
             ],
             "passed_time": 70.87604383,
             "remaining_time": 6.511579999,
             "test": [
              0.9914136914,
              0.0135631539
             ]
            },
            {
             "iteration": 849,
             "learn": [
              0.01584952155
             ],
             "passed_time": 70.96691322,
             "remaining_time": 6.428767433,
             "test": [
              0.9914128338,
              0.01356272254
             ]
            },
            {
             "iteration": 850,
             "learn": [
              0.0158466669
             ],
             "passed_time": 71.04226828,
             "remaining_time": 6.344550398,
             "test": [
              0.9914125572,
              0.01356146209
             ]
            },
            {
             "iteration": 851,
             "learn": [
              0.0158437553
             ],
             "passed_time": 71.12283374,
             "remaining_time": 6.26081283,
             "test": [
              0.9914124902,
              0.01356044463
             ]
            },
            {
             "iteration": 852,
             "learn": [
              0.01584168752
             ],
             "passed_time": 71.2024446,
             "remaining_time": 6.176999883,
             "test": [
              0.9914115293,
              0.0135599293
             ]
            },
            {
             "iteration": 853,
             "learn": [
              0.01583911955
             ],
             "passed_time": 71.26481452,
             "remaining_time": 6.091723021,
             "test": [
              0.9914106968,
              0.01355892925
             ]
            },
            {
             "iteration": 854,
             "learn": [
              0.01583702753
             ],
             "passed_time": 71.3529211,
             "remaining_time": 6.00866704,
             "test": [
              0.9914145182,
              0.01355770126
             ]
            },
            {
             "iteration": 855,
             "learn": [
              0.01583628113
             ],
             "passed_time": 71.41428935,
             "remaining_time": 5.923381477,
             "test": [
              0.9914141495,
              0.01355684177
             ]
            },
            {
             "iteration": 856,
             "learn": [
              0.01583428893
             ],
             "passed_time": 71.47743426,
             "remaining_time": 5.838296848,
             "test": [
              0.9914156663,
              0.01355597222
             ]
            },
            {
             "iteration": 857,
             "learn": [
              0.01583089573
             ],
             "passed_time": 71.57787754,
             "remaining_time": 5.756262879,
             "test": [
              0.9914128114,
              0.01355500781
             ]
            },
            {
             "iteration": 858,
             "learn": [
              0.01582904417
             ],
             "passed_time": 71.64024697,
             "remaining_time": 5.671172054,
             "test": [
              0.9914206386,
              0.01355078919
             ]
            },
            {
             "iteration": 859,
             "learn": [
              0.01582781239
             ],
             "passed_time": 71.72008228,
             "remaining_time": 5.587494783,
             "test": [
              0.9914220213,
              0.0135476431
             ]
            },
            {
             "iteration": 860,
             "learn": [
              0.01582362116
             ],
             "passed_time": 71.79006387,
             "remaining_time": 5.503071098,
             "test": [
              0.991423446,
              0.01354604629
             ]
            },
            {
             "iteration": 861,
             "learn": [
              0.01581973526
             ],
             "passed_time": 71.86247339,
             "remaining_time": 5.418864003,
             "test": [
              0.9914250718,
              0.01354442737
             ]
            },
            {
             "iteration": 862,
             "learn": [
              0.01581875254
             ],
             "passed_time": 71.94675188,
             "remaining_time": 5.33556445,
             "test": [
              0.991425921,
              0.01354310753
             ]
            },
            {
             "iteration": 863,
             "learn": [
              0.01581858909
             ],
             "passed_time": 72.01309206,
             "remaining_time": 5.250954629,
             "test": [
              0.9914258567,
              0.01354303488
             ]
            },
            {
             "iteration": 864,
             "learn": [
              0.0158156977
             ],
             "passed_time": 72.07645117,
             "remaining_time": 5.166173379,
             "test": [
              0.9914244153,
              0.01354231529
             ]
            },
            {
             "iteration": 865,
             "learn": [
              0.01581046539
             ],
             "passed_time": 72.18362768,
             "remaining_time": 5.084528047,
             "test": [
              0.991427083,
              0.01353824054
             ]
            },
            {
             "iteration": 866,
             "learn": [
              0.01580901589
             ],
             "passed_time": 72.28537293,
             "remaining_time": 5.002447954,
             "test": [
              0.9914263232,
              0.01353748969
             ]
            },
            {
             "iteration": 867,
             "learn": [
              0.01580794689
             ],
             "passed_time": 72.38358708,
             "remaining_time": 4.920082532,
             "test": [
              0.9914264182,
              0.01353670183
             ]
            },
            {
             "iteration": 868,
             "learn": [
              0.01580295971
             ],
             "passed_time": 72.44806687,
             "remaining_time": 4.835429089,
             "test": [
              0.9914291921,
              0.01353285123
             ]
            },
            {
             "iteration": 869,
             "learn": [
              0.01580211658
             ],
             "passed_time": 72.51172211,
             "remaining_time": 4.750768,
             "test": [
              0.9914279155,
              0.01353244403
             ]
            },
            {
             "iteration": 870,
             "learn": [
              0.01579937894
             ],
             "passed_time": 72.58854934,
             "remaining_time": 4.667002024,
             "test": [
              0.9914278037,
              0.0135315235
             ]
            },
            {
             "iteration": 871,
             "learn": [
              0.01579650775
             ],
             "passed_time": 72.67344923,
             "remaining_time": 4.583761132,
             "test": [
              0.9914320469,
              0.01352874055
             ]
            },
            {
             "iteration": 872,
             "learn": [
              0.01579391266
             ],
             "passed_time": 72.73898197,
             "remaining_time": 4.499318473,
             "test": [
              0.9914360192,
              0.0135262196
             ]
            },
            {
             "iteration": 873,
             "learn": [
              0.0157913132
             ],
             "passed_time": 72.79891347,
             "remaining_time": 4.414579421,
             "test": [
              0.9914359857,
              0.01352538087
             ]
            },
            {
             "iteration": 874,
             "learn": [
              0.01578888539
             ],
             "passed_time": 72.8795573,
             "remaining_time": 4.331127977,
             "test": [
              0.9914369466,
              0.01352356903
             ]
            },
            {
             "iteration": 875,
             "learn": [
              0.01578664037
             ],
             "passed_time": 72.94582395,
             "remaining_time": 4.246845915,
             "test": [
              0.9914352231,
              0.01352112161
             ]
            },
            {
             "iteration": 876,
             "learn": [
              0.01578445614
             ],
             "passed_time": 73.0407395,
             "remaining_time": 4.164238284,
             "test": [
              0.9914375081,
              0.01351923309
             ]
            },
            {
             "iteration": 877,
             "learn": [
              0.01578137028
             ],
             "passed_time": 73.13927888,
             "remaining_time": 4.081804858,
             "test": [
              0.9914386282,
              0.01351788272
             ]
            },
            {
             "iteration": 878,
             "learn": [
              0.01577991595
             ],
             "passed_time": 73.26279465,
             "remaining_time": 4.000698684,
             "test": [
              0.9914384271,
              0.01351726829
             ]
            },
            {
             "iteration": 879,
             "learn": [
              0.01577713329
             ],
             "passed_time": 73.33072517,
             "remaining_time": 3.916527367,
             "test": [
              0.9914405194,
              0.01351562364
             ]
            },
            {
             "iteration": 880,
             "learn": [
              0.01577562045
             ],
             "passed_time": 73.4136498,
             "remaining_time": 3.833175812,
             "test": [
              0.991441268,
              0.01351499659
             ]
            },
            {
             "iteration": 881,
             "learn": [
              0.01577470385
             ],
             "passed_time": 73.50998274,
             "remaining_time": 3.750509323,
             "test": [
              0.9914419245,
              0.01351406205
             ]
            },
            {
             "iteration": 882,
             "learn": [
              0.0157738278
             ],
             "passed_time": 73.58605719,
             "remaining_time": 3.666802397,
             "test": [
              0.9914424888,
              0.01351458646
             ]
            },
            {
             "iteration": 883,
             "learn": [
              0.01576819116
             ],
             "passed_time": 73.69124401,
             "remaining_time": 3.584528837,
             "test": [
              0.9914708113,
              0.01350228519
             ]
            },
            {
             "iteration": 884,
             "learn": [
              0.01576798207
             ],
             "passed_time": 73.77021807,
             "remaining_time": 3.500959502,
             "test": [
              0.9914708001,
              0.01350210065
             ]
            },
            {
             "iteration": 885,
             "learn": [
              0.01576783959
             ],
             "passed_time": 73.8706308,
             "remaining_time": 3.418392622,
             "test": [
              0.9914713811,
              0.01350197838
             ]
            },
            {
             "iteration": 886,
             "learn": [
              0.01576536642
             ],
             "passed_time": 73.93824823,
             "remaining_time": 3.334306572,
             "test": [
              0.9914713895,
              0.01350122612
             ]
            },
            {
             "iteration": 887,
             "learn": [
              0.01576402211
             ],
             "passed_time": 74.01242565,
             "remaining_time": 3.250545721,
             "test": [
              0.9914704761,
              0.01350023951
             ]
            },
            {
             "iteration": 888,
             "learn": [
              0.01576107637
             ],
             "passed_time": 74.08447047,
             "remaining_time": 3.166715273,
             "test": [
              0.9914728169,
              0.01349879143
             ]
            },
            {
             "iteration": 889,
             "learn": [
              0.01575897443
             ],
             "passed_time": 74.19317762,
             "remaining_time": 3.084435474,
             "test": [
              0.9914739762,
              0.01349711473
             ]
            },
            {
             "iteration": 890,
             "learn": [
              0.01575698184
             ],
             "passed_time": 74.2636296,
             "remaining_time": 3.000550691,
             "test": [
              0.9914805715,
              0.01349521804
             ]
            },
            {
             "iteration": 891,
             "learn": [
              0.01575230554
             ],
             "passed_time": 74.32853065,
             "remaining_time": 2.916478221,
             "test": [
              0.9914824543,
              0.01349158022
             ]
            },
            {
             "iteration": 892,
             "learn": [
              0.01575216106
             ],
             "passed_time": 74.40268535,
             "remaining_time": 2.83280101,
             "test": [
              0.9914828509,
              0.01349143853
             ]
            },
            {
             "iteration": 893,
             "learn": [
              0.01574933781
             ],
             "passed_time": 74.48942964,
             "remaining_time": 2.749609819,
             "test": [
              0.9914845298,
              0.01349006016
             ]
            },
            {
             "iteration": 894,
             "learn": [
              0.01574803307
             ],
             "passed_time": 74.56551436,
             "remaining_time": 2.666029564,
             "test": [
              0.9914844711,
              0.01348943172
             ]
            },
            {
             "iteration": 895,
             "learn": [
              0.015742667
             ],
             "passed_time": 74.63595214,
             "remaining_time": 2.582270665,
             "test": [
              0.9915114109,
              0.01347752725
             ]
            },
            {
             "iteration": 896,
             "learn": [
              0.01574141979
             ],
             "passed_time": 74.69833308,
             "remaining_time": 2.498272009,
             "test": [
              0.9915110924,
              0.01347694787
             ]
            },
            {
             "iteration": 897,
             "learn": [
              0.01573932125
             ],
             "passed_time": 74.78565303,
             "remaining_time": 2.41512688,
             "test": [
              0.9915126093,
              0.01347513107
             ]
            },
            {
             "iteration": 898,
             "learn": [
              0.01573481351
             ],
             "passed_time": 74.86425387,
             "remaining_time": 2.331700899,
             "test": [
              0.9915177519,
              0.01347188158
             ]
            },
            {
             "iteration": 899,
             "learn": [
              0.01573453221
             ],
             "passed_time": 74.93214404,
             "remaining_time": 2.247964321,
             "test": [
              0.9915177464,
              0.0134716968
             ]
            },
            {
             "iteration": 900,
             "learn": [
              0.01573137921
             ],
             "passed_time": 75.00128598,
             "remaining_time": 2.16429904,
             "test": [
              0.9915152379,
              0.01347085043
             ]
            },
            {
             "iteration": 901,
             "learn": [
              0.01572757849
             ],
             "passed_time": 75.06918879,
             "remaining_time": 2.080631618,
             "test": [
              0.9915191878,
              0.01346881332
             ]
            },
            {
             "iteration": 902,
             "learn": [
              0.01572523238
             ],
             "passed_time": 75.14382389,
             "remaining_time": 1.997178044,
             "test": [
              0.9915191319,
              0.0134681475
             ]
            },
            {
             "iteration": 903,
             "learn": [
              0.0157226378
             ],
             "passed_time": 75.23736077,
             "remaining_time": 1.914224887,
             "test": [
              0.9915208694,
              0.01346708758
             ]
            },
            {
             "iteration": 904,
             "learn": [
              0.01572223661
             ],
             "passed_time": 75.32692989,
             "remaining_time": 1.831151887,
             "test": [
              0.9915207465,
              0.01346671447
             ]
            },
            {
             "iteration": 905,
             "learn": [
              0.01571999355
             ],
             "passed_time": 75.42077551,
             "remaining_time": 1.748163671,
             "test": [
              0.9915227354,
              0.01346470316
             ]
            },
            {
             "iteration": 906,
             "learn": [
              0.01571664743
             ],
             "passed_time": 75.483303,
             "remaining_time": 1.664460926,
             "test": [
              0.9915224002,
              0.01346312171
             ]
            },
            {
             "iteration": 907,
             "learn": [
              0.01571380845
             ],
             "passed_time": 75.56173439,
             "remaining_time": 1.581137614,
             "test": [
              0.9915252551,
              0.0134610844
             ]
            },
            {
             "iteration": 908,
             "learn": [
              0.01571111776
             ],
             "passed_time": 75.62444225,
             "remaining_time": 1.497513708,
             "test": [
              0.9915277803,
              0.01345915488
             ]
            },
            {
             "iteration": 909,
             "learn": [
              0.01570752082
             ],
             "passed_time": 75.71047358,
             "remaining_time": 1.414371484,
             "test": [
              0.9915295346,
              0.01345780942
             ]
            },
            {
             "iteration": 910,
             "learn": [
              0.01570624096
             ],
             "passed_time": 75.80079429,
             "remaining_time": 1.331298253,
             "test": [
              0.9915295402,
              0.01345739043
             ]
            },
            {
             "iteration": 911,
             "learn": [
              0.01570381577
             ],
             "passed_time": 75.90816918,
             "remaining_time": 1.248489625,
             "test": [
              0.9915317274,
              0.01345534626
             ]
            },
            {
             "iteration": 912,
             "learn": [
              0.01569950193
             ],
             "passed_time": 76.00693523,
             "remaining_time": 1.165495173,
             "test": [
              0.9915533374,
              0.0134447375
             ]
            },
            {
             "iteration": 913,
             "learn": [
              0.01569901906
             ],
             "passed_time": 76.10072827,
             "remaining_time": 1.082395479,
             "test": [
              0.9915540846,
              0.01344432845
             ]
            },
            {
             "iteration": 914,
             "learn": [
              0.01569690144
             ],
             "passed_time": 76.18781087,
             "remaining_time": 0.9991844049,
             "test": [
              0.9915563082,
              0.01344243285
             ]
            },
            {
             "iteration": 915,
             "learn": [
              0.01569602267
             ],
             "passed_time": 76.27337244,
             "remaining_time": 0.9159466123,
             "test": [
              0.9915575177,
              0.01344120683
             ]
            },
            {
             "iteration": 916,
             "learn": [
              0.01569528582
             ],
             "passed_time": 76.34536153,
             "remaining_time": 0.8325557419,
             "test": [
              0.9915577552,
              0.01344172592
             ]
            },
            {
             "iteration": 917,
             "learn": [
              0.01569416008
             ],
             "passed_time": 76.44956463,
             "remaining_time": 0.7495055356,
             "test": [
              0.9915556154,
              0.01344085787
             ]
            },
            {
             "iteration": 918,
             "learn": [
              0.01569199432
             ],
             "passed_time": 76.51423621,
             "remaining_time": 0.6660651683,
             "test": [
              0.9915573138,
              0.01343893443
             ]
            },
            {
             "iteration": 919,
             "learn": [
              0.01568976614
             ],
             "passed_time": 76.58153927,
             "remaining_time": 0.5826856249,
             "test": [
              0.9915573166,
              0.01343830527
             ]
            },
            {
             "iteration": 920,
             "learn": [
              0.01568763939
             ],
             "passed_time": 76.64114944,
             "remaining_time": 0.4992908758,
             "test": [
              0.9915572663,
              0.01343773364
             ]
            },
            {
             "iteration": 921,
             "learn": [
              0.01568287696
             ],
             "passed_time": 76.7254376,
             "remaining_time": 0.4160815488,
             "test": [
              0.9915666355,
              0.01343245323
             ]
            },
            {
             "iteration": 922,
             "learn": [
              0.01567824397
             ],
             "passed_time": 76.80904094,
             "remaining_time": 0.3328669163,
             "test": [
              0.9915689261,
              0.01342738613
             ]
            },
            {
             "iteration": 923,
             "learn": [
              0.01567606749
             ],
             "passed_time": 76.89272773,
             "remaining_time": 0.2496517134,
             "test": [
              0.9915696523,
              0.01342541707
             ]
            },
            {
             "iteration": 924,
             "learn": [
              0.01567293984
             ],
             "passed_time": 76.97489895,
             "remaining_time": 0.1664322139,
             "test": [
              0.9915692222,
              0.01342395509
             ]
            },
            {
             "iteration": 925,
             "learn": [
              0.01567040301
             ],
             "passed_time": 77.03774401,
             "remaining_time": 0.083194108,
             "test": [
              0.9915719066,
              0.01342212288
             ]
            },
            {
             "iteration": 926,
             "learn": [
              0.01566897968
             ],
             "passed_time": 77.12196769,
             "remaining_time": 0,
             "test": [
              0.9915726637,
              0.01342154907
             ]
            }
           ],
           "meta": {
            "iteration_count": 927,
            "launch_mode": "Train",
            "learn_metrics": [
             {
              "best_value": "Min",
              "name": "Logloss"
             }
            ],
            "learn_sets": [
             "learn"
            ],
            "name": "experiment",
            "parameters": "",
            "test_metrics": [
             {
              "best_value": "Max",
              "name": "AUC"
             },
             {
              "best_value": "Min",
              "name": "Logloss"
             }
            ],
            "test_sets": [
             "test"
            ]
           }
          },
          "passed_iterations": 926,
          "total_iterations": 927
         },
         "name": "catboost_info",
         "path": "catboost_info"
        }
       },
       "layout": "IPY_MODEL_35921b3ce0804d69ac274e0b391a622c"
      }
     }
    },
    "version_major": 2,
    "version_minor": 0
   }
  }
 },
 "nbformat": 4,
 "nbformat_minor": 5
}
